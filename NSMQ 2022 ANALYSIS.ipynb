{
 "cells": [
  {
   "cell_type": "markdown",
   "id": "cbb73663",
   "metadata": {},
   "source": [
    "### ANALYSIS OF THE 2022 NATIONAL SCIENCE AND MATHS QUIZ"
   ]
  },
  {
   "cell_type": "code",
   "execution_count": 1,
   "id": "0dd9adf5",
   "metadata": {},
   "outputs": [],
   "source": [
    "##### Importing Libraries \n",
    "import pandas as pd\n",
    "import numpy as np\n",
    "import matplotlib.pyplot as plt "
   ]
  },
  {
   "cell_type": "code",
   "execution_count": 2,
   "id": "43368c5e",
   "metadata": {},
   "outputs": [
    {
     "data": {
      "text/html": [
       "<div>\n",
       "<style scoped>\n",
       "    .dataframe tbody tr th:only-of-type {\n",
       "        vertical-align: middle;\n",
       "    }\n",
       "\n",
       "    .dataframe tbody tr th {\n",
       "        vertical-align: top;\n",
       "    }\n",
       "\n",
       "    .dataframe thead th {\n",
       "        text-align: right;\n",
       "    }\n",
       "</style>\n",
       "<table border=\"1\" class=\"dataframe\">\n",
       "  <thead>\n",
       "    <tr style=\"text-align: right;\">\n",
       "      <th></th>\n",
       "      <th>Schools</th>\n",
       "      <th>Region</th>\n",
       "      <th>Category</th>\n",
       "      <th>Gender</th>\n",
       "      <th>Seeded(Y/N)</th>\n",
       "      <th>1/8th_Round(W/E)</th>\n",
       "      <th>1/8th_round_points</th>\n",
       "      <th>Quarter_final(W/E)</th>\n",
       "      <th>Quarter_final_points</th>\n",
       "      <th>Semi_final(W/E)</th>\n",
       "      <th>Semi_final_points</th>\n",
       "      <th>Final</th>\n",
       "      <th>Final_points</th>\n",
       "      <th>Total_points</th>\n",
       "      <th>Year</th>\n",
       "    </tr>\n",
       "  </thead>\n",
       "  <tbody>\n",
       "    <tr>\n",
       "      <th>0</th>\n",
       "      <td>Bolgatanga SHS</td>\n",
       "      <td>Upper East</td>\n",
       "      <td>A</td>\n",
       "      <td>Mixed</td>\n",
       "      <td>Y</td>\n",
       "      <td>E</td>\n",
       "      <td>3</td>\n",
       "      <td>NaN</td>\n",
       "      <td>NaN</td>\n",
       "      <td>NaN</td>\n",
       "      <td>NaN</td>\n",
       "      <td>NaN</td>\n",
       "      <td>NaN</td>\n",
       "      <td>3</td>\n",
       "      <td>2022</td>\n",
       "    </tr>\n",
       "    <tr>\n",
       "      <th>1</th>\n",
       "      <td>Osei Kyeretwie SHS</td>\n",
       "      <td>Ashanti</td>\n",
       "      <td>B</td>\n",
       "      <td>Mixed</td>\n",
       "      <td>N</td>\n",
       "      <td>W</td>\n",
       "      <td>38</td>\n",
       "      <td>E</td>\n",
       "      <td>50.0</td>\n",
       "      <td>NaN</td>\n",
       "      <td>NaN</td>\n",
       "      <td>NaN</td>\n",
       "      <td>NaN</td>\n",
       "      <td>88</td>\n",
       "      <td>2022</td>\n",
       "    </tr>\n",
       "    <tr>\n",
       "      <th>2</th>\n",
       "      <td>Yaa Asantewaa Girls' SHS</td>\n",
       "      <td>Ashanti</td>\n",
       "      <td>A</td>\n",
       "      <td>Girls</td>\n",
       "      <td>N</td>\n",
       "      <td>E</td>\n",
       "      <td>24</td>\n",
       "      <td>NaN</td>\n",
       "      <td>NaN</td>\n",
       "      <td>NaN</td>\n",
       "      <td>NaN</td>\n",
       "      <td>NaN</td>\n",
       "      <td>NaN</td>\n",
       "      <td>24</td>\n",
       "      <td>2022</td>\n",
       "    </tr>\n",
       "    <tr>\n",
       "      <th>3</th>\n",
       "      <td>St.Loius SHS</td>\n",
       "      <td>Ashanti</td>\n",
       "      <td>A</td>\n",
       "      <td>Girls</td>\n",
       "      <td>Y</td>\n",
       "      <td>E</td>\n",
       "      <td>21</td>\n",
       "      <td>NaN</td>\n",
       "      <td>NaN</td>\n",
       "      <td>NaN</td>\n",
       "      <td>NaN</td>\n",
       "      <td>NaN</td>\n",
       "      <td>NaN</td>\n",
       "      <td>21</td>\n",
       "      <td>2022</td>\n",
       "    </tr>\n",
       "    <tr>\n",
       "      <th>4</th>\n",
       "      <td>Ghanata SHS</td>\n",
       "      <td>Greater Accra</td>\n",
       "      <td>B</td>\n",
       "      <td>Mixed</td>\n",
       "      <td>N</td>\n",
       "      <td>W</td>\n",
       "      <td>28</td>\n",
       "      <td>E</td>\n",
       "      <td>36.0</td>\n",
       "      <td>NaN</td>\n",
       "      <td>NaN</td>\n",
       "      <td>NaN</td>\n",
       "      <td>NaN</td>\n",
       "      <td>64</td>\n",
       "      <td>2022</td>\n",
       "    </tr>\n",
       "    <tr>\n",
       "      <th>...</th>\n",
       "      <td>...</td>\n",
       "      <td>...</td>\n",
       "      <td>...</td>\n",
       "      <td>...</td>\n",
       "      <td>...</td>\n",
       "      <td>...</td>\n",
       "      <td>...</td>\n",
       "      <td>...</td>\n",
       "      <td>...</td>\n",
       "      <td>...</td>\n",
       "      <td>...</td>\n",
       "      <td>...</td>\n",
       "      <td>...</td>\n",
       "      <td>...</td>\n",
       "      <td>...</td>\n",
       "    </tr>\n",
       "    <tr>\n",
       "      <th>76</th>\n",
       "      <td>Koforidua Sec.Tech</td>\n",
       "      <td>Eastern</td>\n",
       "      <td>A</td>\n",
       "      <td>Mixed</td>\n",
       "      <td>N</td>\n",
       "      <td>E</td>\n",
       "      <td>30</td>\n",
       "      <td>NaN</td>\n",
       "      <td>NaN</td>\n",
       "      <td>NaN</td>\n",
       "      <td>NaN</td>\n",
       "      <td>NaN</td>\n",
       "      <td>NaN</td>\n",
       "      <td>30</td>\n",
       "      <td>2022</td>\n",
       "    </tr>\n",
       "    <tr>\n",
       "      <th>77</th>\n",
       "      <td>Acherensua SHS</td>\n",
       "      <td>Ahafo</td>\n",
       "      <td>A</td>\n",
       "      <td>Mixed</td>\n",
       "      <td>N</td>\n",
       "      <td>E</td>\n",
       "      <td>1</td>\n",
       "      <td>NaN</td>\n",
       "      <td>NaN</td>\n",
       "      <td>NaN</td>\n",
       "      <td>NaN</td>\n",
       "      <td>NaN</td>\n",
       "      <td>NaN</td>\n",
       "      <td>1</td>\n",
       "      <td>2022</td>\n",
       "    </tr>\n",
       "    <tr>\n",
       "      <th>78</th>\n",
       "      <td>OLA SHS, Ho</td>\n",
       "      <td>Volta</td>\n",
       "      <td>A</td>\n",
       "      <td>Girls</td>\n",
       "      <td>Y</td>\n",
       "      <td>E</td>\n",
       "      <td>18</td>\n",
       "      <td>NaN</td>\n",
       "      <td>NaN</td>\n",
       "      <td>NaN</td>\n",
       "      <td>NaN</td>\n",
       "      <td>NaN</td>\n",
       "      <td>NaN</td>\n",
       "      <td>18</td>\n",
       "      <td>2022</td>\n",
       "    </tr>\n",
       "    <tr>\n",
       "      <th>79</th>\n",
       "      <td>Adventist SHS, Bantama</td>\n",
       "      <td>Ashanti</td>\n",
       "      <td>B</td>\n",
       "      <td>Mixed</td>\n",
       "      <td>N</td>\n",
       "      <td>W</td>\n",
       "      <td>51</td>\n",
       "      <td>E</td>\n",
       "      <td>31.0</td>\n",
       "      <td>NaN</td>\n",
       "      <td>NaN</td>\n",
       "      <td>NaN</td>\n",
       "      <td>NaN</td>\n",
       "      <td>82</td>\n",
       "      <td>2022</td>\n",
       "    </tr>\n",
       "    <tr>\n",
       "      <th>80</th>\n",
       "      <td>Tarkwa SHS</td>\n",
       "      <td>Western</td>\n",
       "      <td>B</td>\n",
       "      <td>Mixed</td>\n",
       "      <td>N</td>\n",
       "      <td>E</td>\n",
       "      <td>30</td>\n",
       "      <td>NaN</td>\n",
       "      <td>NaN</td>\n",
       "      <td>NaN</td>\n",
       "      <td>NaN</td>\n",
       "      <td>NaN</td>\n",
       "      <td>NaN</td>\n",
       "      <td>30</td>\n",
       "      <td>2022</td>\n",
       "    </tr>\n",
       "  </tbody>\n",
       "</table>\n",
       "<p>81 rows × 15 columns</p>\n",
       "</div>"
      ],
      "text/plain": [
       "                     Schools         Region Category Gender Seeded(Y/N)  \\\n",
       "0             Bolgatanga SHS     Upper East        A  Mixed           Y   \n",
       "1         Osei Kyeretwie SHS        Ashanti        B  Mixed           N   \n",
       "2   Yaa Asantewaa Girls' SHS        Ashanti        A  Girls           N   \n",
       "3               St.Loius SHS        Ashanti        A  Girls           Y   \n",
       "4                Ghanata SHS  Greater Accra        B  Mixed           N   \n",
       "..                       ...            ...      ...    ...         ...   \n",
       "76        Koforidua Sec.Tech        Eastern        A  Mixed           N   \n",
       "77            Acherensua SHS          Ahafo        A  Mixed           N   \n",
       "78               OLA SHS, Ho          Volta        A  Girls           Y   \n",
       "79    Adventist SHS, Bantama        Ashanti        B  Mixed           N   \n",
       "80                Tarkwa SHS        Western        B  Mixed           N   \n",
       "\n",
       "   1/8th_Round(W/E)  1/8th_round_points Quarter_final(W/E)  \\\n",
       "0                 E                   3                NaN   \n",
       "1                 W                  38                  E   \n",
       "2                 E                  24                NaN   \n",
       "3                 E                  21                NaN   \n",
       "4                 W                  28                  E   \n",
       "..              ...                 ...                ...   \n",
       "76                E                  30                NaN   \n",
       "77                E                   1                NaN   \n",
       "78                E                  18                NaN   \n",
       "79                W                  51                  E   \n",
       "80                E                  30                NaN   \n",
       "\n",
       "    Quarter_final_points Semi_final(W/E)  Semi_final_points Final  \\\n",
       "0                    NaN             NaN                NaN   NaN   \n",
       "1                   50.0             NaN                NaN   NaN   \n",
       "2                    NaN             NaN                NaN   NaN   \n",
       "3                    NaN             NaN                NaN   NaN   \n",
       "4                   36.0             NaN                NaN   NaN   \n",
       "..                   ...             ...                ...   ...   \n",
       "76                   NaN             NaN                NaN   NaN   \n",
       "77                   NaN             NaN                NaN   NaN   \n",
       "78                   NaN             NaN                NaN   NaN   \n",
       "79                  31.0             NaN                NaN   NaN   \n",
       "80                   NaN             NaN                NaN   NaN   \n",
       "\n",
       "    Final_points  Total_points  Year  \n",
       "0            NaN             3  2022  \n",
       "1            NaN            88  2022  \n",
       "2            NaN            24  2022  \n",
       "3            NaN            21  2022  \n",
       "4            NaN            64  2022  \n",
       "..           ...           ...   ...  \n",
       "76           NaN            30  2022  \n",
       "77           NaN             1  2022  \n",
       "78           NaN            18  2022  \n",
       "79           NaN            82  2022  \n",
       "80           NaN            30  2022  \n",
       "\n",
       "[81 rows x 15 columns]"
      ]
     },
     "execution_count": 2,
     "metadata": {},
     "output_type": "execute_result"
    }
   ],
   "source": [
    "#### Importing data set\n",
    "nsmq_2022 = pd.read_excel('NSMQ.xlsx')\n",
    "nsmq_2022"
   ]
  },
  {
   "cell_type": "markdown",
   "id": "cfad5b5e",
   "metadata": {},
   "source": [
    "### General Analysis"
   ]
  },
  {
   "cell_type": "code",
   "execution_count": 3,
   "id": "dd98e65d",
   "metadata": {},
   "outputs": [
    {
     "data": {
      "text/plain": [
       "(81, 15)"
      ]
     },
     "execution_count": 3,
     "metadata": {},
     "output_type": "execute_result"
    }
   ],
   "source": [
    "### Checking the number of columns and rows \n",
    "nsmq_2022.shape"
   ]
  },
  {
   "cell_type": "markdown",
   "id": "1407fc61",
   "metadata": {},
   "source": [
    "There are a total of 81 rows and 15 columns "
   ]
  },
  {
   "cell_type": "code",
   "execution_count": 4,
   "id": "8a2eb5dd",
   "metadata": {},
   "outputs": [
    {
     "name": "stdout",
     "output_type": "stream",
     "text": [
      "<class 'pandas.core.frame.DataFrame'>\n",
      "RangeIndex: 81 entries, 0 to 80\n",
      "Data columns (total 15 columns):\n",
      " #   Column                Non-Null Count  Dtype  \n",
      "---  ------                --------------  -----  \n",
      " 0   Schools               81 non-null     object \n",
      " 1   Region                81 non-null     object \n",
      " 2   Category              81 non-null     object \n",
      " 3   Gender                81 non-null     object \n",
      " 4   Seeded(Y/N)           81 non-null     object \n",
      " 5   1/8th_Round(W/E)      81 non-null     object \n",
      " 6   1/8th_round_points    81 non-null     int64  \n",
      " 7   Quarter_final(W/E)    27 non-null     object \n",
      " 8   Quarter_final_points  27 non-null     float64\n",
      " 9   Semi_final(W/E)       9 non-null      object \n",
      " 10  Semi_final_points     9 non-null      float64\n",
      " 11  Final                 3 non-null      object \n",
      " 12  Final_points          3 non-null      float64\n",
      " 13  Total_points          81 non-null     int64  \n",
      " 14  Year                  81 non-null     int64  \n",
      "dtypes: float64(3), int64(3), object(9)\n",
      "memory usage: 9.6+ KB\n"
     ]
    }
   ],
   "source": [
    "### Checking the type of data \n",
    "nsmq_2022.info()"
   ]
  },
  {
   "cell_type": "code",
   "execution_count": 5,
   "id": "2473f324",
   "metadata": {},
   "outputs": [
    {
     "data": {
      "text/plain": [
       "Schools                  0\n",
       "Region                   0\n",
       "Category                 0\n",
       "Gender                   0\n",
       "Seeded(Y/N)              0\n",
       "1/8th_Round(W/E)         0\n",
       "1/8th_round_points       0\n",
       "Quarter_final(W/E)      54\n",
       "Quarter_final_points    54\n",
       "Semi_final(W/E)         72\n",
       "Semi_final_points       72\n",
       "Final                   78\n",
       "Final_points            78\n",
       "Total_points             0\n",
       "Year                     0\n",
       "dtype: int64"
      ]
     },
     "execution_count": 5,
     "metadata": {},
     "output_type": "execute_result"
    }
   ],
   "source": [
    "### Checking if there are null values in the dataset\n",
    "nsmq_2022.isnull().sum()"
   ]
  },
  {
   "cell_type": "markdown",
   "id": "06870c68",
   "metadata": {},
   "source": [
    "It can be seen that '1/8th_Round(W/E)', '1/8th_round_points', 'Quarter_final(W/E)','Quarter_final_points', 'Semi_final(W/E)', 'Semi_final_points', 'Final','Final_points' have null values and this is because some school did not participate in those rounds and thus have no corresponding points "
   ]
  },
  {
   "cell_type": "markdown",
   "id": "aeef5cd7",
   "metadata": {},
   "source": [
    "## Univariate Analysis"
   ]
  },
  {
   "cell_type": "markdown",
   "id": "a0950c20",
   "metadata": {},
   "source": [
    "### Schools"
   ]
  },
  {
   "cell_type": "code",
   "execution_count": 6,
   "id": "5a2b9cb5",
   "metadata": {},
   "outputs": [
    {
     "data": {
      "text/plain": [
       "Bolgatanga SHS                1\n",
       "St. Francis Xavier Jnr.Sem    1\n",
       "Asanteman SHS                 1\n",
       "Shama SHS                     1\n",
       "Presec, Legon                 1\n",
       "                             ..\n",
       "Ofori Panin SHS               1\n",
       "St.Thomas Aquinas SHS         1\n",
       "Prempeh College               1\n",
       "Nkwatia Presby SHS            1\n",
       "Tarkwa SHS                    1\n",
       "Name: Schools, Length: 81, dtype: int64"
      ]
     },
     "execution_count": 6,
     "metadata": {},
     "output_type": "execute_result"
    }
   ],
   "source": [
    "nsmq_2022.Schools.value_counts()"
   ]
  },
  {
   "cell_type": "code",
   "execution_count": 33,
   "id": "efa8c89b",
   "metadata": {},
   "outputs": [
    {
     "data": {
      "text/plain": [
       "81"
      ]
     },
     "execution_count": 33,
     "metadata": {},
     "output_type": "execute_result"
    }
   ],
   "source": [
    "### Counting the number of school that participated \n",
    "len(nsmq_2022.Schools.value_counts())"
   ]
  },
  {
   "cell_type": "markdown",
   "id": "5cbee4d8",
   "metadata": {},
   "source": [
    "A total of 81 Schools participated at the National Level of the 2022 National Science and Maths quiz"
   ]
  },
  {
   "cell_type": "markdown",
   "id": "81a75a54",
   "metadata": {},
   "source": [
    "### Region"
   ]
  },
  {
   "cell_type": "code",
   "execution_count": 34,
   "id": "094cda0c",
   "metadata": {},
   "outputs": [
    {
     "data": {
      "text/plain": [
       "12"
      ]
     },
     "execution_count": 34,
     "metadata": {},
     "output_type": "execute_result"
    }
   ],
   "source": [
    "### Counting  the Regions that participated in the competion\n",
    "len(nsmq_2022.Region.value_counts())"
   ]
  },
  {
   "cell_type": "code",
   "execution_count": 35,
   "id": "4eec1c2b",
   "metadata": {},
   "outputs": [
    {
     "data": {
      "text/plain": [
       "Ashanti          24\n",
       "Eastern          12\n",
       "Greater Accra    11\n",
       "Central           9\n",
       "Volta             8\n",
       "Western           4\n",
       "Bono              3\n",
       "Upper West        3\n",
       "Upper East        2\n",
       "Northern          2\n",
       "Bono East         2\n",
       "Ahafo             1\n",
       "Name: Region, dtype: int64"
      ]
     },
     "execution_count": 35,
     "metadata": {},
     "output_type": "execute_result"
    }
   ],
   "source": [
    "nsmq_2022.Region.value_counts()"
   ]
  },
  {
   "cell_type": "markdown",
   "id": "f4826fac",
   "metadata": {},
   "source": [
    "Currently, Ghana has 16 Regions, of which schools from 12 regions made it to the National Championship.\n",
    "Out of the 12 Regions Represented, Ashanti had the highest number of representatives leading with 24 and the least Represented Regions being the Upper East and Ahafo Regions with a single participating school each"
   ]
  },
  {
   "cell_type": "markdown",
   "id": "17c4056e",
   "metadata": {},
   "source": [
    "### Category"
   ]
  },
  {
   "cell_type": "code",
   "execution_count": 36,
   "id": "c82d217b",
   "metadata": {
    "scrolled": true
   },
   "outputs": [
    {
     "data": {
      "text/plain": [
       "3"
      ]
     },
     "execution_count": 36,
     "metadata": {},
     "output_type": "execute_result"
    }
   ],
   "source": [
    "### Counting the number of school from each Category placement \n",
    "len(nsmq_2022.Category.value_counts())"
   ]
  },
  {
   "cell_type": "code",
   "execution_count": 37,
   "id": "f3112625",
   "metadata": {},
   "outputs": [
    {
     "data": {
      "text/plain": [
       "B    36\n",
       "A    32\n",
       "C    13\n",
       "Name: Category, dtype: int64"
      ]
     },
     "execution_count": 37,
     "metadata": {},
     "output_type": "execute_result"
    }
   ],
   "source": [
    "## Category A = Highly Ranked\n",
    "## Category B = Average Ranked\n",
    "## Category C = Lowly Ranked \n",
    "nsmq_2022.Category.value_counts()"
   ]
  },
  {
   "cell_type": "markdown",
   "id": "271750f7",
   "metadata": {},
   "source": [
    "The Ghana Education Service categorised all Second cycle schools in Ghana into 3. They are Category A, B,C.\n",
    "In this year's competition, majority of the schools that participated were from Category B, followed by A and then C.\n"
   ]
  },
  {
   "cell_type": "markdown",
   "id": "1591246b",
   "metadata": {},
   "source": [
    "### Gender"
   ]
  },
  {
   "cell_type": "code",
   "execution_count": 38,
   "id": "d8bacf56",
   "metadata": {},
   "outputs": [
    {
     "data": {
      "text/plain": [
       "Mixed    55\n",
       "Boys     18\n",
       "Girls     8\n",
       "Name: Gender, dtype: int64"
      ]
     },
     "execution_count": 38,
     "metadata": {},
     "output_type": "execute_result"
    }
   ],
   "source": [
    "### Counting the type of schools based on Gender admitted into the school\n",
    "## Mixed = Both Boys and Girls \n",
    "## Boys = Boys Only \n",
    "## Girls = Girls Only\n",
    "nsmq_2022.Gender.value_counts()"
   ]
  },
  {
   "cell_type": "markdown",
   "id": "07510be5",
   "metadata": {},
   "source": [
    "Out of the 81 School that participated in this year's NSMQ, Girls only schools were the least represented with only 8 and the highest being mixed schools with 55 representatives"
   ]
  },
  {
   "cell_type": "markdown",
   "id": "ce650709",
   "metadata": {},
   "source": [
    "### Seeded(Y/N)"
   ]
  },
  {
   "cell_type": "code",
   "execution_count": 39,
   "id": "41f03104",
   "metadata": {},
   "outputs": [
    {
     "data": {
      "text/plain": [
       "N    54\n",
       "Y    27\n",
       "Name: Seeded(Y/N), dtype: int64"
      ]
     },
     "execution_count": 39,
     "metadata": {},
     "output_type": "execute_result"
    }
   ],
   "source": [
    "### Y = Yes(School got automatic qualification because they progressed from the 1/8th round)\n",
    "### N = No(School qualified through the preliminaries where the contested other schools)\n",
    "## Counting the number of schools that were seeded or not \n",
    "nsmq_2022['Seeded(Y/N)'].value_counts()"
   ]
  },
  {
   "cell_type": "markdown",
   "id": "5fbc2635",
   "metadata": {},
   "source": [
    "Of the 81 participating Schools, majority of them 54 came through the preliminaries whiles 27 got automatic qualification as a result of winning the previous year's 1/8th Round"
   ]
  },
  {
   "cell_type": "markdown",
   "id": "04a9fd88",
   "metadata": {},
   "source": [
    "### 1/8th_Round(W/E)"
   ]
  },
  {
   "cell_type": "code",
   "execution_count": 40,
   "id": "e379579e",
   "metadata": {},
   "outputs": [
    {
     "data": {
      "text/plain": [
       "E    54\n",
       "W    27\n",
       "Name: 1/8th_Round(W/E), dtype: int64"
      ]
     },
     "execution_count": 40,
     "metadata": {},
     "output_type": "execute_result"
    }
   ],
   "source": [
    "### Wiining This Round Grants The School Autoamtic Qualification Into Next Year's National Competition\n",
    "### Each Contest Consisted of 3 Schools \n",
    "### E = Elimated \n",
    "### W = Won \n",
    "## Counting the number of School that Won or got Eliminated from the 1/8th_Round\n",
    "nsmq_2022['1/8th_Round(W/E)'].value_counts()"
   ]
  },
  {
   "cell_type": "markdown",
   "id": "6fb35700",
   "metadata": {},
   "source": [
    "In the 1/8th_Round, 54 schools were elimated with 27 qualifying for the quarter_finals "
   ]
  },
  {
   "cell_type": "markdown",
   "id": "6b8e6910",
   "metadata": {},
   "source": [
    "### 1/8th_round_points"
   ]
  },
  {
   "cell_type": "code",
   "execution_count": 41,
   "id": "329a2c91",
   "metadata": {},
   "outputs": [
    {
     "data": {
      "text/plain": [
       "2516"
      ]
     },
     "execution_count": 41,
     "metadata": {},
     "output_type": "execute_result"
    }
   ],
   "source": [
    "## Calculating the total points attained by all schools in the 1/8th_round \n",
    "nsmq_2022['1/8th_round_points'].sum()"
   ]
  },
  {
   "cell_type": "markdown",
   "id": "bf87a729",
   "metadata": {},
   "source": [
    "The sum of all  points accumulated by the 81 participating schools was 2,516"
   ]
  },
  {
   "cell_type": "code",
   "execution_count": 42,
   "id": "ba896ea1",
   "metadata": {
    "scrolled": true
   },
   "outputs": [
    {
     "data": {
      "image/png": "[encoded data removed]",
      "text/plain": [
       "<Figure size 432x288 with 1 Axes>"
      ]
     },
     "metadata": {
      "needs_background": "light"
     },
     "output_type": "display_data"
    }
   ],
   "source": [
    "## Using a histogram to assess the distribution of points \n",
    "plt.hist(nsmq_2022['1/8th_round_points'],bins = 5)\n",
    "plt.show()"
   ]
  },
  {
   "cell_type": "markdown",
   "id": "f9442bbe",
   "metadata": {},
   "source": [
    "The histogram indicate the points in the 1/8th_round was almost normally distributed"
   ]
  },
  {
   "cell_type": "code",
   "execution_count": 43,
   "id": "ede8396b",
   "metadata": {},
   "outputs": [
    {
     "data": {
      "image/png": "[encoded data removed]",
      "text/plain": [
       "<Figure size 432x288 with 1 Axes>"
      ]
     },
     "metadata": {
      "needs_background": "light"
     },
     "output_type": "display_data"
    }
   ],
   "source": [
    "## using a boxplot to further assess the distribution of points \n",
    "plt.boxplot(nsmq_2022['1/8th_round_points'])\n",
    "plt.show()"
   ]
  },
  {
   "cell_type": "code",
   "execution_count": 44,
   "id": "a22440da",
   "metadata": {},
   "outputs": [
    {
     "data": {
      "text/plain": [
       "count    81.000000\n",
       "mean     31.061728\n",
       "std      13.516976\n",
       "min       1.000000\n",
       "25%      22.000000\n",
       "50%      30.000000\n",
       "75%      40.000000\n",
       "max      64.000000\n",
       "Name: 1/8th_round_points, dtype: float64"
      ]
     },
     "execution_count": 44,
     "metadata": {},
     "output_type": "execute_result"
    }
   ],
   "source": [
    "### Calulating the measures of central tendency\n",
    "nsmq_2022['1/8th_round_points'].describe()"
   ]
  },
  {
   "cell_type": "markdown",
   "id": "ed91438e",
   "metadata": {},
   "source": [
    "From the data, 50% of the 81 schools, representing 41 schools that competed in the 1/8th_round had 30 points or below with the least point obtained to be 1  and the most point obtained to be 64."
   ]
  },
  {
   "cell_type": "markdown",
   "id": "ec545731",
   "metadata": {},
   "source": [
    "### Quarter_final(W/E)"
   ]
  },
  {
   "cell_type": "code",
   "execution_count": 45,
   "id": "42db81b2",
   "metadata": {},
   "outputs": [
    {
     "data": {
      "text/plain": [
       "E    18\n",
       "W     9\n",
       "Name: Quarter_final(W/E), dtype: int64"
      ]
     },
     "execution_count": 45,
     "metadata": {},
     "output_type": "execute_result"
    }
   ],
   "source": [
    "nsmq_2022['Quarter_final(W/E)'].value_counts()"
   ]
  },
  {
   "cell_type": "markdown",
   "id": "171ab3e2",
   "metadata": {},
   "source": [
    "In the quarter finals, 18 schools were eliminated with 9 schools making it to the semi finals "
   ]
  },
  {
   "cell_type": "markdown",
   "id": "0bca6619",
   "metadata": {},
   "source": [
    "### Quarter_final_points"
   ]
  },
  {
   "cell_type": "code",
   "execution_count": 46,
   "id": "8aa0c2a7",
   "metadata": {},
   "outputs": [
    {
     "data": {
      "text/plain": [
       "1086.0"
      ]
     },
     "execution_count": 46,
     "metadata": {},
     "output_type": "execute_result"
    }
   ],
   "source": [
    "### Calculating the total points attained by all the schools in the quarter finals\n",
    "nsmq_2022['Quarter_final_points'].sum()"
   ]
  },
  {
   "cell_type": "markdown",
   "id": "e4c90aec",
   "metadata": {},
   "source": [
    "The sum of all points by the  remaining 27 schools who made it to the quarter finals was 1086\n"
   ]
  },
  {
   "cell_type": "code",
   "execution_count": 47,
   "id": "a0c5cf1c",
   "metadata": {},
   "outputs": [
    {
     "data": {
      "image/png": "[encoded data removed]",
      "text/plain": [
       "<Figure size 432x288 with 1 Axes>"
      ]
     },
     "metadata": {
      "needs_background": "light"
     },
     "output_type": "display_data"
    }
   ],
   "source": [
    "### Using a histogram to assess the distribution of points in the quarter finals \n",
    "plt.hist(nsmq_2022['Quarter_final_points'],bins = 5)\n",
    "plt.show()"
   ]
  },
  {
   "cell_type": "code",
   "execution_count": 48,
   "id": "ebf9774a",
   "metadata": {},
   "outputs": [
    {
     "data": {
      "text/plain": [
       "count    27.000000\n",
       "mean     40.222222\n",
       "std      12.968403\n",
       "min      23.000000\n",
       "25%      31.000000\n",
       "50%      40.000000\n",
       "75%      48.500000\n",
       "max      67.000000\n",
       "Name: Quarter_final_points, dtype: float64"
      ]
     },
     "execution_count": 48,
     "metadata": {},
     "output_type": "execute_result"
    }
   ],
   "source": [
    "#### Calculating the measures of central tendency in the Quarter_final_points\n",
    "nsmq_2022['Quarter_final_points'].describe()"
   ]
  },
  {
   "cell_type": "markdown",
   "id": "6f2d701e",
   "metadata": {},
   "source": [
    "In the quarter final stage, 50% of the 27 schools, representing 14 school scored 40 points or below with the most points scored in this round being 67 and the least being 23 "
   ]
  },
  {
   "cell_type": "markdown",
   "id": "dc693eaa",
   "metadata": {},
   "source": [
    "### Semi_final(W/E)"
   ]
  },
  {
   "cell_type": "code",
   "execution_count": 49,
   "id": "527a94c0",
   "metadata": {},
   "outputs": [
    {
     "data": {
      "text/plain": [
       "E    6\n",
       "W    3\n",
       "Name: Semi_final(W/E), dtype: int64"
      ]
     },
     "execution_count": 49,
     "metadata": {},
     "output_type": "execute_result"
    }
   ],
   "source": [
    "nsmq_2022['Semi_final(W/E)'].value_counts()"
   ]
  },
  {
   "cell_type": "markdown",
   "id": "febc7008",
   "metadata": {},
   "source": [
    "In the Semi_final(W/E), 6 schools were eliminated with 3 schools going into the Finals "
   ]
  },
  {
   "cell_type": "markdown",
   "id": "a6998f43",
   "metadata": {},
   "source": [
    "### Semi_final_points"
   ]
  },
  {
   "cell_type": "code",
   "execution_count": 50,
   "id": "434c9494",
   "metadata": {},
   "outputs": [
    {
     "data": {
      "text/plain": [
       "327.0"
      ]
     },
     "execution_count": 50,
     "metadata": {},
     "output_type": "execute_result"
    }
   ],
   "source": [
    "nsmq_2022['Semi_final_points'].sum()"
   ]
  },
  {
   "cell_type": "markdown",
   "id": "2c222253",
   "metadata": {},
   "source": [
    "The sum of all points earned by the 9 schools who participated in the Semi_final was 327"
   ]
  },
  {
   "cell_type": "code",
   "execution_count": 51,
   "id": "c7915ecd",
   "metadata": {},
   "outputs": [
    {
     "data": {
      "image/png": "[encoded data removed]",
      "text/plain": [
       "<Figure size 432x288 with 1 Axes>"
      ]
     },
     "metadata": {
      "needs_background": "light"
     },
     "output_type": "display_data"
    }
   ],
   "source": [
    "### Using a histogram to assess the distribution of points in the semi finals \n",
    "plt.hist(nsmq_2022['Semi_final_points'],bins = 5)\n",
    "plt.show()"
   ]
  },
  {
   "cell_type": "markdown",
   "id": "4df36f66",
   "metadata": {},
   "source": [
    "In the semi_finals , the points earned are skewed to the left"
   ]
  },
  {
   "cell_type": "code",
   "execution_count": 52,
   "id": "89339633",
   "metadata": {},
   "outputs": [
    {
     "data": {
      "text/plain": [
       "count     9.000000\n",
       "mean     36.333333\n",
       "std      13.865425\n",
       "min       8.000000\n",
       "25%      33.000000\n",
       "50%      41.000000\n",
       "75%      45.000000\n",
       "max      51.000000\n",
       "Name: Semi_final_points, dtype: float64"
      ]
     },
     "execution_count": 52,
     "metadata": {},
     "output_type": "execute_result"
    }
   ],
   "source": [
    "#### Calculating the measures of central tendency in the Semi_final_points\n",
    "nsmq_2022['Semi_final_points'].describe()"
   ]
  },
  {
   "cell_type": "markdown",
   "id": "d56c536e",
   "metadata": {},
   "source": [
    "In the Semi_final stage, 50% of the schools(5) earned 41 points or below with the least points earned being 8 and the most points earned being 51"
   ]
  },
  {
   "cell_type": "markdown",
   "id": "b6f00d43",
   "metadata": {},
   "source": [
    "### Final"
   ]
  },
  {
   "cell_type": "code",
   "execution_count": 54,
   "id": "8a0b7d99",
   "metadata": {
    "scrolled": true
   },
   "outputs": [
    {
     "data": {
      "text/plain": [
       "E    2\n",
       "W    1\n",
       "Name: Final, dtype: int64"
      ]
     },
     "execution_count": 54,
     "metadata": {},
     "output_type": "execute_result"
    }
   ],
   "source": [
    "nsmq_2022.Final.value_counts()"
   ]
  },
  {
   "cell_type": "markdown",
   "id": "a105497c",
   "metadata": {},
   "source": [
    "### Final_points"
   ]
  },
  {
   "cell_type": "code",
   "execution_count": 93,
   "id": "8da24e1c",
   "metadata": {},
   "outputs": [
    {
     "data": {
      "text/plain": [
       "123.0"
      ]
     },
     "execution_count": 93,
     "metadata": {},
     "output_type": "execute_result"
    }
   ],
   "source": [
    "nsmq_2022['Final_points'].sum()"
   ]
  },
  {
   "cell_type": "code",
   "execution_count": 55,
   "id": "45e3df82",
   "metadata": {
    "scrolled": true
   },
   "outputs": [
    {
     "data": {
      "text/plain": [
       "count     3.0\n",
       "mean     41.0\n",
       "std       9.0\n",
       "min      32.0\n",
       "25%      36.5\n",
       "50%      41.0\n",
       "75%      45.5\n",
       "max      50.0\n",
       "Name: Final_points, dtype: float64"
      ]
     },
     "execution_count": 55,
     "metadata": {},
     "output_type": "execute_result"
    }
   ],
   "source": [
    "nsmq_2022['Final_points'].describe()"
   ]
  },
  {
   "cell_type": "code",
   "execution_count": 65,
   "id": "94db9233",
   "metadata": {},
   "outputs": [
    {
     "data": {
      "image/png": "[encoded data removed]",
      "text/plain": [
       "<Figure size 432x288 with 1 Axes>"
      ]
     },
     "metadata": {
      "needs_background": "light"
     },
     "output_type": "display_data"
    }
   ],
   "source": [
    "plt.hist(nsmq_2022['Final_points'], bins = 2)\n",
    "plt.show()"
   ]
  },
  {
   "cell_type": "markdown",
   "id": "300e64b5",
   "metadata": {},
   "source": [
    "### Total_points'"
   ]
  },
  {
   "cell_type": "code",
   "execution_count": 59,
   "id": "73e2221b",
   "metadata": {},
   "outputs": [
    {
     "data": {
      "text/plain": [
       "4052"
      ]
     },
     "execution_count": 59,
     "metadata": {},
     "output_type": "execute_result"
    }
   ],
   "source": [
    "nsmq_2022['Total_points'].sum()"
   ]
  },
  {
   "cell_type": "code",
   "execution_count": 60,
   "id": "4814de49",
   "metadata": {},
   "outputs": [
    {
     "data": {
      "text/plain": [
       "count     81.000000\n",
       "mean      50.024691\n",
       "std       44.285713\n",
       "min        1.000000\n",
       "25%       24.000000\n",
       "50%       31.000000\n",
       "75%       68.000000\n",
       "max      222.000000\n",
       "Name: Total_points, dtype: float64"
      ]
     },
     "execution_count": 60,
     "metadata": {},
     "output_type": "execute_result"
    }
   ],
   "source": [
    "nsmq_2022['Total_points'].describe()"
   ]
  },
  {
   "cell_type": "code",
   "execution_count": 71,
   "id": "9467ca85",
   "metadata": {},
   "outputs": [
    {
     "data": {
      "image/png": "[encoded data removed]",
      "text/plain": [
       "<Figure size 432x288 with 1 Axes>"
      ]
     },
     "metadata": {
      "needs_background": "light"
     },
     "output_type": "display_data"
    }
   ],
   "source": [
    "plt.hist(nsmq_2022['Total_points'], bins = 8)\n",
    "plt.show()"
   ]
  },
  {
   "cell_type": "code",
   "execution_count": 85,
   "id": "e43deed9",
   "metadata": {},
   "outputs": [
    {
     "data": {
      "text/plain": [
       "Gender\n",
       "Boys     1820\n",
       "Girls     164\n",
       "Mixed    2068\n",
       "Name: Total_points, dtype: int64"
      ]
     },
     "execution_count": 85,
     "metadata": {},
     "output_type": "execute_result"
    }
   ],
   "source": [
    "nsmq_2022.groupby('Gender')['Total_points'].sum()"
   ]
  },
  {
   "cell_type": "code",
   "execution_count": 86,
   "id": "cf835743",
   "metadata": {},
   "outputs": [
    {
     "data": {
      "text/plain": [
       "Category\n",
       "A    2130\n",
       "B    1429\n",
       "C     493\n",
       "Name: Total_points, dtype: int64"
      ]
     },
     "execution_count": 86,
     "metadata": {},
     "output_type": "execute_result"
    }
   ],
   "source": [
    "nsmq_2022.groupby('Category')['Total_points'].sum()"
   ]
  },
  {
   "cell_type": "code",
   "execution_count": null,
   "id": "30867715",
   "metadata": {},
   "outputs": [],
   "source": [
    "nsmq_2022.groupby('')['Total_points'].sum()"
   ]
  },
  {
   "cell_type": "code",
   "execution_count": 88,
   "id": "052e1c7f",
   "metadata": {},
   "outputs": [
    {
     "data": {
      "text/plain": [
       "Seeded(Y/N)\n",
       "N    2321\n",
       "Y    1731\n",
       "Name: Total_points, dtype: int64"
      ]
     },
     "execution_count": 88,
     "metadata": {},
     "output_type": "execute_result"
    }
   ],
   "source": [
    "nsmq_2022.groupby('Seeded(Y/N)')['Total_points'].sum()"
   ]
  },
  {
   "cell_type": "code",
   "execution_count": 91,
   "id": "174a3f89",
   "metadata": {},
   "outputs": [
    {
     "data": {
      "text/html": [
       "<div>\n",
       "<style scoped>\n",
       "    .dataframe tbody tr th:only-of-type {\n",
       "        vertical-align: middle;\n",
       "    }\n",
       "\n",
       "    .dataframe tbody tr th {\n",
       "        vertical-align: top;\n",
       "    }\n",
       "\n",
       "    .dataframe thead th {\n",
       "        text-align: right;\n",
       "    }\n",
       "</style>\n",
       "<table border=\"1\" class=\"dataframe\">\n",
       "  <thead>\n",
       "    <tr style=\"text-align: right;\">\n",
       "      <th></th>\n",
       "      <th>Region</th>\n",
       "      <th>Total_points</th>\n",
       "    </tr>\n",
       "  </thead>\n",
       "  <tbody>\n",
       "    <tr>\n",
       "      <th>1</th>\n",
       "      <td>Ashanti</td>\n",
       "      <td>1259</td>\n",
       "    </tr>\n",
       "    <tr>\n",
       "      <th>4</th>\n",
       "      <td>Central</td>\n",
       "      <td>725</td>\n",
       "    </tr>\n",
       "    <tr>\n",
       "      <th>5</th>\n",
       "      <td>Eastern</td>\n",
       "      <td>586</td>\n",
       "    </tr>\n",
       "    <tr>\n",
       "      <th>6</th>\n",
       "      <td>Greater Accra</td>\n",
       "      <td>584</td>\n",
       "    </tr>\n",
       "    <tr>\n",
       "      <th>10</th>\n",
       "      <td>Volta</td>\n",
       "      <td>340</td>\n",
       "    </tr>\n",
       "    <tr>\n",
       "      <th>2</th>\n",
       "      <td>Bono</td>\n",
       "      <td>155</td>\n",
       "    </tr>\n",
       "    <tr>\n",
       "      <th>7</th>\n",
       "      <td>Northern</td>\n",
       "      <td>109</td>\n",
       "    </tr>\n",
       "    <tr>\n",
       "      <th>9</th>\n",
       "      <td>Upper West</td>\n",
       "      <td>104</td>\n",
       "    </tr>\n",
       "    <tr>\n",
       "      <th>11</th>\n",
       "      <td>Western</td>\n",
       "      <td>104</td>\n",
       "    </tr>\n",
       "    <tr>\n",
       "      <th>3</th>\n",
       "      <td>Bono East</td>\n",
       "      <td>56</td>\n",
       "    </tr>\n",
       "    <tr>\n",
       "      <th>8</th>\n",
       "      <td>Upper East</td>\n",
       "      <td>29</td>\n",
       "    </tr>\n",
       "    <tr>\n",
       "      <th>0</th>\n",
       "      <td>Ahafo</td>\n",
       "      <td>1</td>\n",
       "    </tr>\n",
       "  </tbody>\n",
       "</table>\n",
       "</div>"
      ],
      "text/plain": [
       "           Region  Total_points\n",
       "1         Ashanti          1259\n",
       "4         Central           725\n",
       "5         Eastern           586\n",
       "6   Greater Accra           584\n",
       "10          Volta           340\n",
       "2            Bono           155\n",
       "7        Northern           109\n",
       "9      Upper West           104\n",
       "11        Western           104\n",
       "3       Bono East            56\n",
       "8      Upper East            29\n",
       "0           Ahafo             1"
      ]
     },
     "execution_count": 91,
     "metadata": {},
     "output_type": "execute_result"
    }
   ],
   "source": [
    "nsmq_2022.groupby('Region')['Total_points'].sum().reset_index().sort_values(by = 'Total_points', ascending = False)"
   ]
  },
  {
   "cell_type": "code",
   "execution_count": 53,
   "id": "cbe1cde3",
   "metadata": {
    "scrolled": false
   },
   "outputs": [
    {
     "data": {
      "text/plain": [
       "Index(['Schools', 'Region', 'Category', 'Gender', 'Seeded(Y/N)',\n",
       "       '1/8th_Round(W/E)', '1/8th_round_points', 'Quarter_final(W/E)',\n",
       "       'Quarter_final_points', 'Semi_final(W/E)', 'Semi_final_points', 'Final',\n",
       "       'Final_points', 'Total_points', 'Year'],\n",
       "      dtype='object')"
      ]
     },
     "execution_count": 53,
     "metadata": {},
     "output_type": "execute_result"
    }
   ],
   "source": [
    "nsmq_2022.columns"
   ]
  },
  {
   "cell_type": "code",
   "execution_count": null,
   "id": "024e03d1",
   "metadata": {},
   "outputs": [],
   "source": []
  },
  {
   "cell_type": "code",
   "execution_count": null,
   "id": "6f6b2e34",
   "metadata": {},
   "outputs": [],
   "source": []
  },
  {
   "cell_type": "code",
   "execution_count": null,
   "id": "07de858f",
   "metadata": {},
   "outputs": [],
   "source": []
  },
  {
   "cell_type": "code",
   "execution_count": null,
   "id": "d1138a3b",
   "metadata": {},
   "outputs": [],
   "source": []
  },
  {
   "cell_type": "code",
   "execution_count": null,
   "id": "fe3c8426",
   "metadata": {},
   "outputs": [],
   "source": []
  },
  {
   "cell_type": "code",
   "execution_count": null,
   "id": "7a7ffc50",
   "metadata": {},
   "outputs": [],
   "source": []
  },
  {
   "cell_type": "markdown",
   "id": "976e8d77",
   "metadata": {},
   "source": [
    "## MULTIVARIATE ANALYSIS"
   ]
  },
  {
   "cell_type": "markdown",
   "id": "a6a92baa",
   "metadata": {},
   "source": [
    "### Which School Recorded the least and Most Points in the 1/8th_Round"
   ]
  },
  {
   "cell_type": "code",
   "execution_count": 27,
   "id": "49a2cbaf",
   "metadata": {},
   "outputs": [
    {
     "data": {
      "text/html": [
       "<div>\n",
       "<style scoped>\n",
       "    .dataframe tbody tr th:only-of-type {\n",
       "        vertical-align: middle;\n",
       "    }\n",
       "\n",
       "    .dataframe tbody tr th {\n",
       "        vertical-align: top;\n",
       "    }\n",
       "\n",
       "    .dataframe thead th {\n",
       "        text-align: right;\n",
       "    }\n",
       "</style>\n",
       "<table border=\"1\" class=\"dataframe\">\n",
       "  <thead>\n",
       "    <tr style=\"text-align: right;\">\n",
       "      <th></th>\n",
       "      <th>Schools</th>\n",
       "      <th>1/8th_round_points</th>\n",
       "    </tr>\n",
       "  </thead>\n",
       "  <tbody>\n",
       "    <tr>\n",
       "      <th>46</th>\n",
       "      <td>Opoku Ware School</td>\n",
       "      <td>64</td>\n",
       "    </tr>\n",
       "    <tr>\n",
       "      <th>1</th>\n",
       "      <td>Accra Academy</td>\n",
       "      <td>60</td>\n",
       "    </tr>\n",
       "    <tr>\n",
       "      <th>48</th>\n",
       "      <td>Osei Tutu SHS</td>\n",
       "      <td>55</td>\n",
       "    </tr>\n",
       "    <tr>\n",
       "      <th>54</th>\n",
       "      <td>Presec, Legon</td>\n",
       "      <td>54</td>\n",
       "    </tr>\n",
       "    <tr>\n",
       "      <th>35</th>\n",
       "      <td>Mawuli SHS</td>\n",
       "      <td>53</td>\n",
       "    </tr>\n",
       "    <tr>\n",
       "      <th>...</th>\n",
       "      <td>...</td>\n",
       "      <td>...</td>\n",
       "    </tr>\n",
       "    <tr>\n",
       "      <th>55</th>\n",
       "      <td>SDA SHS,Bekwai</td>\n",
       "      <td>10</td>\n",
       "    </tr>\n",
       "    <tr>\n",
       "      <th>18</th>\n",
       "      <td>Drobo SHS</td>\n",
       "      <td>8</td>\n",
       "    </tr>\n",
       "    <tr>\n",
       "      <th>16</th>\n",
       "      <td>Bolgatanga SHS</td>\n",
       "      <td>3</td>\n",
       "    </tr>\n",
       "    <tr>\n",
       "      <th>33</th>\n",
       "      <td>Kumasi Wesley Girls'</td>\n",
       "      <td>2</td>\n",
       "    </tr>\n",
       "    <tr>\n",
       "      <th>2</th>\n",
       "      <td>Acherensua SHS</td>\n",
       "      <td>1</td>\n",
       "    </tr>\n",
       "  </tbody>\n",
       "</table>\n",
       "<p>81 rows × 2 columns</p>\n",
       "</div>"
      ],
      "text/plain": [
       "                 Schools  1/8th_round_points\n",
       "46     Opoku Ware School                  64\n",
       "1         Accra Academy                   60\n",
       "48         Osei Tutu SHS                  55\n",
       "54         Presec, Legon                  54\n",
       "35            Mawuli SHS                  53\n",
       "..                   ...                 ...\n",
       "55        SDA SHS,Bekwai                  10\n",
       "18             Drobo SHS                   8\n",
       "16        Bolgatanga SHS                   3\n",
       "33  Kumasi Wesley Girls'                   2\n",
       "2         Acherensua SHS                   1\n",
       "\n",
       "[81 rows x 2 columns]"
      ]
     },
     "execution_count": 27,
     "metadata": {},
     "output_type": "execute_result"
    }
   ],
   "source": [
    "nsmq_2022.groupby('Schools')['1/8th_round_points'].max().reset_index().sort_values(by = '1/8th_round_points', ascending = False)"
   ]
  },
  {
   "cell_type": "markdown",
   "id": "20491b62",
   "metadata": {},
   "source": [
    "In the 1/8th_round , Opoku Ware School Recorded the highest Points with 64 and the least point accumulated being 1 by Acherensua SHS"
   ]
  },
  {
   "cell_type": "markdown",
   "id": "f0f65f1f",
   "metadata": {},
   "source": [
    "### Which Region Recorded the Least and Highest Points in the 1/8th_round"
   ]
  },
  {
   "cell_type": "code",
   "execution_count": 28,
   "id": "20ffbd6a",
   "metadata": {},
   "outputs": [
    {
     "data": {
      "text/html": [
       "<div>\n",
       "<style scoped>\n",
       "    .dataframe tbody tr th:only-of-type {\n",
       "        vertical-align: middle;\n",
       "    }\n",
       "\n",
       "    .dataframe tbody tr th {\n",
       "        vertical-align: top;\n",
       "    }\n",
       "\n",
       "    .dataframe thead th {\n",
       "        text-align: right;\n",
       "    }\n",
       "</style>\n",
       "<table border=\"1\" class=\"dataframe\">\n",
       "  <thead>\n",
       "    <tr style=\"text-align: right;\">\n",
       "      <th></th>\n",
       "      <th>Region</th>\n",
       "      <th>1/8th_round_points</th>\n",
       "    </tr>\n",
       "  </thead>\n",
       "  <tbody>\n",
       "    <tr>\n",
       "      <th>1</th>\n",
       "      <td>Ashanti</td>\n",
       "      <td>774</td>\n",
       "    </tr>\n",
       "    <tr>\n",
       "      <th>5</th>\n",
       "      <td>Eastern</td>\n",
       "      <td>402</td>\n",
       "    </tr>\n",
       "    <tr>\n",
       "      <th>6</th>\n",
       "      <td>Greater Accra</td>\n",
       "      <td>347</td>\n",
       "    </tr>\n",
       "    <tr>\n",
       "      <th>4</th>\n",
       "      <td>Central</td>\n",
       "      <td>343</td>\n",
       "    </tr>\n",
       "    <tr>\n",
       "      <th>10</th>\n",
       "      <td>Volta</td>\n",
       "      <td>240</td>\n",
       "    </tr>\n",
       "    <tr>\n",
       "      <th>11</th>\n",
       "      <td>Western</td>\n",
       "      <td>104</td>\n",
       "    </tr>\n",
       "    <tr>\n",
       "      <th>2</th>\n",
       "      <td>Bono</td>\n",
       "      <td>76</td>\n",
       "    </tr>\n",
       "    <tr>\n",
       "      <th>9</th>\n",
       "      <td>Upper West</td>\n",
       "      <td>73</td>\n",
       "    </tr>\n",
       "    <tr>\n",
       "      <th>7</th>\n",
       "      <td>Northern</td>\n",
       "      <td>71</td>\n",
       "    </tr>\n",
       "    <tr>\n",
       "      <th>3</th>\n",
       "      <td>Bono East</td>\n",
       "      <td>56</td>\n",
       "    </tr>\n",
       "    <tr>\n",
       "      <th>8</th>\n",
       "      <td>Upper East</td>\n",
       "      <td>29</td>\n",
       "    </tr>\n",
       "    <tr>\n",
       "      <th>0</th>\n",
       "      <td>Ahafo</td>\n",
       "      <td>1</td>\n",
       "    </tr>\n",
       "  </tbody>\n",
       "</table>\n",
       "</div>"
      ],
      "text/plain": [
       "           Region  1/8th_round_points\n",
       "1         Ashanti                 774\n",
       "5         Eastern                 402\n",
       "6   Greater Accra                 347\n",
       "4         Central                 343\n",
       "10          Volta                 240\n",
       "11        Western                 104\n",
       "2            Bono                  76\n",
       "9      Upper West                  73\n",
       "7        Northern                  71\n",
       "3       Bono East                  56\n",
       "8      Upper East                  29\n",
       "0           Ahafo                   1"
      ]
     },
     "execution_count": 28,
     "metadata": {},
     "output_type": "execute_result"
    }
   ],
   "source": [
    "nsmq_2022.groupby('Region')['1/8th_round_points'].sum().reset_index().sort_values(by = '1/8th_round_points', ascending = False)"
   ]
  },
  {
   "cell_type": "markdown",
   "id": "bfeee005",
   "metadata": {},
   "source": [
    "The total points accumulated by each region in this round correlated positively with the number of representatives from the regions. Ashanti Region had the highest total Scores beacuse they had the most representatives with the Upper East and Ahafo Regions recording the least since they had a single representative "
   ]
  },
  {
   "cell_type": "markdown",
   "id": "b0260ec2",
   "metadata": {},
   "source": [
    "Another interesting fact was that Bono and Upper West regions had the same number of representatives(3), yet schools from the Bono Region had a higher total point than their counterparts from the Upper West region. \n",
    "In the same Vein, Northern, Bono East and Upper East regions also had the same number of representatives(2), yet, schools from the Northern Region performed better than their Bono East and Upper East counterparts."
   ]
  },
  {
   "cell_type": "markdown",
   "id": "2553fbd4",
   "metadata": {},
   "source": [
    "It is also worth noting that although Greater Accra fielded 2 more schools(11) than Central Region(9),the difference in total points acummulated for this stage was limited to only 2 points "
   ]
  },
  {
   "cell_type": "markdown",
   "id": "7a150973",
   "metadata": {},
   "source": [
    "### Which Schools from each Region recorded the least and most points in the 1/8th_round"
   ]
  },
  {
   "cell_type": "code",
   "execution_count": 29,
   "id": "389aa8ee",
   "metadata": {},
   "outputs": [
    {
     "data": {
      "text/html": [
       "<div>\n",
       "<style scoped>\n",
       "    .dataframe tbody tr th:only-of-type {\n",
       "        vertical-align: middle;\n",
       "    }\n",
       "\n",
       "    .dataframe tbody tr th {\n",
       "        vertical-align: top;\n",
       "    }\n",
       "\n",
       "    .dataframe thead th {\n",
       "        text-align: right;\n",
       "    }\n",
       "</style>\n",
       "<table border=\"1\" class=\"dataframe\">\n",
       "  <thead>\n",
       "    <tr style=\"text-align: right;\">\n",
       "      <th></th>\n",
       "      <th>Schools</th>\n",
       "      <th>1/8th_round_points</th>\n",
       "    </tr>\n",
       "  </thead>\n",
       "  <tbody>\n",
       "    <tr>\n",
       "      <th>12</th>\n",
       "      <td>Opoku Ware School</td>\n",
       "      <td>64</td>\n",
       "    </tr>\n",
       "    <tr>\n",
       "      <th>14</th>\n",
       "      <td>Osei Tutu SHS</td>\n",
       "      <td>55</td>\n",
       "    </tr>\n",
       "    <tr>\n",
       "      <th>1</th>\n",
       "      <td>Adventist SHS, Bantama</td>\n",
       "      <td>51</td>\n",
       "    </tr>\n",
       "    <tr>\n",
       "      <th>8</th>\n",
       "      <td>Kumasi High School</td>\n",
       "      <td>48</td>\n",
       "    </tr>\n",
       "    <tr>\n",
       "      <th>15</th>\n",
       "      <td>Prempeh College</td>\n",
       "      <td>46</td>\n",
       "    </tr>\n",
       "    <tr>\n",
       "      <th>4</th>\n",
       "      <td>Asanteman SHS</td>\n",
       "      <td>45</td>\n",
       "    </tr>\n",
       "    <tr>\n",
       "      <th>5</th>\n",
       "      <td>KNUST SHS</td>\n",
       "      <td>41</td>\n",
       "    </tr>\n",
       "    <tr>\n",
       "      <th>13</th>\n",
       "      <td>Osei Kyeretwie SHS</td>\n",
       "      <td>38</td>\n",
       "    </tr>\n",
       "    <tr>\n",
       "      <th>0</th>\n",
       "      <td>Adu Gyamfi SHS</td>\n",
       "      <td>35</td>\n",
       "    </tr>\n",
       "    <tr>\n",
       "      <th>7</th>\n",
       "      <td>Kumasi Academy</td>\n",
       "      <td>35</td>\n",
       "    </tr>\n",
       "    <tr>\n",
       "      <th>21</th>\n",
       "      <td>Toase SHS</td>\n",
       "      <td>33</td>\n",
       "    </tr>\n",
       "    <tr>\n",
       "      <th>11</th>\n",
       "      <td>Mankranso SHS</td>\n",
       "      <td>31</td>\n",
       "    </tr>\n",
       "    <tr>\n",
       "      <th>2</th>\n",
       "      <td>Amaniampong SHS</td>\n",
       "      <td>30</td>\n",
       "    </tr>\n",
       "    <tr>\n",
       "      <th>19</th>\n",
       "      <td>St.Hubert Sem.SHS</td>\n",
       "      <td>30</td>\n",
       "    </tr>\n",
       "    <tr>\n",
       "      <th>17</th>\n",
       "      <td>Sakafia Islamic SHS</td>\n",
       "      <td>29</td>\n",
       "    </tr>\n",
       "    <tr>\n",
       "      <th>3</th>\n",
       "      <td>Anglican SHS, Kumasi</td>\n",
       "      <td>27</td>\n",
       "    </tr>\n",
       "    <tr>\n",
       "      <th>22</th>\n",
       "      <td>Wesley SHS, Bekwai</td>\n",
       "      <td>25</td>\n",
       "    </tr>\n",
       "    <tr>\n",
       "      <th>23</th>\n",
       "      <td>Yaa Asantewaa Girls' SHS</td>\n",
       "      <td>24</td>\n",
       "    </tr>\n",
       "    <tr>\n",
       "      <th>9</th>\n",
       "      <td>Kumasi Sec.Tech</td>\n",
       "      <td>22</td>\n",
       "    </tr>\n",
       "    <tr>\n",
       "      <th>20</th>\n",
       "      <td>St.Loius SHS</td>\n",
       "      <td>21</td>\n",
       "    </tr>\n",
       "    <tr>\n",
       "      <th>6</th>\n",
       "      <td>Konongo Odumase SHS</td>\n",
       "      <td>17</td>\n",
       "    </tr>\n",
       "    <tr>\n",
       "      <th>18</th>\n",
       "      <td>Simms SHS</td>\n",
       "      <td>15</td>\n",
       "    </tr>\n",
       "    <tr>\n",
       "      <th>16</th>\n",
       "      <td>SDA SHS,Bekwai</td>\n",
       "      <td>10</td>\n",
       "    </tr>\n",
       "    <tr>\n",
       "      <th>10</th>\n",
       "      <td>Kumasi Wesley Girls'</td>\n",
       "      <td>2</td>\n",
       "    </tr>\n",
       "  </tbody>\n",
       "</table>\n",
       "</div>"
      ],
      "text/plain": [
       "                     Schools  1/8th_round_points\n",
       "12         Opoku Ware School                  64\n",
       "14             Osei Tutu SHS                  55\n",
       "1     Adventist SHS, Bantama                  51\n",
       "8         Kumasi High School                  48\n",
       "15           Prempeh College                  46\n",
       "4              Asanteman SHS                  45\n",
       "5                  KNUST SHS                  41\n",
       "13        Osei Kyeretwie SHS                  38\n",
       "0             Adu Gyamfi SHS                  35\n",
       "7            Kumasi Academy                   35\n",
       "21                 Toase SHS                  33\n",
       "11             Mankranso SHS                  31\n",
       "2            Amaniampong SHS                  30\n",
       "19         St.Hubert Sem.SHS                  30\n",
       "17       Sakafia Islamic SHS                  29\n",
       "3      Anglican SHS, Kumasi                   27\n",
       "22        Wesley SHS, Bekwai                  25\n",
       "23  Yaa Asantewaa Girls' SHS                  24\n",
       "9            Kumasi Sec.Tech                  22\n",
       "20              St.Loius SHS                  21\n",
       "6        Konongo Odumase SHS                  17\n",
       "18                 Simms SHS                  15\n",
       "16            SDA SHS,Bekwai                  10\n",
       "10      Kumasi Wesley Girls'                   2"
      ]
     },
     "execution_count": 29,
     "metadata": {},
     "output_type": "execute_result"
    }
   ],
   "source": [
    "#### Checking the points accumulated per school from the Ashanti Region\n",
    "nsmq_2022[nsmq_2022['Region']== 'Ashanti'].groupby('Schools')['1/8th_round_points'].sum().reset_index().sort_values(by = '1/8th_round_points', ascending = False)"
   ]
  },
  {
   "cell_type": "code",
   "execution_count": 30,
   "id": "92c979a2",
   "metadata": {},
   "outputs": [
    {
     "data": {
      "text/html": [
       "<div>\n",
       "<style scoped>\n",
       "    .dataframe tbody tr th:only-of-type {\n",
       "        vertical-align: middle;\n",
       "    }\n",
       "\n",
       "    .dataframe tbody tr th {\n",
       "        vertical-align: top;\n",
       "    }\n",
       "\n",
       "    .dataframe thead th {\n",
       "        text-align: right;\n",
       "    }\n",
       "</style>\n",
       "<table border=\"1\" class=\"dataframe\">\n",
       "  <thead>\n",
       "    <tr style=\"text-align: right;\">\n",
       "      <th></th>\n",
       "      <th>Schools</th>\n",
       "      <th>1/8th_round_points</th>\n",
       "    </tr>\n",
       "  </thead>\n",
       "  <tbody>\n",
       "    <tr>\n",
       "      <th>0</th>\n",
       "      <td>Abetifi Presby SHS</td>\n",
       "      <td>50</td>\n",
       "    </tr>\n",
       "    <tr>\n",
       "      <th>10</th>\n",
       "      <td>Presby SHTS, Aburi</td>\n",
       "      <td>47</td>\n",
       "    </tr>\n",
       "    <tr>\n",
       "      <th>11</th>\n",
       "      <td>St.Peter's SHS</td>\n",
       "      <td>45</td>\n",
       "    </tr>\n",
       "    <tr>\n",
       "      <th>9</th>\n",
       "      <td>Presby SHS, Suhum</td>\n",
       "      <td>38</td>\n",
       "    </tr>\n",
       "    <tr>\n",
       "      <th>1</th>\n",
       "      <td>Ghana SHS, Koforidua</td>\n",
       "      <td>31</td>\n",
       "    </tr>\n",
       "    <tr>\n",
       "      <th>6</th>\n",
       "      <td>Oda SHS</td>\n",
       "      <td>31</td>\n",
       "    </tr>\n",
       "    <tr>\n",
       "      <th>8</th>\n",
       "      <td>Pope John Min.Sem.SHS</td>\n",
       "      <td>31</td>\n",
       "    </tr>\n",
       "    <tr>\n",
       "      <th>2</th>\n",
       "      <td>Koforidua Sec.Tech</td>\n",
       "      <td>30</td>\n",
       "    </tr>\n",
       "    <tr>\n",
       "      <th>4</th>\n",
       "      <td>Mpraeso SHS</td>\n",
       "      <td>25</td>\n",
       "    </tr>\n",
       "    <tr>\n",
       "      <th>5</th>\n",
       "      <td>Nkwatia Presby SHS</td>\n",
       "      <td>25</td>\n",
       "    </tr>\n",
       "    <tr>\n",
       "      <th>7</th>\n",
       "      <td>Ofori Panin SHS</td>\n",
       "      <td>25</td>\n",
       "    </tr>\n",
       "    <tr>\n",
       "      <th>3</th>\n",
       "      <td>Krobo Girls' SHS</td>\n",
       "      <td>24</td>\n",
       "    </tr>\n",
       "  </tbody>\n",
       "</table>\n",
       "</div>"
      ],
      "text/plain": [
       "                  Schools  1/8th_round_points\n",
       "0      Abetifi Presby SHS                  50\n",
       "10    Presby SHTS, Aburi                   47\n",
       "11         St.Peter's SHS                  45\n",
       "9       Presby SHS, Suhum                  38\n",
       "1   Ghana SHS, Koforidua                   31\n",
       "6                 Oda SHS                  31\n",
       "8   Pope John Min.Sem.SHS                  31\n",
       "2      Koforidua Sec.Tech                  30\n",
       "4             Mpraeso SHS                  25\n",
       "5      Nkwatia Presby SHS                  25\n",
       "7         Ofori Panin SHS                  25\n",
       "3        Krobo Girls' SHS                  24"
      ]
     },
     "execution_count": 30,
     "metadata": {},
     "output_type": "execute_result"
    }
   ],
   "source": [
    "#### Checking the points accumulated per school from the Eastern Region\n",
    "nsmq_2022[nsmq_2022['Region']== 'Eastern'].groupby('Schools')['1/8th_round_points'].sum().reset_index().sort_values(by = '1/8th_round_points', ascending = False)"
   ]
  },
  {
   "cell_type": "code",
   "execution_count": 31,
   "id": "3369cb69",
   "metadata": {},
   "outputs": [
    {
     "data": {
      "text/html": [
       "<div>\n",
       "<style scoped>\n",
       "    .dataframe tbody tr th:only-of-type {\n",
       "        vertical-align: middle;\n",
       "    }\n",
       "\n",
       "    .dataframe tbody tr th {\n",
       "        vertical-align: top;\n",
       "    }\n",
       "\n",
       "    .dataframe thead th {\n",
       "        text-align: right;\n",
       "    }\n",
       "</style>\n",
       "<table border=\"1\" class=\"dataframe\">\n",
       "  <thead>\n",
       "    <tr style=\"text-align: right;\">\n",
       "      <th></th>\n",
       "      <th>Schools</th>\n",
       "      <th>1/8th_round_points</th>\n",
       "    </tr>\n",
       "  </thead>\n",
       "  <tbody>\n",
       "    <tr>\n",
       "      <th>0</th>\n",
       "      <td>Accra Academy</td>\n",
       "      <td>60</td>\n",
       "    </tr>\n",
       "    <tr>\n",
       "      <th>7</th>\n",
       "      <td>Presec, Legon</td>\n",
       "      <td>54</td>\n",
       "    </tr>\n",
       "    <tr>\n",
       "      <th>9</th>\n",
       "      <td>St.Thomas Aquinas SHS</td>\n",
       "      <td>40</td>\n",
       "    </tr>\n",
       "    <tr>\n",
       "      <th>1</th>\n",
       "      <td>Achimota School</td>\n",
       "      <td>34</td>\n",
       "    </tr>\n",
       "    <tr>\n",
       "      <th>4</th>\n",
       "      <td>Ghanata SHS</td>\n",
       "      <td>28</td>\n",
       "    </tr>\n",
       "    <tr>\n",
       "      <th>10</th>\n",
       "      <td>West African SHS</td>\n",
       "      <td>28</td>\n",
       "    </tr>\n",
       "    <tr>\n",
       "      <th>2</th>\n",
       "      <td>Ashaiman SHS</td>\n",
       "      <td>25</td>\n",
       "    </tr>\n",
       "    <tr>\n",
       "      <th>5</th>\n",
       "      <td>Nungua SHS</td>\n",
       "      <td>21</td>\n",
       "    </tr>\n",
       "    <tr>\n",
       "      <th>6</th>\n",
       "      <td>Odorgono SHS</td>\n",
       "      <td>21</td>\n",
       "    </tr>\n",
       "    <tr>\n",
       "      <th>3</th>\n",
       "      <td>Chemu SHS</td>\n",
       "      <td>19</td>\n",
       "    </tr>\n",
       "    <tr>\n",
       "      <th>8</th>\n",
       "      <td>St.Mary's SHS, Accra</td>\n",
       "      <td>17</td>\n",
       "    </tr>\n",
       "  </tbody>\n",
       "</table>\n",
       "</div>"
      ],
      "text/plain": [
       "                  Schools  1/8th_round_points\n",
       "0          Accra Academy                   60\n",
       "7           Presec, Legon                  54\n",
       "9   St.Thomas Aquinas SHS                  40\n",
       "1         Achimota School                  34\n",
       "4             Ghanata SHS                  28\n",
       "10       West African SHS                  28\n",
       "2            Ashaiman SHS                  25\n",
       "5              Nungua SHS                  21\n",
       "6            Odorgono SHS                  21\n",
       "3               Chemu SHS                  19\n",
       "8    St.Mary's SHS, Accra                  17"
      ]
     },
     "execution_count": 31,
     "metadata": {},
     "output_type": "execute_result"
    }
   ],
   "source": [
    "#### Checking the points accumulated per school from Greater Accra Region\n",
    "nsmq_2022[nsmq_2022['Region']== 'Greater Accra'].groupby('Schools')['1/8th_round_points'].sum().reset_index().sort_values(by = '1/8th_round_points', ascending = False)"
   ]
  },
  {
   "cell_type": "code",
   "execution_count": 32,
   "id": "81e499dd",
   "metadata": {},
   "outputs": [
    {
     "data": {
      "text/html": [
       "<div>\n",
       "<style scoped>\n",
       "    .dataframe tbody tr th:only-of-type {\n",
       "        vertical-align: middle;\n",
       "    }\n",
       "\n",
       "    .dataframe tbody tr th {\n",
       "        vertical-align: top;\n",
       "    }\n",
       "\n",
       "    .dataframe thead th {\n",
       "        text-align: right;\n",
       "    }\n",
       "</style>\n",
       "<table border=\"1\" class=\"dataframe\">\n",
       "  <thead>\n",
       "    <tr style=\"text-align: right;\">\n",
       "      <th></th>\n",
       "      <th>Schools</th>\n",
       "      <th>1/8th_round_points</th>\n",
       "    </tr>\n",
       "  </thead>\n",
       "  <tbody>\n",
       "    <tr>\n",
       "      <th>0</th>\n",
       "      <td>Adisadel College</td>\n",
       "      <td>52</td>\n",
       "    </tr>\n",
       "    <tr>\n",
       "      <th>5</th>\n",
       "      <td>St.Augustine's College</td>\n",
       "      <td>48</td>\n",
       "    </tr>\n",
       "    <tr>\n",
       "      <th>6</th>\n",
       "      <td>Swedru SHS</td>\n",
       "      <td>41</td>\n",
       "    </tr>\n",
       "    <tr>\n",
       "      <th>7</th>\n",
       "      <td>University Practice SHS</td>\n",
       "      <td>40</td>\n",
       "    </tr>\n",
       "    <tr>\n",
       "      <th>4</th>\n",
       "      <td>Mfantsipim SHS</td>\n",
       "      <td>39</td>\n",
       "    </tr>\n",
       "    <tr>\n",
       "      <th>1</th>\n",
       "      <td>Apam SHS</td>\n",
       "      <td>35</td>\n",
       "    </tr>\n",
       "    <tr>\n",
       "      <th>2</th>\n",
       "      <td>Assisn State College</td>\n",
       "      <td>31</td>\n",
       "    </tr>\n",
       "    <tr>\n",
       "      <th>8</th>\n",
       "      <td>Wesley Girls' High School</td>\n",
       "      <td>29</td>\n",
       "    </tr>\n",
       "    <tr>\n",
       "      <th>3</th>\n",
       "      <td>Ghana National College</td>\n",
       "      <td>28</td>\n",
       "    </tr>\n",
       "  </tbody>\n",
       "</table>\n",
       "</div>"
      ],
      "text/plain": [
       "                     Schools  1/8th_round_points\n",
       "0          Adisadel College                   52\n",
       "5    St.Augustine's College                   48\n",
       "6                 Swedru SHS                  41\n",
       "7    University Practice SHS                  40\n",
       "4             Mfantsipim SHS                  39\n",
       "1                   Apam SHS                  35\n",
       "2       Assisn State College                  31\n",
       "8  Wesley Girls' High School                  29\n",
       "3    Ghana National College                   28"
      ]
     },
     "execution_count": 32,
     "metadata": {},
     "output_type": "execute_result"
    }
   ],
   "source": [
    "#### Checking the points accumulated per school from the Central Region\n",
    "nsmq_2022[nsmq_2022['Region']== 'Central'].groupby('Schools')['1/8th_round_points'].sum().reset_index().sort_values(by = '1/8th_round_points', ascending = False)"
   ]
  },
  {
   "cell_type": "code",
   "execution_count": 33,
   "id": "89730831",
   "metadata": {},
   "outputs": [
    {
     "data": {
      "text/html": [
       "<div>\n",
       "<style scoped>\n",
       "    .dataframe tbody tr th:only-of-type {\n",
       "        vertical-align: middle;\n",
       "    }\n",
       "\n",
       "    .dataframe tbody tr th {\n",
       "        vertical-align: top;\n",
       "    }\n",
       "\n",
       "    .dataframe thead th {\n",
       "        text-align: right;\n",
       "    }\n",
       "</style>\n",
       "<table border=\"1\" class=\"dataframe\">\n",
       "  <thead>\n",
       "    <tr style=\"text-align: right;\">\n",
       "      <th></th>\n",
       "      <th>Schools</th>\n",
       "      <th>1/8th_round_points</th>\n",
       "    </tr>\n",
       "  </thead>\n",
       "  <tbody>\n",
       "    <tr>\n",
       "      <th>4</th>\n",
       "      <td>Mawuli SHS</td>\n",
       "      <td>53</td>\n",
       "    </tr>\n",
       "    <tr>\n",
       "      <th>3</th>\n",
       "      <td>Keta SHTS</td>\n",
       "      <td>52</td>\n",
       "    </tr>\n",
       "    <tr>\n",
       "      <th>2</th>\n",
       "      <td>Bishop Herman College</td>\n",
       "      <td>43</td>\n",
       "    </tr>\n",
       "    <tr>\n",
       "      <th>7</th>\n",
       "      <td>Sonrise Christian High School</td>\n",
       "      <td>28</td>\n",
       "    </tr>\n",
       "    <tr>\n",
       "      <th>1</th>\n",
       "      <td>Awudome SHS</td>\n",
       "      <td>18</td>\n",
       "    </tr>\n",
       "    <tr>\n",
       "      <th>5</th>\n",
       "      <td>OLA SHS, Ho</td>\n",
       "      <td>18</td>\n",
       "    </tr>\n",
       "    <tr>\n",
       "      <th>0</th>\n",
       "      <td>Anlo SHS</td>\n",
       "      <td>15</td>\n",
       "    </tr>\n",
       "    <tr>\n",
       "      <th>6</th>\n",
       "      <td>Sogakope SHS</td>\n",
       "      <td>13</td>\n",
       "    </tr>\n",
       "  </tbody>\n",
       "</table>\n",
       "</div>"
      ],
      "text/plain": [
       "                         Schools  1/8th_round_points\n",
       "4                     Mawuli SHS                  53\n",
       "3                      Keta SHTS                  52\n",
       "2          Bishop Herman College                  43\n",
       "7  Sonrise Christian High School                  28\n",
       "1                    Awudome SHS                  18\n",
       "5                    OLA SHS, Ho                  18\n",
       "0                       Anlo SHS                  15\n",
       "6                   Sogakope SHS                  13"
      ]
     },
     "execution_count": 33,
     "metadata": {},
     "output_type": "execute_result"
    }
   ],
   "source": [
    "#### Checking the points accumulated per school from the Volta Region\n",
    "nsmq_2022[nsmq_2022['Region']== 'Volta'].groupby('Schools')['1/8th_round_points'].sum().reset_index().sort_values(by = '1/8th_round_points', ascending = False)"
   ]
  },
  {
   "cell_type": "code",
   "execution_count": 34,
   "id": "f31b56af",
   "metadata": {},
   "outputs": [
    {
     "data": {
      "text/html": [
       "<div>\n",
       "<style scoped>\n",
       "    .dataframe tbody tr th:only-of-type {\n",
       "        vertical-align: middle;\n",
       "    }\n",
       "\n",
       "    .dataframe tbody tr th {\n",
       "        vertical-align: top;\n",
       "    }\n",
       "\n",
       "    .dataframe thead th {\n",
       "        text-align: right;\n",
       "    }\n",
       "</style>\n",
       "<table border=\"1\" class=\"dataframe\">\n",
       "  <thead>\n",
       "    <tr style=\"text-align: right;\">\n",
       "      <th></th>\n",
       "      <th>Schools</th>\n",
       "      <th>1/8th_round_points</th>\n",
       "    </tr>\n",
       "  </thead>\n",
       "  <tbody>\n",
       "    <tr>\n",
       "      <th>0</th>\n",
       "      <td>Fiaseman SHS</td>\n",
       "      <td>36</td>\n",
       "    </tr>\n",
       "    <tr>\n",
       "      <th>3</th>\n",
       "      <td>Tarkwa SHS</td>\n",
       "      <td>30</td>\n",
       "    </tr>\n",
       "    <tr>\n",
       "      <th>1</th>\n",
       "      <td>Fijai SHS</td>\n",
       "      <td>24</td>\n",
       "    </tr>\n",
       "    <tr>\n",
       "      <th>2</th>\n",
       "      <td>Shama SHS</td>\n",
       "      <td>14</td>\n",
       "    </tr>\n",
       "  </tbody>\n",
       "</table>\n",
       "</div>"
      ],
      "text/plain": [
       "        Schools  1/8th_round_points\n",
       "0  Fiaseman SHS                  36\n",
       "3    Tarkwa SHS                  30\n",
       "1     Fijai SHS                  24\n",
       "2     Shama SHS                  14"
      ]
     },
     "execution_count": 34,
     "metadata": {},
     "output_type": "execute_result"
    }
   ],
   "source": [
    "#### Checking the points accumulated per school from the Western Region\n",
    "nsmq_2022[nsmq_2022['Region']== 'Western'].groupby('Schools')['1/8th_round_points'].sum().reset_index().sort_values(by = '1/8th_round_points', ascending = False)"
   ]
  },
  {
   "cell_type": "code",
   "execution_count": 35,
   "id": "d9dc87d7",
   "metadata": {},
   "outputs": [
    {
     "data": {
      "text/html": [
       "<div>\n",
       "<style scoped>\n",
       "    .dataframe tbody tr th:only-of-type {\n",
       "        vertical-align: middle;\n",
       "    }\n",
       "\n",
       "    .dataframe tbody tr th {\n",
       "        vertical-align: top;\n",
       "    }\n",
       "\n",
       "    .dataframe thead th {\n",
       "        text-align: right;\n",
       "    }\n",
       "</style>\n",
       "<table border=\"1\" class=\"dataframe\">\n",
       "  <thead>\n",
       "    <tr style=\"text-align: right;\">\n",
       "      <th></th>\n",
       "      <th>Schools</th>\n",
       "      <th>1/8th_round_points</th>\n",
       "    </tr>\n",
       "  </thead>\n",
       "  <tbody>\n",
       "    <tr>\n",
       "      <th>1</th>\n",
       "      <td>St.James Sem.SHS</td>\n",
       "      <td>49</td>\n",
       "    </tr>\n",
       "    <tr>\n",
       "      <th>2</th>\n",
       "      <td>Sunyani SHS</td>\n",
       "      <td>19</td>\n",
       "    </tr>\n",
       "    <tr>\n",
       "      <th>0</th>\n",
       "      <td>Drobo SHS</td>\n",
       "      <td>8</td>\n",
       "    </tr>\n",
       "  </tbody>\n",
       "</table>\n",
       "</div>"
      ],
      "text/plain": [
       "            Schools  1/8th_round_points\n",
       "1  St.James Sem.SHS                  49\n",
       "2       Sunyani SHS                  19\n",
       "0         Drobo SHS                   8"
      ]
     },
     "execution_count": 35,
     "metadata": {},
     "output_type": "execute_result"
    }
   ],
   "source": [
    "#### Checking the points accumulated per school from Bono Region\n",
    "nsmq_2022[nsmq_2022['Region']== 'Bono'].groupby('Schools')['1/8th_round_points'].sum().reset_index().sort_values(by = '1/8th_round_points', ascending = False)"
   ]
  },
  {
   "cell_type": "code",
   "execution_count": 36,
   "id": "17706ed4",
   "metadata": {},
   "outputs": [
    {
     "data": {
      "text/html": [
       "<div>\n",
       "<style scoped>\n",
       "    .dataframe tbody tr th:only-of-type {\n",
       "        vertical-align: middle;\n",
       "    }\n",
       "\n",
       "    .dataframe tbody tr th {\n",
       "        vertical-align: top;\n",
       "    }\n",
       "\n",
       "    .dataframe thead th {\n",
       "        text-align: right;\n",
       "    }\n",
       "</style>\n",
       "<table border=\"1\" class=\"dataframe\">\n",
       "  <thead>\n",
       "    <tr style=\"text-align: right;\">\n",
       "      <th></th>\n",
       "      <th>Schools</th>\n",
       "      <th>1/8th_round_points</th>\n",
       "    </tr>\n",
       "  </thead>\n",
       "  <tbody>\n",
       "    <tr>\n",
       "      <th>2</th>\n",
       "      <td>St. Francis Xavier Jnr.Sem</td>\n",
       "      <td>38</td>\n",
       "    </tr>\n",
       "    <tr>\n",
       "      <th>1</th>\n",
       "      <td>Nandom SHS</td>\n",
       "      <td>20</td>\n",
       "    </tr>\n",
       "    <tr>\n",
       "      <th>0</th>\n",
       "      <td>Kanton SHS</td>\n",
       "      <td>15</td>\n",
       "    </tr>\n",
       "  </tbody>\n",
       "</table>\n",
       "</div>"
      ],
      "text/plain": [
       "                      Schools  1/8th_round_points\n",
       "2  St. Francis Xavier Jnr.Sem                  38\n",
       "1                  Nandom SHS                  20\n",
       "0                  Kanton SHS                  15"
      ]
     },
     "execution_count": 36,
     "metadata": {},
     "output_type": "execute_result"
    }
   ],
   "source": [
    "#### Checking the points accumulated per school from the Upper West Region Region\n",
    "nsmq_2022[nsmq_2022['Region']== 'Upper West'].groupby('Schools')['1/8th_round_points'].sum().reset_index().sort_values(by = '1/8th_round_points', ascending = False)"
   ]
  },
  {
   "cell_type": "code",
   "execution_count": 37,
   "id": "24048bac",
   "metadata": {},
   "outputs": [
    {
     "data": {
      "text/html": [
       "<div>\n",
       "<style scoped>\n",
       "    .dataframe tbody tr th:only-of-type {\n",
       "        vertical-align: middle;\n",
       "    }\n",
       "\n",
       "    .dataframe tbody tr th {\n",
       "        vertical-align: top;\n",
       "    }\n",
       "\n",
       "    .dataframe thead th {\n",
       "        text-align: right;\n",
       "    }\n",
       "</style>\n",
       "<table border=\"1\" class=\"dataframe\">\n",
       "  <thead>\n",
       "    <tr style=\"text-align: right;\">\n",
       "      <th></th>\n",
       "      <th>Schools</th>\n",
       "      <th>1/8th_round_points</th>\n",
       "    </tr>\n",
       "  </thead>\n",
       "  <tbody>\n",
       "    <tr>\n",
       "      <th>0</th>\n",
       "      <td>Tamale Islamic Science SHS</td>\n",
       "      <td>37</td>\n",
       "    </tr>\n",
       "    <tr>\n",
       "      <th>1</th>\n",
       "      <td>Tamale SHS</td>\n",
       "      <td>34</td>\n",
       "    </tr>\n",
       "  </tbody>\n",
       "</table>\n",
       "</div>"
      ],
      "text/plain": [
       "                      Schools  1/8th_round_points\n",
       "0  Tamale Islamic Science SHS                  37\n",
       "1                  Tamale SHS                  34"
      ]
     },
     "execution_count": 37,
     "metadata": {},
     "output_type": "execute_result"
    }
   ],
   "source": [
    "#### Checking the points accumulated per school from the Northern Region\n",
    "nsmq_2022[nsmq_2022['Region']== 'Northern'].groupby('Schools')['1/8th_round_points'].sum().reset_index().sort_values(by = '1/8th_round_points', ascending = False)"
   ]
  },
  {
   "cell_type": "code",
   "execution_count": 38,
   "id": "b4da34d1",
   "metadata": {},
   "outputs": [
    {
     "data": {
      "text/html": [
       "<div>\n",
       "<style scoped>\n",
       "    .dataframe tbody tr th:only-of-type {\n",
       "        vertical-align: middle;\n",
       "    }\n",
       "\n",
       "    .dataframe tbody tr th {\n",
       "        vertical-align: top;\n",
       "    }\n",
       "\n",
       "    .dataframe thead th {\n",
       "        text-align: right;\n",
       "    }\n",
       "</style>\n",
       "<table border=\"1\" class=\"dataframe\">\n",
       "  <thead>\n",
       "    <tr style=\"text-align: right;\">\n",
       "      <th></th>\n",
       "      <th>Schools</th>\n",
       "      <th>1/8th_round_points</th>\n",
       "    </tr>\n",
       "  </thead>\n",
       "  <tbody>\n",
       "    <tr>\n",
       "      <th>0</th>\n",
       "      <td>Our Lady of Mt.Carmel Girls' SHS</td>\n",
       "      <td>29</td>\n",
       "    </tr>\n",
       "    <tr>\n",
       "      <th>1</th>\n",
       "      <td>Techiman SHS</td>\n",
       "      <td>27</td>\n",
       "    </tr>\n",
       "  </tbody>\n",
       "</table>\n",
       "</div>"
      ],
      "text/plain": [
       "                            Schools  1/8th_round_points\n",
       "0  Our Lady of Mt.Carmel Girls' SHS                  29\n",
       "1                      Techiman SHS                  27"
      ]
     },
     "execution_count": 38,
     "metadata": {},
     "output_type": "execute_result"
    }
   ],
   "source": [
    "#### Checking the points accumulated per school from Bono East Region\n",
    "nsmq_2022[nsmq_2022['Region']== 'Bono East'].groupby('Schools')['1/8th_round_points'].sum().reset_index().sort_values(by = '1/8th_round_points', ascending = False)"
   ]
  },
  {
   "cell_type": "markdown",
   "id": "31d8f31b",
   "metadata": {},
   "source": [
    "### How many Schools from each Category represented per Region in the 1/8th_round"
   ]
  },
  {
   "cell_type": "code",
   "execution_count": 43,
   "id": "70ffb715",
   "metadata": {
    "scrolled": true
   },
   "outputs": [
    {
     "data": {
      "text/plain": [
       "Region   Category\n",
       "Ashanti  B           13\n",
       "         C            6\n",
       "         A            5\n",
       "Name: Category, dtype: int64"
      ]
     },
     "execution_count": 43,
     "metadata": {},
     "output_type": "execute_result"
    }
   ],
   "source": [
    "### Ashanti\n",
    "nsmq_2022[nsmq_2022['Region'] == 'Ashanti'].groupby('Region')['Category'].value_counts()"
   ]
  },
  {
   "cell_type": "markdown",
   "id": "3e207ee0",
   "metadata": {},
   "source": [
    "Category B schools from the Ashanti Region had the most representation with 13, followed by Category C schools with 6 and the least representation coming from Category A Schools with 5 "
   ]
  },
  {
   "cell_type": "code",
   "execution_count": 44,
   "id": "c9ab6f3b",
   "metadata": {
    "scrolled": true
   },
   "outputs": [
    {
     "data": {
      "text/plain": [
       "Region   Category\n",
       "Eastern  A           6\n",
       "         B           4\n",
       "         C           2\n",
       "Name: Category, dtype: int64"
      ]
     },
     "execution_count": 44,
     "metadata": {},
     "output_type": "execute_result"
    }
   ],
   "source": [
    "### Eastern\n",
    "nsmq_2022[nsmq_2022['Region'] == 'Eastern'].groupby('Region')['Category'].value_counts()"
   ]
  },
  {
   "cell_type": "markdown",
   "id": "0fcf732e",
   "metadata": {},
   "source": [
    "Eastern Region had majority of their representation from category A Schools with 6 , followed by B with 4 and C with 2"
   ]
  },
  {
   "cell_type": "code",
   "execution_count": 45,
   "id": "a4181752",
   "metadata": {
    "scrolled": true
   },
   "outputs": [
    {
     "data": {
      "text/plain": [
       "Region         Category\n",
       "Greater Accra  A           5\n",
       "               B           5\n",
       "               C           1\n",
       "Name: Category, dtype: int64"
      ]
     },
     "execution_count": 45,
     "metadata": {},
     "output_type": "execute_result"
    }
   ],
   "source": [
    "### Greater Accra\n",
    "nsmq_2022[nsmq_2022['Region'] == 'Greater Accra'].groupby('Region')['Category'].value_counts()"
   ]
  },
  {
   "cell_type": "markdown",
   "id": "127a7fc8",
   "metadata": {},
   "source": [
    "Greater Accra saw an even representation of Category A and B Schools, each with 5 representatives and 1 representative from Category C"
   ]
  },
  {
   "cell_type": "code",
   "execution_count": 46,
   "id": "e30818f9",
   "metadata": {
    "scrolled": true
   },
   "outputs": [
    {
     "data": {
      "text/plain": [
       "Region   Category\n",
       "Central  A           4\n",
       "         B           4\n",
       "         C           1\n",
       "Name: Category, dtype: int64"
      ]
     },
     "execution_count": 46,
     "metadata": {},
     "output_type": "execute_result"
    }
   ],
   "source": [
    "### Central\n",
    "nsmq_2022[nsmq_2022['Region'] == 'Central'].groupby('Region')['Category'].value_counts()"
   ]
  },
  {
   "cell_type": "markdown",
   "id": "7921cf15",
   "metadata": {},
   "source": [
    "Central Region saw an even representation of Category A and B Schools, each with 4 representatives and 1 representative from Category C"
   ]
  },
  {
   "cell_type": "code",
   "execution_count": 47,
   "id": "23b3bd1e",
   "metadata": {
    "scrolled": true
   },
   "outputs": [
    {
     "data": {
      "text/plain": [
       "Region  Category\n",
       "Volta   B           4\n",
       "        A           3\n",
       "        C           1\n",
       "Name: Category, dtype: int64"
      ]
     },
     "execution_count": 47,
     "metadata": {},
     "output_type": "execute_result"
    }
   ],
   "source": [
    "### Volta\n",
    "nsmq_2022[nsmq_2022['Region'] == 'Volta'].groupby('Region')['Category'].value_counts()"
   ]
  },
  {
   "cell_type": "markdown",
   "id": "a532bd90",
   "metadata": {},
   "source": [
    "Volta Region had a high representation from category B schools(4) followed by Category A(3) and 1 representation from C"
   ]
  },
  {
   "cell_type": "code",
   "execution_count": 48,
   "id": "2814b50a",
   "metadata": {
    "scrolled": true
   },
   "outputs": [
    {
     "data": {
      "text/plain": [
       "Region   Category\n",
       "Western  B           2\n",
       "         A           1\n",
       "         C           1\n",
       "Name: Category, dtype: int64"
      ]
     },
     "execution_count": 48,
     "metadata": {},
     "output_type": "execute_result"
    }
   ],
   "source": [
    "### Western\n",
    "nsmq_2022[nsmq_2022['Region'] == 'Western'].groupby('Region')['Category'].value_counts()"
   ]
  },
  {
   "cell_type": "markdown",
   "id": "ca7cf902",
   "metadata": {},
   "source": [
    "Western Region had the most representation from Category B schools with Category A and C having 1 representative"
   ]
  },
  {
   "cell_type": "code",
   "execution_count": 49,
   "id": "2133f4db",
   "metadata": {},
   "outputs": [
    {
     "data": {
      "text/plain": [
       "Region  Category\n",
       "Bono    A           2\n",
       "        B           1\n",
       "Name: Category, dtype: int64"
      ]
     },
     "execution_count": 49,
     "metadata": {},
     "output_type": "execute_result"
    }
   ],
   "source": [
    "### Bono\n",
    "nsmq_2022[nsmq_2022['Region'] == 'Bono'].groupby('Region')['Category'].value_counts()"
   ]
  },
  {
   "cell_type": "markdown",
   "id": "d67924d4",
   "metadata": {},
   "source": [
    "Bono had no representative from a Category C school with the most representation coming from a Category A(2) and B(1)"
   ]
  },
  {
   "cell_type": "code",
   "execution_count": 50,
   "id": "2e4f9731",
   "metadata": {
    "scrolled": true
   },
   "outputs": [
    {
     "data": {
      "text/plain": [
       "Region      Category\n",
       "Upper West  A           2\n",
       "            B           1\n",
       "Name: Category, dtype: int64"
      ]
     },
     "execution_count": 50,
     "metadata": {},
     "output_type": "execute_result"
    }
   ],
   "source": [
    "### Upper West\n",
    "nsmq_2022[nsmq_2022['Region'] == 'Upper West'].groupby('Region')['Category'].value_counts()"
   ]
  },
  {
   "cell_type": "markdown",
   "id": "ccb694bc",
   "metadata": {},
   "source": [
    "Upper West had no representative from a Category C school with the most representation coming from a Category A(2) and B(1)"
   ]
  },
  {
   "cell_type": "code",
   "execution_count": 51,
   "id": "cf1f265c",
   "metadata": {
    "scrolled": true
   },
   "outputs": [
    {
     "data": {
      "text/plain": [
       "Region      Category\n",
       "Upper East  A           2\n",
       "Name: Category, dtype: int64"
      ]
     },
     "execution_count": 51,
     "metadata": {},
     "output_type": "execute_result"
    }
   ],
   "source": [
    "### Upper East\n",
    "nsmq_2022[nsmq_2022['Region'] == 'Upper East'].groupby('Region')['Category'].value_counts()"
   ]
  },
  {
   "cell_type": "markdown",
   "id": "33a20321",
   "metadata": {},
   "source": [
    "The only representatives from the Upper East Region were both Category A school"
   ]
  },
  {
   "cell_type": "code",
   "execution_count": 52,
   "id": "9cefdef5",
   "metadata": {},
   "outputs": [
    {
     "data": {
      "text/plain": [
       "Region    Category\n",
       "Northern  A           1\n",
       "          C           1\n",
       "Name: Category, dtype: int64"
      ]
     },
     "execution_count": 52,
     "metadata": {},
     "output_type": "execute_result"
    }
   ],
   "source": [
    "### Northern\n",
    "nsmq_2022[nsmq_2022['Region'] == 'Northern'].groupby('Region')['Category'].value_counts()"
   ]
  },
  {
   "cell_type": "markdown",
   "id": "5f30f930",
   "metadata": {},
   "source": [
    "Northern Region was represented by only 2 Categories , 1 each from A and C"
   ]
  },
  {
   "cell_type": "code",
   "execution_count": 53,
   "id": "f853f23e",
   "metadata": {
    "scrolled": true
   },
   "outputs": [
    {
     "data": {
      "text/plain": [
       "Region     Category\n",
       "Bono East  B           2\n",
       "Name: Category, dtype: int64"
      ]
     },
     "execution_count": 53,
     "metadata": {},
     "output_type": "execute_result"
    }
   ],
   "source": [
    "### Bono East\n",
    "nsmq_2022[nsmq_2022['Region'] == 'Bono East'].groupby('Region')['Category'].value_counts()"
   ]
  },
  {
   "cell_type": "markdown",
   "id": "92585586",
   "metadata": {},
   "source": [
    "The 2 representing schools from Bono East were both Category B Schools"
   ]
  },
  {
   "cell_type": "code",
   "execution_count": 54,
   "id": "87197295",
   "metadata": {},
   "outputs": [
    {
     "data": {
      "text/plain": [
       "Region  Category\n",
       "Ahafo   A           1\n",
       "Name: Category, dtype: int64"
      ]
     },
     "execution_count": 54,
     "metadata": {},
     "output_type": "execute_result"
    }
   ],
   "source": [
    "### Ahafo\n",
    "nsmq_2022[nsmq_2022['Region'] == 'Ahafo'].groupby('Region')['Category'].value_counts()"
   ]
  },
  {
   "cell_type": "markdown",
   "id": "9303e242",
   "metadata": {},
   "source": [
    "The only representative for the Ahafo Region was a Category A School"
   ]
  },
  {
   "cell_type": "markdown",
   "id": "3779d1bc",
   "metadata": {},
   "source": [
    "### Which Category Recorded the Most and Least point per Region in the 1/8th_round"
   ]
  },
  {
   "cell_type": "code",
   "execution_count": 39,
   "id": "e24fd891",
   "metadata": {
    "scrolled": true
   },
   "outputs": [
    {
     "data": {
      "text/html": [
       "<div>\n",
       "<style scoped>\n",
       "    .dataframe tbody tr th:only-of-type {\n",
       "        vertical-align: middle;\n",
       "    }\n",
       "\n",
       "    .dataframe tbody tr th {\n",
       "        vertical-align: top;\n",
       "    }\n",
       "\n",
       "    .dataframe thead th {\n",
       "        text-align: right;\n",
       "    }\n",
       "</style>\n",
       "<table border=\"1\" class=\"dataframe\">\n",
       "  <thead>\n",
       "    <tr style=\"text-align: right;\">\n",
       "      <th></th>\n",
       "      <th>Category</th>\n",
       "      <th>1/8th_round_points</th>\n",
       "    </tr>\n",
       "  </thead>\n",
       "  <tbody>\n",
       "    <tr>\n",
       "      <th>0</th>\n",
       "      <td>A</td>\n",
       "      <td>1090</td>\n",
       "    </tr>\n",
       "    <tr>\n",
       "      <th>1</th>\n",
       "      <td>B</td>\n",
       "      <td>1026</td>\n",
       "    </tr>\n",
       "    <tr>\n",
       "      <th>2</th>\n",
       "      <td>C</td>\n",
       "      <td>400</td>\n",
       "    </tr>\n",
       "  </tbody>\n",
       "</table>\n",
       "</div>"
      ],
      "text/plain": [
       "  Category  1/8th_round_points\n",
       "0        A                1090\n",
       "1        B                1026\n",
       "2        C                 400"
      ]
     },
     "execution_count": 39,
     "metadata": {},
     "output_type": "execute_result"
    }
   ],
   "source": [
    "### Calculating the sum of all Points scored by the Categories\n",
    "nsmq_2022.groupby('Category')['1/8th_round_points'].sum().reset_index()"
   ]
  },
  {
   "cell_type": "code",
   "execution_count": 40,
   "id": "f37e2062",
   "metadata": {},
   "outputs": [
    {
     "data": {
      "image/png": "[encoded data removed]",
      "text/plain": [
       "<Figure size 576x576 with 1 Axes>"
      ]
     },
     "metadata": {},
     "output_type": "display_data"
    }
   ],
   "source": [
    "### Illustrating using a pie Chart\n",
    "nsmq_2022.groupby('Category')['1/8th_round_points'].sum().plot(kind = 'pie', autopct = '%1.2f%%', figsize = (8,8), fontsize = 12)\n",
    "plt.title('A Pie Chart representing the points accumulated by the GES Categorised Schools in the 1/8th Stage')\n",
    "plt.show()"
   ]
  },
  {
   "cell_type": "markdown",
   "id": "b737060b",
   "metadata": {},
   "source": [
    "Out of the 81 Schools that made it to the National Competition, Class B Schools had the most representatives with 36 schools ,32 were Class A School and 13 were Class C School all together accumulating a total of 2516 points at the 1/8th stage"
   ]
  },
  {
   "cell_type": "markdown",
   "id": "d0b76a87",
   "metadata": {},
   "source": [
    "Of the 2516 points accumulated at this stage, Category A Schools accumulated the most points(1,090) representing 43.32%,eventhough they had 4 less representatives than Category B Schools who accumulated 1,026 representing 40.78%, with the least total points for this stage accumulated by Category C schools who also had the least representatives "
   ]
  },
  {
   "cell_type": "code",
   "execution_count": 55,
   "id": "c173ed64",
   "metadata": {},
   "outputs": [
    {
     "data": {
      "text/html": [
       "<div>\n",
       "<style scoped>\n",
       "    .dataframe tbody tr th:only-of-type {\n",
       "        vertical-align: middle;\n",
       "    }\n",
       "\n",
       "    .dataframe tbody tr th {\n",
       "        vertical-align: top;\n",
       "    }\n",
       "\n",
       "    .dataframe thead th {\n",
       "        text-align: right;\n",
       "    }\n",
       "</style>\n",
       "<table border=\"1\" class=\"dataframe\">\n",
       "  <thead>\n",
       "    <tr style=\"text-align: right;\">\n",
       "      <th></th>\n",
       "      <th>Category</th>\n",
       "      <th>1/8th_round_points</th>\n",
       "    </tr>\n",
       "  </thead>\n",
       "  <tbody>\n",
       "    <tr>\n",
       "      <th>1</th>\n",
       "      <td>B</td>\n",
       "      <td>413</td>\n",
       "    </tr>\n",
       "    <tr>\n",
       "      <th>0</th>\n",
       "      <td>A</td>\n",
       "      <td>203</td>\n",
       "    </tr>\n",
       "    <tr>\n",
       "      <th>2</th>\n",
       "      <td>C</td>\n",
       "      <td>158</td>\n",
       "    </tr>\n",
       "  </tbody>\n",
       "</table>\n",
       "</div>"
      ],
      "text/plain": [
       "  Category  1/8th_round_points\n",
       "1        B                 413\n",
       "0        A                 203\n",
       "2        C                 158"
      ]
     },
     "execution_count": 55,
     "metadata": {},
     "output_type": "execute_result"
    }
   ],
   "source": [
    "### Ashanti\n",
    "nsmq_2022[nsmq_2022['Region'] == 'Ashanti'].groupby('Category')['1/8th_round_points'].sum().reset_index().sort_values(by = '1/8th_round_points', ascending = False)"
   ]
  },
  {
   "cell_type": "code",
   "execution_count": 56,
   "id": "b934ad4d",
   "metadata": {},
   "outputs": [
    {
     "data": {
      "image/png": "[encoded data removed]",
      "text/plain": [
       "<Figure size 576x576 with 1 Axes>"
      ]
     },
     "metadata": {},
     "output_type": "display_data"
    }
   ],
   "source": [
    "#### Illustrating using a pie Chart\n",
    "nsmq_2022[nsmq_2022['Region'] == 'Ashanti'].groupby('Category')['1/8th_round_points'].sum().plot(kind = 'pie', autopct = '%1.2f%%', figsize = (8,8), fontsize = 12)\n",
    "plt.title('A pie Chart illustrating the points contributed by the Categories of Schools in the Ashanti Region in the 1/8th_round_points')\n",
    "plt.show()"
   ]
  },
  {
   "cell_type": "markdown",
   "id": "609cdcae",
   "metadata": {},
   "source": [
    "The Schools from the Ashanti region accumulated a total of 774 points in the 1/8th_round. 53.36% of the points(413) was contributed by Category B Schools followed by Category A schools, contributing 26.23% of the points(203) with Category C school contributing the least, 158 points(20.41%)"
   ]
  },
  {
   "cell_type": "markdown",
   "id": "7edc6eab",
   "metadata": {},
   "source": [
    "This correlates positivley with the number of schools represented from each Category.Category B Schools had 13 representatives with Category A having 6 and C with 5."
   ]
  },
  {
   "cell_type": "code",
   "execution_count": 57,
   "id": "ec0d7f53",
   "metadata": {},
   "outputs": [
    {
     "data": {
      "text/html": [
       "<div>\n",
       "<style scoped>\n",
       "    .dataframe tbody tr th:only-of-type {\n",
       "        vertical-align: middle;\n",
       "    }\n",
       "\n",
       "    .dataframe tbody tr th {\n",
       "        vertical-align: top;\n",
       "    }\n",
       "\n",
       "    .dataframe thead th {\n",
       "        text-align: right;\n",
       "    }\n",
       "</style>\n",
       "<table border=\"1\" class=\"dataframe\">\n",
       "  <thead>\n",
       "    <tr style=\"text-align: right;\">\n",
       "      <th></th>\n",
       "      <th>Category</th>\n",
       "      <th>1/8th_round_points</th>\n",
       "    </tr>\n",
       "  </thead>\n",
       "  <tbody>\n",
       "    <tr>\n",
       "      <th>0</th>\n",
       "      <td>A</td>\n",
       "      <td>186</td>\n",
       "    </tr>\n",
       "    <tr>\n",
       "      <th>1</th>\n",
       "      <td>B</td>\n",
       "      <td>131</td>\n",
       "    </tr>\n",
       "    <tr>\n",
       "      <th>2</th>\n",
       "      <td>C</td>\n",
       "      <td>85</td>\n",
       "    </tr>\n",
       "  </tbody>\n",
       "</table>\n",
       "</div>"
      ],
      "text/plain": [
       "  Category  1/8th_round_points\n",
       "0        A                 186\n",
       "1        B                 131\n",
       "2        C                  85"
      ]
     },
     "execution_count": 57,
     "metadata": {},
     "output_type": "execute_result"
    }
   ],
   "source": [
    "### Eastern\n",
    "nsmq_2022[nsmq_2022['Region'] == 'Eastern'].groupby('Category')['1/8th_round_points'].sum().reset_index().sort_values(by = '1/8th_round_points', ascending = False)"
   ]
  },
  {
   "cell_type": "code",
   "execution_count": 58,
   "id": "b786e712",
   "metadata": {},
   "outputs": [
    {
     "data": {
      "image/png": "[encoded data removed]",
      "text/plain": [
       "<Figure size 576x576 with 1 Axes>"
      ]
     },
     "metadata": {},
     "output_type": "display_data"
    }
   ],
   "source": [
    "#### Illustrating using a pie Chart\n",
    "nsmq_2022[nsmq_2022['Region'] == 'Eastern'].groupby('Category')['1/8th_round_points'].sum().plot(kind = 'pie', autopct = '%1.2f%%', figsize = (8,8), fontsize = 12)\n",
    "plt.title('A pie Chart illustrating the points contributed by the Categories of Schools in the Eastern Region in the 1/8th_round_points')\n",
    "plt.show()"
   ]
  },
  {
   "cell_type": "markdown",
   "id": "947a37c6",
   "metadata": {},
   "source": [
    "With a total accumulated point of 186 by Category A schools(6) out of 402 recorded for the Eastern Region, they recorded the highest representing 46.27% followed by Category B school(4) pulling in 131 points representing 32.59% with Category C pulling in the least with 21.14% "
   ]
  },
  {
   "cell_type": "code",
   "execution_count": 59,
   "id": "c7450041",
   "metadata": {},
   "outputs": [
    {
     "data": {
      "text/html": [
       "<div>\n",
       "<style scoped>\n",
       "    .dataframe tbody tr th:only-of-type {\n",
       "        vertical-align: middle;\n",
       "    }\n",
       "\n",
       "    .dataframe tbody tr th {\n",
       "        vertical-align: top;\n",
       "    }\n",
       "\n",
       "    .dataframe thead th {\n",
       "        text-align: right;\n",
       "    }\n",
       "</style>\n",
       "<table border=\"1\" class=\"dataframe\">\n",
       "  <thead>\n",
       "    <tr style=\"text-align: right;\">\n",
       "      <th></th>\n",
       "      <th>Category</th>\n",
       "      <th>1/8th_round_points</th>\n",
       "    </tr>\n",
       "  </thead>\n",
       "  <tbody>\n",
       "    <tr>\n",
       "      <th>0</th>\n",
       "      <td>A</td>\n",
       "      <td>205</td>\n",
       "    </tr>\n",
       "    <tr>\n",
       "      <th>1</th>\n",
       "      <td>B</td>\n",
       "      <td>117</td>\n",
       "    </tr>\n",
       "    <tr>\n",
       "      <th>2</th>\n",
       "      <td>C</td>\n",
       "      <td>25</td>\n",
       "    </tr>\n",
       "  </tbody>\n",
       "</table>\n",
       "</div>"
      ],
      "text/plain": [
       "  Category  1/8th_round_points\n",
       "0        A                 205\n",
       "1        B                 117\n",
       "2        C                  25"
      ]
     },
     "execution_count": 59,
     "metadata": {},
     "output_type": "execute_result"
    }
   ],
   "source": [
    "### Greater Accra\n",
    "nsmq_2022[nsmq_2022['Region'] == 'Greater Accra'].groupby('Category')['1/8th_round_points'].sum().reset_index().sort_values(by = '1/8th_round_points', ascending = False)"
   ]
  },
  {
   "cell_type": "code",
   "execution_count": 60,
   "id": "b16e9df3",
   "metadata": {},
   "outputs": [
    {
     "data": {
      "image/png": "[encoded data removed]",
      "text/plain": [
       "<Figure size 576x576 with 1 Axes>"
      ]
     },
     "metadata": {},
     "output_type": "display_data"
    }
   ],
   "source": [
    "#### Illustrating using a pie Chart\n",
    "nsmq_2022[nsmq_2022['Region'] == 'Greater Accra'].groupby('Category')['1/8th_round_points'].sum().plot(kind = 'pie', autopct = '%1.2f%%', figsize = (8,8), fontsize = 12)\n",
    "plt.title('A pie Chart illustrating the points contributed by the Categories of Schools in the Greater Accra Region in the 1/8th_round_points')\n",
    "plt.show()"
   ]
  },
  {
   "cell_type": "markdown",
   "id": "6a484515",
   "metadata": {},
   "source": [
    "Eventhough the Greater Accra Region had an equal representation of both Category A and B Schools(5), Category A schools contributed the most points(205) representing 59.08% of 347 points accumulated by the region followed by Category B schools with 33.72% of the points and least being Category C with 7.20%"
   ]
  },
  {
   "cell_type": "code",
   "execution_count": 61,
   "id": "2aa89558",
   "metadata": {
    "scrolled": true
   },
   "outputs": [
    {
     "data": {
      "text/html": [
       "<div>\n",
       "<style scoped>\n",
       "    .dataframe tbody tr th:only-of-type {\n",
       "        vertical-align: middle;\n",
       "    }\n",
       "\n",
       "    .dataframe tbody tr th {\n",
       "        vertical-align: top;\n",
       "    }\n",
       "\n",
       "    .dataframe thead th {\n",
       "        text-align: right;\n",
       "    }\n",
       "</style>\n",
       "<table border=\"1\" class=\"dataframe\">\n",
       "  <thead>\n",
       "    <tr style=\"text-align: right;\">\n",
       "      <th></th>\n",
       "      <th>Category</th>\n",
       "      <th>1/8th_round_points</th>\n",
       "    </tr>\n",
       "  </thead>\n",
       "  <tbody>\n",
       "    <tr>\n",
       "      <th>0</th>\n",
       "      <td>A</td>\n",
       "      <td>168</td>\n",
       "    </tr>\n",
       "    <tr>\n",
       "      <th>1</th>\n",
       "      <td>B</td>\n",
       "      <td>144</td>\n",
       "    </tr>\n",
       "    <tr>\n",
       "      <th>2</th>\n",
       "      <td>C</td>\n",
       "      <td>31</td>\n",
       "    </tr>\n",
       "  </tbody>\n",
       "</table>\n",
       "</div>"
      ],
      "text/plain": [
       "  Category  1/8th_round_points\n",
       "0        A                 168\n",
       "1        B                 144\n",
       "2        C                  31"
      ]
     },
     "execution_count": 61,
     "metadata": {},
     "output_type": "execute_result"
    }
   ],
   "source": [
    "### Central\n",
    "nsmq_2022[nsmq_2022['Region'] == 'Central'].groupby('Category')['1/8th_round_points'].sum().reset_index().sort_values(by = '1/8th_round_points', ascending = False)"
   ]
  },
  {
   "cell_type": "code",
   "execution_count": 62,
   "id": "c27bc216",
   "metadata": {},
   "outputs": [
    {
     "data": {
      "image/png": "[encoded data removed]",
      "text/plain": [
       "<Figure size 576x576 with 1 Axes>"
      ]
     },
     "metadata": {},
     "output_type": "display_data"
    }
   ],
   "source": [
    "#### Illustrating using a pie Chart\n",
    "nsmq_2022[nsmq_2022['Region'] == 'Central'].groupby('Category')['1/8th_round_points'].sum().plot(kind = 'pie', autopct = '%1.2f%%', figsize = (8,8), fontsize = 12)\n",
    "plt.title('A pie Chart illustrating the points contributed by the Categories of Schools in the Central Region in the 1/8th_round_points')\n",
    "plt.show()"
   ]
  },
  {
   "cell_type": "markdown",
   "id": "05e5a725",
   "metadata": {},
   "source": [
    "With a total point point of 168, the Category A schools in the region contributed the most points which accounted for 48.98 % ,followed by category B and C school accounting for 41.98% and 9.04% respectively\n"
   ]
  },
  {
   "cell_type": "code",
   "execution_count": 63,
   "id": "006b2c10",
   "metadata": {},
   "outputs": [
    {
     "data": {
      "text/html": [
       "<div>\n",
       "<style scoped>\n",
       "    .dataframe tbody tr th:only-of-type {\n",
       "        vertical-align: middle;\n",
       "    }\n",
       "\n",
       "    .dataframe tbody tr th {\n",
       "        vertical-align: top;\n",
       "    }\n",
       "\n",
       "    .dataframe thead th {\n",
       "        text-align: right;\n",
       "    }\n",
       "</style>\n",
       "<table border=\"1\" class=\"dataframe\">\n",
       "  <thead>\n",
       "    <tr style=\"text-align: right;\">\n",
       "      <th></th>\n",
       "      <th>Category</th>\n",
       "      <th>1/8th_round_points</th>\n",
       "    </tr>\n",
       "  </thead>\n",
       "  <tbody>\n",
       "    <tr>\n",
       "      <th>0</th>\n",
       "      <td>A</td>\n",
       "      <td>114</td>\n",
       "    </tr>\n",
       "    <tr>\n",
       "      <th>1</th>\n",
       "      <td>B</td>\n",
       "      <td>98</td>\n",
       "    </tr>\n",
       "    <tr>\n",
       "      <th>2</th>\n",
       "      <td>C</td>\n",
       "      <td>28</td>\n",
       "    </tr>\n",
       "  </tbody>\n",
       "</table>\n",
       "</div>"
      ],
      "text/plain": [
       "  Category  1/8th_round_points\n",
       "0        A                 114\n",
       "1        B                  98\n",
       "2        C                  28"
      ]
     },
     "execution_count": 63,
     "metadata": {},
     "output_type": "execute_result"
    }
   ],
   "source": [
    "### Volta\n",
    "nsmq_2022[nsmq_2022['Region'] == 'Volta'].groupby('Category')['1/8th_round_points'].sum().reset_index().sort_values(by = '1/8th_round_points', ascending = False)"
   ]
  },
  {
   "cell_type": "code",
   "execution_count": 64,
   "id": "dc6db41b",
   "metadata": {},
   "outputs": [
    {
     "data": {
      "image/png": "[encoded data removed]",
      "text/plain": [
       "<Figure size 576x576 with 1 Axes>"
      ]
     },
     "metadata": {},
     "output_type": "display_data"
    }
   ],
   "source": [
    "#### Illustrating using a pie Chart\n",
    "nsmq_2022[nsmq_2022['Region'] == 'Volta'].groupby('Category')['1/8th_round_points'].sum().plot(kind = 'pie', autopct = '%1.2f%%', figsize = (8,8), fontsize = 12)\n",
    "plt.title('A pie Chart illustrating the points contributed by the Categories of Schools in the Volta Region in the 1/8th_round_points')\n",
    "plt.show()"
   ]
  },
  {
   "cell_type": "markdown",
   "id": "a5893486",
   "metadata": {},
   "source": [
    "Volta Region had 3 Category A schools who amassed a total of 114 points representing 47.50% followed by 98 points amassed by the 4 Category B Schools representing 40.83% and 11.67% from the Category C School(1)"
   ]
  },
  {
   "cell_type": "code",
   "execution_count": 65,
   "id": "e0af1d04",
   "metadata": {},
   "outputs": [
    {
     "data": {
      "text/html": [
       "<div>\n",
       "<style scoped>\n",
       "    .dataframe tbody tr th:only-of-type {\n",
       "        vertical-align: middle;\n",
       "    }\n",
       "\n",
       "    .dataframe tbody tr th {\n",
       "        vertical-align: top;\n",
       "    }\n",
       "\n",
       "    .dataframe thead th {\n",
       "        text-align: right;\n",
       "    }\n",
       "</style>\n",
       "<table border=\"1\" class=\"dataframe\">\n",
       "  <thead>\n",
       "    <tr style=\"text-align: right;\">\n",
       "      <th></th>\n",
       "      <th>Category</th>\n",
       "      <th>1/8th_round_points</th>\n",
       "    </tr>\n",
       "  </thead>\n",
       "  <tbody>\n",
       "    <tr>\n",
       "      <th>1</th>\n",
       "      <td>B</td>\n",
       "      <td>44</td>\n",
       "    </tr>\n",
       "    <tr>\n",
       "      <th>2</th>\n",
       "      <td>C</td>\n",
       "      <td>36</td>\n",
       "    </tr>\n",
       "    <tr>\n",
       "      <th>0</th>\n",
       "      <td>A</td>\n",
       "      <td>24</td>\n",
       "    </tr>\n",
       "  </tbody>\n",
       "</table>\n",
       "</div>"
      ],
      "text/plain": [
       "  Category  1/8th_round_points\n",
       "1        B                  44\n",
       "2        C                  36\n",
       "0        A                  24"
      ]
     },
     "execution_count": 65,
     "metadata": {},
     "output_type": "execute_result"
    }
   ],
   "source": [
    "### Western\n",
    "nsmq_2022[nsmq_2022['Region'] == 'Western'].groupby('Category')['1/8th_round_points'].sum().reset_index().sort_values(by = '1/8th_round_points', ascending = False)"
   ]
  },
  {
   "cell_type": "code",
   "execution_count": 66,
   "id": "621fed05",
   "metadata": {},
   "outputs": [
    {
     "data": {
      "image/png": "[encoded data removed]",
      "text/plain": [
       "<Figure size 576x576 with 1 Axes>"
      ]
     },
     "metadata": {},
     "output_type": "display_data"
    }
   ],
   "source": [
    "#### Illustrating using a pie Chart\n",
    "nsmq_2022[nsmq_2022['Region'] == 'Western'].groupby('Category')['1/8th_round_points'].sum().plot(kind = 'pie', autopct = '%1.2f%%', figsize = (8,8), fontsize = 12)\n",
    "plt.title('A pie Chart illustrating the points contributed by the Categories of Schools in the Western Region in the 1/8th_round_points')\n",
    "plt.show()"
   ]
  },
  {
   "cell_type": "markdown",
   "id": "f5bc02a7",
   "metadata": {},
   "source": [
    "Western Region had 2 Category B schools, 1 Category C School and 1 Category A School who amassed 44,36,and 28 points representing 42.31%,34.64% and 23.08% respectively"
   ]
  },
  {
   "cell_type": "code",
   "execution_count": 67,
   "id": "c9da68de",
   "metadata": {},
   "outputs": [
    {
     "data": {
      "text/html": [
       "<div>\n",
       "<style scoped>\n",
       "    .dataframe tbody tr th:only-of-type {\n",
       "        vertical-align: middle;\n",
       "    }\n",
       "\n",
       "    .dataframe tbody tr th {\n",
       "        vertical-align: top;\n",
       "    }\n",
       "\n",
       "    .dataframe thead th {\n",
       "        text-align: right;\n",
       "    }\n",
       "</style>\n",
       "<table border=\"1\" class=\"dataframe\">\n",
       "  <thead>\n",
       "    <tr style=\"text-align: right;\">\n",
       "      <th></th>\n",
       "      <th>Category</th>\n",
       "      <th>1/8th_round_points</th>\n",
       "    </tr>\n",
       "  </thead>\n",
       "  <tbody>\n",
       "    <tr>\n",
       "      <th>0</th>\n",
       "      <td>A</td>\n",
       "      <td>68</td>\n",
       "    </tr>\n",
       "    <tr>\n",
       "      <th>1</th>\n",
       "      <td>B</td>\n",
       "      <td>8</td>\n",
       "    </tr>\n",
       "  </tbody>\n",
       "</table>\n",
       "</div>"
      ],
      "text/plain": [
       "  Category  1/8th_round_points\n",
       "0        A                  68\n",
       "1        B                   8"
      ]
     },
     "execution_count": 67,
     "metadata": {},
     "output_type": "execute_result"
    }
   ],
   "source": [
    "### Bono\n",
    "nsmq_2022[nsmq_2022['Region'] == 'Bono'].groupby('Category')['1/8th_round_points'].sum().reset_index().sort_values(by = '1/8th_round_points', ascending = False)"
   ]
  },
  {
   "cell_type": "code",
   "execution_count": 68,
   "id": "100c5f02",
   "metadata": {},
   "outputs": [
    {
     "data": {
      "image/png": "[encoded data removed]",
      "text/plain": [
       "<Figure size 576x576 with 1 Axes>"
      ]
     },
     "metadata": {},
     "output_type": "display_data"
    }
   ],
   "source": [
    "#### Illustrating using a pie Chart\n",
    "nsmq_2022[nsmq_2022['Region'] == 'Bono'].groupby('Category')['1/8th_round_points'].sum().plot(kind = 'pie', autopct = '%1.2f%%', figsize = (8,8), fontsize = 12)\n",
    "plt.title('A pie Chart illustrating the points contributed by the Categories of Schools in the Bono Region in the 1/8th_round_points')\n",
    "plt.show()"
   ]
  },
  {
   "cell_type": "markdown",
   "id": "63bb2677",
   "metadata": {},
   "source": [
    "  Bono Region had 2 Category A schools and 1 Category B who amassed 68 and 8 points representing 89.47% and 10.53%% respectively"
   ]
  },
  {
   "cell_type": "code",
   "execution_count": 69,
   "id": "b53c9e93",
   "metadata": {},
   "outputs": [
    {
     "data": {
      "text/html": [
       "<div>\n",
       "<style scoped>\n",
       "    .dataframe tbody tr th:only-of-type {\n",
       "        vertical-align: middle;\n",
       "    }\n",
       "\n",
       "    .dataframe tbody tr th {\n",
       "        vertical-align: top;\n",
       "    }\n",
       "\n",
       "    .dataframe thead th {\n",
       "        text-align: right;\n",
       "    }\n",
       "</style>\n",
       "<table border=\"1\" class=\"dataframe\">\n",
       "  <thead>\n",
       "    <tr style=\"text-align: right;\">\n",
       "      <th></th>\n",
       "      <th>Category</th>\n",
       "      <th>1/8th_round_points</th>\n",
       "    </tr>\n",
       "  </thead>\n",
       "  <tbody>\n",
       "    <tr>\n",
       "      <th>0</th>\n",
       "      <td>A</td>\n",
       "      <td>58</td>\n",
       "    </tr>\n",
       "    <tr>\n",
       "      <th>1</th>\n",
       "      <td>B</td>\n",
       "      <td>15</td>\n",
       "    </tr>\n",
       "  </tbody>\n",
       "</table>\n",
       "</div>"
      ],
      "text/plain": [
       "  Category  1/8th_round_points\n",
       "0        A                  58\n",
       "1        B                  15"
      ]
     },
     "execution_count": 69,
     "metadata": {},
     "output_type": "execute_result"
    }
   ],
   "source": [
    "### Upper West\n",
    "nsmq_2022[nsmq_2022['Region'] == 'Upper West'].groupby('Category')['1/8th_round_points'].sum().reset_index().sort_values(by = '1/8th_round_points', ascending = False)"
   ]
  },
  {
   "cell_type": "code",
   "execution_count": 70,
   "id": "60af27da",
   "metadata": {},
   "outputs": [
    {
     "data": {
      "image/png": "[encoded data removed]",
      "text/plain": [
       "<Figure size 576x576 with 1 Axes>"
      ]
     },
     "metadata": {},
     "output_type": "display_data"
    }
   ],
   "source": [
    "#### Illustrating using a pie Chart\n",
    "nsmq_2022[nsmq_2022['Region'] == 'Upper West'].groupby('Category')['1/8th_round_points'].sum().plot(kind = 'pie', autopct = '%1.2f%%', figsize = (8,8), fontsize = 12)\n",
    "plt.title('A pie Chart illustrating the points contributed by the Categories of Schools in the Upper West Region in the 1/8th_round_points')\n",
    "plt.show()"
   ]
  },
  {
   "cell_type": "markdown",
   "id": "b1305764",
   "metadata": {},
   "source": [
    " Upper West Region had 2 Category A schools and 1 Category B school who amassed 58 and 15 points representing 79.45% and 20.55% respectively"
   ]
  },
  {
   "cell_type": "code",
   "execution_count": 71,
   "id": "d74fb040",
   "metadata": {},
   "outputs": [
    {
     "data": {
      "text/html": [
       "<div>\n",
       "<style scoped>\n",
       "    .dataframe tbody tr th:only-of-type {\n",
       "        vertical-align: middle;\n",
       "    }\n",
       "\n",
       "    .dataframe tbody tr th {\n",
       "        vertical-align: top;\n",
       "    }\n",
       "\n",
       "    .dataframe thead th {\n",
       "        text-align: right;\n",
       "    }\n",
       "</style>\n",
       "<table border=\"1\" class=\"dataframe\">\n",
       "  <thead>\n",
       "    <tr style=\"text-align: right;\">\n",
       "      <th></th>\n",
       "      <th>Category</th>\n",
       "      <th>1/8th_round_points</th>\n",
       "    </tr>\n",
       "  </thead>\n",
       "  <tbody>\n",
       "    <tr>\n",
       "      <th>0</th>\n",
       "      <td>A</td>\n",
       "      <td>29</td>\n",
       "    </tr>\n",
       "  </tbody>\n",
       "</table>\n",
       "</div>"
      ],
      "text/plain": [
       "  Category  1/8th_round_points\n",
       "0        A                  29"
      ]
     },
     "execution_count": 71,
     "metadata": {},
     "output_type": "execute_result"
    }
   ],
   "source": [
    "### Upper East\n",
    "nsmq_2022[nsmq_2022['Region'] == 'Upper East'].groupby('Category')['1/8th_round_points'].sum().reset_index().sort_values(by = '1/8th_round_points', ascending = False)"
   ]
  },
  {
   "cell_type": "code",
   "execution_count": 72,
   "id": "f066069d",
   "metadata": {},
   "outputs": [
    {
     "data": {
      "image/png": "[encoded data removed]",
      "text/plain": [
       "<Figure size 576x576 with 1 Axes>"
      ]
     },
     "metadata": {},
     "output_type": "display_data"
    }
   ],
   "source": [
    "#### Illustrating using a pie Chart\n",
    "nsmq_2022[nsmq_2022['Region'] == 'Upper East'].groupby('Category')['1/8th_round_points'].sum().plot(kind = 'pie', autopct = '%1.2f%%', figsize = (8,8), fontsize = 12)\n",
    "plt.title('A pie Chart illustrating the points contributed by the Categories of Schools in the Upper East Region in the 1/8th_round_points')\n",
    "plt.show()"
   ]
  },
  {
   "cell_type": "markdown",
   "id": "111d176e",
   "metadata": {},
   "source": [
    "The Region had only 1 representative being a Category A School"
   ]
  },
  {
   "cell_type": "code",
   "execution_count": 73,
   "id": "a4bc4f68",
   "metadata": {},
   "outputs": [
    {
     "data": {
      "text/html": [
       "<div>\n",
       "<style scoped>\n",
       "    .dataframe tbody tr th:only-of-type {\n",
       "        vertical-align: middle;\n",
       "    }\n",
       "\n",
       "    .dataframe tbody tr th {\n",
       "        vertical-align: top;\n",
       "    }\n",
       "\n",
       "    .dataframe thead th {\n",
       "        text-align: right;\n",
       "    }\n",
       "</style>\n",
       "<table border=\"1\" class=\"dataframe\">\n",
       "  <thead>\n",
       "    <tr style=\"text-align: right;\">\n",
       "      <th></th>\n",
       "      <th>Category</th>\n",
       "      <th>1/8th_round_points</th>\n",
       "    </tr>\n",
       "  </thead>\n",
       "  <tbody>\n",
       "    <tr>\n",
       "      <th>1</th>\n",
       "      <td>C</td>\n",
       "      <td>37</td>\n",
       "    </tr>\n",
       "    <tr>\n",
       "      <th>0</th>\n",
       "      <td>A</td>\n",
       "      <td>34</td>\n",
       "    </tr>\n",
       "  </tbody>\n",
       "</table>\n",
       "</div>"
      ],
      "text/plain": [
       "  Category  1/8th_round_points\n",
       "1        C                  37\n",
       "0        A                  34"
      ]
     },
     "execution_count": 73,
     "metadata": {},
     "output_type": "execute_result"
    }
   ],
   "source": [
    "### Northern\n",
    "nsmq_2022[nsmq_2022['Region'] == 'Northern'].groupby('Category')['1/8th_round_points'].sum().reset_index().sort_values(by = '1/8th_round_points', ascending = False)"
   ]
  },
  {
   "cell_type": "code",
   "execution_count": 74,
   "id": "89c1025d",
   "metadata": {},
   "outputs": [
    {
     "data": {
      "image/png": "[encoded data removed]",
      "text/plain": [
       "<Figure size 576x576 with 1 Axes>"
      ]
     },
     "metadata": {},
     "output_type": "display_data"
    }
   ],
   "source": [
    "#### Illustrating using a pie Chart\n",
    "nsmq_2022[nsmq_2022['Region'] == 'Northern'].groupby('Category')['1/8th_round_points'].sum().plot(kind = 'pie', autopct = '%1.2f%%', figsize = (8,8), fontsize = 12)\n",
    "plt.title('A pie Chart illustrating the points contributed by the Categories of Schools in the Northern Region in the 1/8th_round_points')\n",
    "plt.show()"
   ]
  },
  {
   "cell_type": "markdown",
   "id": "55d36338",
   "metadata": {},
   "source": [
    " Northern Region had 1 Category C school and 1 Category A who amassed 37 and 34 points representing 52.11% and 47.89% respectively"
   ]
  },
  {
   "cell_type": "code",
   "execution_count": 75,
   "id": "369977d8",
   "metadata": {},
   "outputs": [
    {
     "data": {
      "text/html": [
       "<div>\n",
       "<style scoped>\n",
       "    .dataframe tbody tr th:only-of-type {\n",
       "        vertical-align: middle;\n",
       "    }\n",
       "\n",
       "    .dataframe tbody tr th {\n",
       "        vertical-align: top;\n",
       "    }\n",
       "\n",
       "    .dataframe thead th {\n",
       "        text-align: right;\n",
       "    }\n",
       "</style>\n",
       "<table border=\"1\" class=\"dataframe\">\n",
       "  <thead>\n",
       "    <tr style=\"text-align: right;\">\n",
       "      <th></th>\n",
       "      <th>Category</th>\n",
       "      <th>1/8th_round_points</th>\n",
       "    </tr>\n",
       "  </thead>\n",
       "  <tbody>\n",
       "    <tr>\n",
       "      <th>0</th>\n",
       "      <td>B</td>\n",
       "      <td>56</td>\n",
       "    </tr>\n",
       "  </tbody>\n",
       "</table>\n",
       "</div>"
      ],
      "text/plain": [
       "  Category  1/8th_round_points\n",
       "0        B                  56"
      ]
     },
     "execution_count": 75,
     "metadata": {},
     "output_type": "execute_result"
    }
   ],
   "source": [
    "### Bono East\n",
    "nsmq_2022[nsmq_2022['Region'] == 'Bono East'].groupby('Category')['1/8th_round_points'].sum().reset_index().sort_values(by = '1/8th_round_points', ascending = False)"
   ]
  },
  {
   "cell_type": "code",
   "execution_count": 76,
   "id": "d9010163",
   "metadata": {},
   "outputs": [
    {
     "data": {
      "image/png": "[encoded data removed]",
      "text/plain": [
       "<Figure size 576x576 with 1 Axes>"
      ]
     },
     "metadata": {},
     "output_type": "display_data"
    }
   ],
   "source": [
    "#### Illustrating using a pie Chart\n",
    "nsmq_2022[nsmq_2022['Region'] == 'Bono East'].groupby('Category')['1/8th_round_points'].sum().plot(kind = 'pie', autopct = '%1.2f%%', figsize = (8,8), fontsize = 12)\n",
    "plt.title('A pie Chart illustrating the points contributed by the Categories of Schools in the Bono East Region in the 1/8th_round_points')\n",
    "plt.show()"
   ]
  },
  {
   "cell_type": "markdown",
   "id": "a5b86ea1",
   "metadata": {},
   "source": [
    "The Region had only 1 representative being a Category B School"
   ]
  },
  {
   "cell_type": "code",
   "execution_count": 77,
   "id": "9c01d18c",
   "metadata": {},
   "outputs": [
    {
     "data": {
      "text/html": [
       "<div>\n",
       "<style scoped>\n",
       "    .dataframe tbody tr th:only-of-type {\n",
       "        vertical-align: middle;\n",
       "    }\n",
       "\n",
       "    .dataframe tbody tr th {\n",
       "        vertical-align: top;\n",
       "    }\n",
       "\n",
       "    .dataframe thead th {\n",
       "        text-align: right;\n",
       "    }\n",
       "</style>\n",
       "<table border=\"1\" class=\"dataframe\">\n",
       "  <thead>\n",
       "    <tr style=\"text-align: right;\">\n",
       "      <th></th>\n",
       "      <th>Category</th>\n",
       "      <th>1/8th_round_points</th>\n",
       "    </tr>\n",
       "  </thead>\n",
       "  <tbody>\n",
       "    <tr>\n",
       "      <th>0</th>\n",
       "      <td>A</td>\n",
       "      <td>1</td>\n",
       "    </tr>\n",
       "  </tbody>\n",
       "</table>\n",
       "</div>"
      ],
      "text/plain": [
       "  Category  1/8th_round_points\n",
       "0        A                   1"
      ]
     },
     "execution_count": 77,
     "metadata": {},
     "output_type": "execute_result"
    }
   ],
   "source": [
    "### Ahafo\n",
    "nsmq_2022[nsmq_2022['Region'] == 'Ahafo'].groupby('Category')['1/8th_round_points'].sum().reset_index().sort_values(by = '1/8th_round_points', ascending = False)"
   ]
  },
  {
   "cell_type": "code",
   "execution_count": 78,
   "id": "b8166e19",
   "metadata": {},
   "outputs": [
    {
     "data": {
      "image/png": "[encoded data removed]",
      "text/plain": [
       "<Figure size 576x576 with 1 Axes>"
      ]
     },
     "metadata": {},
     "output_type": "display_data"
    }
   ],
   "source": [
    "#### Illustrating using a pie Chart\n",
    "nsmq_2022[nsmq_2022['Region'] == 'Ahafo'].groupby('Category')['1/8th_round_points'].sum().plot(kind = 'pie', autopct = '%1.2f%%', figsize = (8,8), fontsize = 12)\n",
    "plt.title('A pie Chart illustrating the points contributed by the Categories of Schools in the Ahafo Region in the 1/8th_round_points')\n",
    "plt.show()"
   ]
  },
  {
   "cell_type": "markdown",
   "id": "460907ef",
   "metadata": {},
   "source": [
    "The Region had only 1 representative being a Category A School"
   ]
  },
  {
   "cell_type": "markdown",
   "id": "d6823603",
   "metadata": {},
   "source": [
    "### Ranking The Sum Of Points Accumulated by Category A Schools Per Region At The 1/8th Round"
   ]
  },
  {
   "cell_type": "code",
   "execution_count": 79,
   "id": "e0ee7beb",
   "metadata": {},
   "outputs": [
    {
     "data": {
      "text/html": [
       "<div>\n",
       "<style scoped>\n",
       "    .dataframe tbody tr th:only-of-type {\n",
       "        vertical-align: middle;\n",
       "    }\n",
       "\n",
       "    .dataframe tbody tr th {\n",
       "        vertical-align: top;\n",
       "    }\n",
       "\n",
       "    .dataframe thead th {\n",
       "        text-align: right;\n",
       "    }\n",
       "</style>\n",
       "<table border=\"1\" class=\"dataframe\">\n",
       "  <thead>\n",
       "    <tr style=\"text-align: right;\">\n",
       "      <th></th>\n",
       "      <th>Region</th>\n",
       "      <th>1/8th_round_points</th>\n",
       "    </tr>\n",
       "  </thead>\n",
       "  <tbody>\n",
       "    <tr>\n",
       "      <th>5</th>\n",
       "      <td>Greater Accra</td>\n",
       "      <td>205</td>\n",
       "    </tr>\n",
       "    <tr>\n",
       "      <th>1</th>\n",
       "      <td>Ashanti</td>\n",
       "      <td>203</td>\n",
       "    </tr>\n",
       "    <tr>\n",
       "      <th>4</th>\n",
       "      <td>Eastern</td>\n",
       "      <td>186</td>\n",
       "    </tr>\n",
       "    <tr>\n",
       "      <th>3</th>\n",
       "      <td>Central</td>\n",
       "      <td>168</td>\n",
       "    </tr>\n",
       "    <tr>\n",
       "      <th>9</th>\n",
       "      <td>Volta</td>\n",
       "      <td>114</td>\n",
       "    </tr>\n",
       "    <tr>\n",
       "      <th>2</th>\n",
       "      <td>Bono</td>\n",
       "      <td>68</td>\n",
       "    </tr>\n",
       "    <tr>\n",
       "      <th>8</th>\n",
       "      <td>Upper West</td>\n",
       "      <td>58</td>\n",
       "    </tr>\n",
       "    <tr>\n",
       "      <th>6</th>\n",
       "      <td>Northern</td>\n",
       "      <td>34</td>\n",
       "    </tr>\n",
       "    <tr>\n",
       "      <th>7</th>\n",
       "      <td>Upper East</td>\n",
       "      <td>29</td>\n",
       "    </tr>\n",
       "    <tr>\n",
       "      <th>10</th>\n",
       "      <td>Western</td>\n",
       "      <td>24</td>\n",
       "    </tr>\n",
       "    <tr>\n",
       "      <th>0</th>\n",
       "      <td>Ahafo</td>\n",
       "      <td>1</td>\n",
       "    </tr>\n",
       "  </tbody>\n",
       "</table>\n",
       "</div>"
      ],
      "text/plain": [
       "           Region  1/8th_round_points\n",
       "5   Greater Accra                 205\n",
       "1         Ashanti                 203\n",
       "4         Eastern                 186\n",
       "3         Central                 168\n",
       "9           Volta                 114\n",
       "2            Bono                  68\n",
       "8      Upper West                  58\n",
       "6        Northern                  34\n",
       "7      Upper East                  29\n",
       "10        Western                  24\n",
       "0           Ahafo                   1"
      ]
     },
     "execution_count": 79,
     "metadata": {},
     "output_type": "execute_result"
    }
   ],
   "source": [
    "nsmq_2022[nsmq_2022['Category'] == 'A'].groupby('Region')['1/8th_round_points'].sum().reset_index().sort_values(by = '1/8th_round_points',ascending = False)"
   ]
  },
  {
   "cell_type": "markdown",
   "id": "a27b4d1a",
   "metadata": {},
   "source": [
    "The Category A schools from Greater Accra scored  the most points narrowly edging their Ashanti Region Counterparts eventhough they both had 5 representatives from this category."
   ]
  },
  {
   "cell_type": "markdown",
   "id": "f3e71245",
   "metadata": {},
   "source": [
    "Eastern Region had one more representative than Greater Accra and Ashanti region yet scored the 3rd highest points "
   ]
  },
  {
   "cell_type": "markdown",
   "id": "2d1e177b",
   "metadata": {},
   "source": [
    "Bono East Region was not represented by any Category A School"
   ]
  },
  {
   "cell_type": "markdown",
   "id": "51a5d309",
   "metadata": {},
   "source": [
    "### Ranking The Sum Of Points Accumulated by Category B Schools Per Region"
   ]
  },
  {
   "cell_type": "code",
   "execution_count": 80,
   "id": "aa906140",
   "metadata": {
    "scrolled": true
   },
   "outputs": [
    {
     "data": {
      "text/html": [
       "<div>\n",
       "<style scoped>\n",
       "    .dataframe tbody tr th:only-of-type {\n",
       "        vertical-align: middle;\n",
       "    }\n",
       "\n",
       "    .dataframe tbody tr th {\n",
       "        vertical-align: top;\n",
       "    }\n",
       "\n",
       "    .dataframe thead th {\n",
       "        text-align: right;\n",
       "    }\n",
       "</style>\n",
       "<table border=\"1\" class=\"dataframe\">\n",
       "  <thead>\n",
       "    <tr style=\"text-align: right;\">\n",
       "      <th></th>\n",
       "      <th>Region</th>\n",
       "      <th>1/8th_round_points</th>\n",
       "    </tr>\n",
       "  </thead>\n",
       "  <tbody>\n",
       "    <tr>\n",
       "      <th>0</th>\n",
       "      <td>Ashanti</td>\n",
       "      <td>413</td>\n",
       "    </tr>\n",
       "    <tr>\n",
       "      <th>3</th>\n",
       "      <td>Central</td>\n",
       "      <td>144</td>\n",
       "    </tr>\n",
       "    <tr>\n",
       "      <th>4</th>\n",
       "      <td>Eastern</td>\n",
       "      <td>131</td>\n",
       "    </tr>\n",
       "    <tr>\n",
       "      <th>5</th>\n",
       "      <td>Greater Accra</td>\n",
       "      <td>117</td>\n",
       "    </tr>\n",
       "    <tr>\n",
       "      <th>7</th>\n",
       "      <td>Volta</td>\n",
       "      <td>98</td>\n",
       "    </tr>\n",
       "    <tr>\n",
       "      <th>2</th>\n",
       "      <td>Bono East</td>\n",
       "      <td>56</td>\n",
       "    </tr>\n",
       "    <tr>\n",
       "      <th>8</th>\n",
       "      <td>Western</td>\n",
       "      <td>44</td>\n",
       "    </tr>\n",
       "    <tr>\n",
       "      <th>6</th>\n",
       "      <td>Upper West</td>\n",
       "      <td>15</td>\n",
       "    </tr>\n",
       "    <tr>\n",
       "      <th>1</th>\n",
       "      <td>Bono</td>\n",
       "      <td>8</td>\n",
       "    </tr>\n",
       "  </tbody>\n",
       "</table>\n",
       "</div>"
      ],
      "text/plain": [
       "          Region  1/8th_round_points\n",
       "0        Ashanti                 413\n",
       "3        Central                 144\n",
       "4        Eastern                 131\n",
       "5  Greater Accra                 117\n",
       "7          Volta                  98\n",
       "2      Bono East                  56\n",
       "8        Western                  44\n",
       "6     Upper West                  15\n",
       "1           Bono                   8"
      ]
     },
     "execution_count": 80,
     "metadata": {},
     "output_type": "execute_result"
    }
   ],
   "source": [
    "nsmq_2022[nsmq_2022['Category'] == 'B'].groupby('Region')['1/8th_round_points'].sum().reset_index().sort_values(by = '1/8th_round_points',ascending = False)"
   ]
  },
  {
   "cell_type": "markdown",
   "id": "389c2bcc",
   "metadata": {},
   "source": [
    "The category B schools From The Ashanti Region Outperformed their coungterparts by a huge margin as a result of having 13 representatives , 8 more than the next region Greater Accra with (5), and 9 more than their Eastern,Central and Volta Counterparts(4)\n"
   ]
  },
  {
   "cell_type": "markdown",
   "id": "7ea535c4",
   "metadata": {},
   "source": [
    "Nothern,Upper East and Ahafo regions had no representative from this Category"
   ]
  },
  {
   "cell_type": "markdown",
   "id": "13e1f2bd",
   "metadata": {},
   "source": [
    "### Ranking The Sum Of Points Accumulated by Category C Schools Per Region"
   ]
  },
  {
   "cell_type": "code",
   "execution_count": 81,
   "id": "5b8c0c8a",
   "metadata": {},
   "outputs": [
    {
     "data": {
      "text/html": [
       "<div>\n",
       "<style scoped>\n",
       "    .dataframe tbody tr th:only-of-type {\n",
       "        vertical-align: middle;\n",
       "    }\n",
       "\n",
       "    .dataframe tbody tr th {\n",
       "        vertical-align: top;\n",
       "    }\n",
       "\n",
       "    .dataframe thead th {\n",
       "        text-align: right;\n",
       "    }\n",
       "</style>\n",
       "<table border=\"1\" class=\"dataframe\">\n",
       "  <thead>\n",
       "    <tr style=\"text-align: right;\">\n",
       "      <th></th>\n",
       "      <th>Region</th>\n",
       "      <th>1/8th_round_points</th>\n",
       "    </tr>\n",
       "  </thead>\n",
       "  <tbody>\n",
       "    <tr>\n",
       "      <th>0</th>\n",
       "      <td>Ashanti</td>\n",
       "      <td>158</td>\n",
       "    </tr>\n",
       "    <tr>\n",
       "      <th>2</th>\n",
       "      <td>Eastern</td>\n",
       "      <td>85</td>\n",
       "    </tr>\n",
       "    <tr>\n",
       "      <th>4</th>\n",
       "      <td>Northern</td>\n",
       "      <td>37</td>\n",
       "    </tr>\n",
       "    <tr>\n",
       "      <th>6</th>\n",
       "      <td>Western</td>\n",
       "      <td>36</td>\n",
       "    </tr>\n",
       "    <tr>\n",
       "      <th>1</th>\n",
       "      <td>Central</td>\n",
       "      <td>31</td>\n",
       "    </tr>\n",
       "    <tr>\n",
       "      <th>5</th>\n",
       "      <td>Volta</td>\n",
       "      <td>28</td>\n",
       "    </tr>\n",
       "    <tr>\n",
       "      <th>3</th>\n",
       "      <td>Greater Accra</td>\n",
       "      <td>25</td>\n",
       "    </tr>\n",
       "  </tbody>\n",
       "</table>\n",
       "</div>"
      ],
      "text/plain": [
       "          Region  1/8th_round_points\n",
       "0        Ashanti                 158\n",
       "2        Eastern                  85\n",
       "4       Northern                  37\n",
       "6        Western                  36\n",
       "1        Central                  31\n",
       "5          Volta                  28\n",
       "3  Greater Accra                  25"
      ]
     },
     "execution_count": 81,
     "metadata": {},
     "output_type": "execute_result"
    }
   ],
   "source": [
    "nsmq_2022[nsmq_2022['Category'] == 'C'].groupby('Region')['1/8th_round_points'].sum().reset_index().sort_values(by = '1/8th_round_points',ascending = False)"
   ]
  },
  {
   "cell_type": "markdown",
   "id": "185aa7e2",
   "metadata": {},
   "source": [
    "The Ashanti region had the most representation with 6 schools which Translated into a high score as compared to the second placed Region having 2 representatives"
   ]
  },
  {
   "cell_type": "markdown",
   "id": "aaa00898",
   "metadata": {},
   "source": [
    "Ahafo,Bono East,Upper West, Upper East and Bono regions had no Category c representative"
   ]
  },
  {
   "cell_type": "markdown",
   "id": "20c2304c",
   "metadata": {},
   "source": [
    "### The Number Of Schools Per  Gender who  Participated in the 1/8th Round"
   ]
  },
  {
   "cell_type": "code",
   "execution_count": 82,
   "id": "3070283a",
   "metadata": {
    "scrolled": true
   },
   "outputs": [
    {
     "data": {
      "text/plain": [
       "Gender  Region       \n",
       "Boys    Ashanti          5\n",
       "        Central          3\n",
       "        Greater Accra    3\n",
       "        Eastern          2\n",
       "        Upper West       2\n",
       "        Bono             1\n",
       "        Upper East       1\n",
       "        Volta            1\n",
       "Name: Region, dtype: int64"
      ]
     },
     "execution_count": 82,
     "metadata": {},
     "output_type": "execute_result"
    }
   ],
   "source": [
    "nsmq_2022[nsmq_2022['Gender'] == 'Boys'].groupby('Gender')['Region'].value_counts()"
   ]
  },
  {
   "cell_type": "markdown",
   "id": "bde9208e",
   "metadata": {},
   "source": [
    "Ashanti Region had the most boys school representation with 5 followed by Central and Greater Accra with 3, Eastern and Upper West with 2 and finally Bono,Upper East and volta with 1"
   ]
  },
  {
   "cell_type": "code",
   "execution_count": 83,
   "id": "60afcc11",
   "metadata": {},
   "outputs": [
    {
     "data": {
      "text/plain": [
       "Gender  Region       \n",
       "Girls   Ashanti          3\n",
       "        Bono East        1\n",
       "        Central          1\n",
       "        Eastern          1\n",
       "        Greater Accra    1\n",
       "        Volta            1\n",
       "Name: Region, dtype: int64"
      ]
     },
     "execution_count": 83,
     "metadata": {},
     "output_type": "execute_result"
    }
   ],
   "source": [
    "nsmq_2022[nsmq_2022['Gender'] == 'Girls'].groupby('Gender')['Region'].value_counts()"
   ]
  },
  {
   "cell_type": "markdown",
   "id": "03ed881b",
   "metadata": {},
   "source": [
    "The Ashanti Region had the most Girls School Representation with 3 followed by Bono East,Central,Eastern, Greater Accra adn Volta with 1 representative each"
   ]
  },
  {
   "cell_type": "code",
   "execution_count": 84,
   "id": "91d24827",
   "metadata": {},
   "outputs": [
    {
     "data": {
      "text/plain": [
       "Gender  Region       \n",
       "Mixed   Ashanti          16\n",
       "        Eastern           9\n",
       "        Greater Accra     7\n",
       "        Volta             6\n",
       "        Central           5\n",
       "        Western           4\n",
       "        Bono              2\n",
       "        Northern          2\n",
       "        Ahafo             1\n",
       "        Bono East         1\n",
       "        Upper East        1\n",
       "        Upper West        1\n",
       "Name: Region, dtype: int64"
      ]
     },
     "execution_count": 84,
     "metadata": {},
     "output_type": "execute_result"
    }
   ],
   "source": [
    "nsmq_2022[nsmq_2022['Gender'] == 'Mixed'].groupby('Gender')['Region'].value_counts()"
   ]
  },
  {
   "cell_type": "markdown",
   "id": "621f420c",
   "metadata": {},
   "source": [
    "The Ashanti Region had the most Mixed School Representation with 16, foloowed by Eastern,Greater Accra,Volta,Central,Western,Bono,Northern,Ahafo,Bono East,Upper East,Upper West with 9,7,6,5,4,2,2,1,1,1,1 repectuvely"
   ]
  },
  {
   "cell_type": "markdown",
   "id": "2fb5042f",
   "metadata": {},
   "source": [
    "### Which Schools  Scored the Most points and Least Points Per Gender By Region In the 1/8th Round"
   ]
  },
  {
   "cell_type": "code",
   "execution_count": 85,
   "id": "8dac2f62",
   "metadata": {},
   "outputs": [
    {
     "data": {
      "text/html": [
       "<div>\n",
       "<style scoped>\n",
       "    .dataframe tbody tr th:only-of-type {\n",
       "        vertical-align: middle;\n",
       "    }\n",
       "\n",
       "    .dataframe tbody tr th {\n",
       "        vertical-align: top;\n",
       "    }\n",
       "\n",
       "    .dataframe thead th {\n",
       "        text-align: right;\n",
       "    }\n",
       "</style>\n",
       "<table border=\"1\" class=\"dataframe\">\n",
       "  <thead>\n",
       "    <tr style=\"text-align: right;\">\n",
       "      <th></th>\n",
       "      <th>Gender</th>\n",
       "      <th>1/8th_round_points</th>\n",
       "    </tr>\n",
       "  </thead>\n",
       "  <tbody>\n",
       "    <tr>\n",
       "      <th>2</th>\n",
       "      <td>Mixed</td>\n",
       "      <td>1564</td>\n",
       "    </tr>\n",
       "    <tr>\n",
       "      <th>0</th>\n",
       "      <td>Boys</td>\n",
       "      <td>788</td>\n",
       "    </tr>\n",
       "    <tr>\n",
       "      <th>1</th>\n",
       "      <td>Girls</td>\n",
       "      <td>164</td>\n",
       "    </tr>\n",
       "  </tbody>\n",
       "</table>\n",
       "</div>"
      ],
      "text/plain": [
       "  Gender  1/8th_round_points\n",
       "2  Mixed                1564\n",
       "0   Boys                 788\n",
       "1  Girls                 164"
      ]
     },
     "execution_count": 85,
     "metadata": {},
     "output_type": "execute_result"
    }
   ],
   "source": [
    "#### Calculating The Sum of Points scored by Each Gender Acoss All Regions\n",
    "nsmq_2022.groupby('Gender')['1/8th_round_points'].sum().reset_index().sort_values(by = '1/8th_round_points',ascending = False)"
   ]
  },
  {
   "cell_type": "code",
   "execution_count": 86,
   "id": "0477a52d",
   "metadata": {},
   "outputs": [
    {
     "data": {
      "image/png": "[encoded data removed]",
      "text/plain": [
       "<Figure size 576x576 with 1 Axes>"
      ]
     },
     "metadata": {},
     "output_type": "display_data"
    }
   ],
   "source": [
    "#### Illustrating using a pie Chart\n",
    "nsmq_2022.groupby('Gender')['1/8th_round_points'].sum().plot(kind = 'pie', autopct = '%1.2f%%', figsize = (8,8), fontsize = 12)\n",
    "plt.title('A pie chart illustratring the total points accumulated in the 1/8th Round by Gender')\n",
    "plt.show()"
   ]
  },
  {
   "cell_type": "markdown",
   "id": "957c4742",
   "metadata": {},
   "source": [
    "It is not surprising that Mixed Schools had the most accumulated points as they had 55 representaions followed by Boys only Schools with 18 and the least points being Girls only Schools with a total of 8 representations "
   ]
  },
  {
   "cell_type": "code",
   "execution_count": 87,
   "id": "82a12110",
   "metadata": {},
   "outputs": [
    {
     "data": {
      "text/html": [
       "<div>\n",
       "<style scoped>\n",
       "    .dataframe tbody tr th:only-of-type {\n",
       "        vertical-align: middle;\n",
       "    }\n",
       "\n",
       "    .dataframe tbody tr th {\n",
       "        vertical-align: top;\n",
       "    }\n",
       "\n",
       "    .dataframe thead th {\n",
       "        text-align: right;\n",
       "    }\n",
       "</style>\n",
       "<table border=\"1\" class=\"dataframe\">\n",
       "  <thead>\n",
       "    <tr style=\"text-align: right;\">\n",
       "      <th></th>\n",
       "      <th>Schools</th>\n",
       "      <th>1/8th_round_points</th>\n",
       "    </tr>\n",
       "  </thead>\n",
       "  <tbody>\n",
       "    <tr>\n",
       "      <th>7</th>\n",
       "      <td>Opoku Ware School</td>\n",
       "      <td>64</td>\n",
       "    </tr>\n",
       "    <tr>\n",
       "      <th>0</th>\n",
       "      <td>Accra Academy</td>\n",
       "      <td>60</td>\n",
       "    </tr>\n",
       "    <tr>\n",
       "      <th>8</th>\n",
       "      <td>Osei Tutu SHS</td>\n",
       "      <td>55</td>\n",
       "    </tr>\n",
       "    <tr>\n",
       "      <th>11</th>\n",
       "      <td>Presec, Legon</td>\n",
       "      <td>54</td>\n",
       "    </tr>\n",
       "    <tr>\n",
       "      <th>1</th>\n",
       "      <td>Adisadel College</td>\n",
       "      <td>52</td>\n",
       "    </tr>\n",
       "    <tr>\n",
       "      <th>15</th>\n",
       "      <td>St.James Sem.SHS</td>\n",
       "      <td>49</td>\n",
       "    </tr>\n",
       "    <tr>\n",
       "      <th>3</th>\n",
       "      <td>Kumasi High School</td>\n",
       "      <td>48</td>\n",
       "    </tr>\n",
       "    <tr>\n",
       "      <th>13</th>\n",
       "      <td>St.Augustine's College</td>\n",
       "      <td>48</td>\n",
       "    </tr>\n",
       "    <tr>\n",
       "      <th>10</th>\n",
       "      <td>Prempeh College</td>\n",
       "      <td>46</td>\n",
       "    </tr>\n",
       "    <tr>\n",
       "      <th>16</th>\n",
       "      <td>St.Peter's SHS</td>\n",
       "      <td>45</td>\n",
       "    </tr>\n",
       "    <tr>\n",
       "      <th>2</th>\n",
       "      <td>Bishop Herman College</td>\n",
       "      <td>43</td>\n",
       "    </tr>\n",
       "    <tr>\n",
       "      <th>17</th>\n",
       "      <td>St.Thomas Aquinas SHS</td>\n",
       "      <td>40</td>\n",
       "    </tr>\n",
       "    <tr>\n",
       "      <th>4</th>\n",
       "      <td>Mfantsipim SHS</td>\n",
       "      <td>39</td>\n",
       "    </tr>\n",
       "    <tr>\n",
       "      <th>12</th>\n",
       "      <td>St. Francis Xavier Jnr.Sem</td>\n",
       "      <td>38</td>\n",
       "    </tr>\n",
       "    <tr>\n",
       "      <th>9</th>\n",
       "      <td>Pope John Min.Sem.SHS</td>\n",
       "      <td>31</td>\n",
       "    </tr>\n",
       "    <tr>\n",
       "      <th>14</th>\n",
       "      <td>St.Hubert Sem.SHS</td>\n",
       "      <td>30</td>\n",
       "    </tr>\n",
       "    <tr>\n",
       "      <th>6</th>\n",
       "      <td>Notre Dame Sem.SHS</td>\n",
       "      <td>26</td>\n",
       "    </tr>\n",
       "    <tr>\n",
       "      <th>5</th>\n",
       "      <td>Nandom SHS</td>\n",
       "      <td>20</td>\n",
       "    </tr>\n",
       "  </tbody>\n",
       "</table>\n",
       "</div>"
      ],
      "text/plain": [
       "                       Schools  1/8th_round_points\n",
       "7            Opoku Ware School                  64\n",
       "0               Accra Academy                   60\n",
       "8                Osei Tutu SHS                  55\n",
       "11               Presec, Legon                  54\n",
       "1            Adisadel College                   52\n",
       "15            St.James Sem.SHS                  49\n",
       "3           Kumasi High School                  48\n",
       "13     St.Augustine's College                   48\n",
       "10             Prempeh College                  46\n",
       "16              St.Peter's SHS                  45\n",
       "2        Bishop Herman College                  43\n",
       "17       St.Thomas Aquinas SHS                  40\n",
       "4               Mfantsipim SHS                  39\n",
       "12  St. Francis Xavier Jnr.Sem                  38\n",
       "9        Pope John Min.Sem.SHS                  31\n",
       "14           St.Hubert Sem.SHS                  30\n",
       "6           Notre Dame Sem.SHS                  26\n",
       "5                   Nandom SHS                  20"
      ]
     },
     "execution_count": 87,
     "metadata": {},
     "output_type": "execute_result"
    }
   ],
   "source": [
    "### Comparing Points Earned By Boys Only Schools\n",
    "nsmq_2022[nsmq_2022['Gender'] == 'Boys'].groupby('Schools')['1/8th_round_points'].max().reset_index().sort_values(by = '1/8th_round_points',ascending = False)"
   ]
  },
  {
   "cell_type": "code",
   "execution_count": 88,
   "id": "7ca484c0",
   "metadata": {},
   "outputs": [
    {
     "data": {
      "text/html": [
       "<div>\n",
       "<style scoped>\n",
       "    .dataframe tbody tr th:only-of-type {\n",
       "        vertical-align: middle;\n",
       "    }\n",
       "\n",
       "    .dataframe tbody tr th {\n",
       "        vertical-align: top;\n",
       "    }\n",
       "\n",
       "    .dataframe thead th {\n",
       "        text-align: right;\n",
       "    }\n",
       "</style>\n",
       "<table border=\"1\" class=\"dataframe\">\n",
       "  <thead>\n",
       "    <tr style=\"text-align: right;\">\n",
       "      <th></th>\n",
       "      <th>Schools</th>\n",
       "      <th>1/8th_round_points</th>\n",
       "    </tr>\n",
       "  </thead>\n",
       "  <tbody>\n",
       "    <tr>\n",
       "      <th>3</th>\n",
       "      <td>Our Lady of Mt.Carmel Girls' SHS</td>\n",
       "      <td>29</td>\n",
       "    </tr>\n",
       "    <tr>\n",
       "      <th>6</th>\n",
       "      <td>Wesley Girls' High School</td>\n",
       "      <td>29</td>\n",
       "    </tr>\n",
       "    <tr>\n",
       "      <th>0</th>\n",
       "      <td>Krobo Girls' SHS</td>\n",
       "      <td>24</td>\n",
       "    </tr>\n",
       "    <tr>\n",
       "      <th>7</th>\n",
       "      <td>Yaa Asantewaa Girls' SHS</td>\n",
       "      <td>24</td>\n",
       "    </tr>\n",
       "    <tr>\n",
       "      <th>4</th>\n",
       "      <td>St.Loius SHS</td>\n",
       "      <td>21</td>\n",
       "    </tr>\n",
       "    <tr>\n",
       "      <th>2</th>\n",
       "      <td>OLA SHS, Ho</td>\n",
       "      <td>18</td>\n",
       "    </tr>\n",
       "    <tr>\n",
       "      <th>5</th>\n",
       "      <td>St.Mary's SHS, Accra</td>\n",
       "      <td>17</td>\n",
       "    </tr>\n",
       "    <tr>\n",
       "      <th>1</th>\n",
       "      <td>Kumasi Wesley Girls'</td>\n",
       "      <td>2</td>\n",
       "    </tr>\n",
       "  </tbody>\n",
       "</table>\n",
       "</div>"
      ],
      "text/plain": [
       "                            Schools  1/8th_round_points\n",
       "3  Our Lady of Mt.Carmel Girls' SHS                  29\n",
       "6         Wesley Girls' High School                  29\n",
       "0                  Krobo Girls' SHS                  24\n",
       "7          Yaa Asantewaa Girls' SHS                  24\n",
       "4                      St.Loius SHS                  21\n",
       "2                       OLA SHS, Ho                  18\n",
       "5              St.Mary's SHS, Accra                  17\n",
       "1              Kumasi Wesley Girls'                   2"
      ]
     },
     "execution_count": 88,
     "metadata": {},
     "output_type": "execute_result"
    }
   ],
   "source": [
    "### Comparing Points earned By Girls Only Schools\n",
    "nsmq_2022[nsmq_2022['Gender'] == 'Girls'].groupby('Schools')['1/8th_round_points'].max().reset_index().sort_values(by = '1/8th_round_points',ascending = False)"
   ]
  },
  {
   "cell_type": "code",
   "execution_count": 89,
   "id": "13da8647",
   "metadata": {},
   "outputs": [
    {
     "data": {
      "text/html": [
       "<div>\n",
       "<style scoped>\n",
       "    .dataframe tbody tr th:only-of-type {\n",
       "        vertical-align: middle;\n",
       "    }\n",
       "\n",
       "    .dataframe tbody tr th {\n",
       "        vertical-align: top;\n",
       "    }\n",
       "\n",
       "    .dataframe thead th {\n",
       "        text-align: right;\n",
       "    }\n",
       "</style>\n",
       "<table border=\"1\" class=\"dataframe\">\n",
       "  <thead>\n",
       "    <tr style=\"text-align: right;\">\n",
       "      <th></th>\n",
       "      <th>Schools</th>\n",
       "      <th>1/8th_round_points</th>\n",
       "    </tr>\n",
       "  </thead>\n",
       "  <tbody>\n",
       "    <tr>\n",
       "      <th>29</th>\n",
       "      <td>Mawuli SHS</td>\n",
       "      <td>53</td>\n",
       "    </tr>\n",
       "    <tr>\n",
       "      <th>23</th>\n",
       "      <td>Keta SHTS</td>\n",
       "      <td>52</td>\n",
       "    </tr>\n",
       "    <tr>\n",
       "      <th>4</th>\n",
       "      <td>Adventist SHS, Bantama</td>\n",
       "      <td>51</td>\n",
       "    </tr>\n",
       "    <tr>\n",
       "      <th>0</th>\n",
       "      <td>Abetifi Presby SHS</td>\n",
       "      <td>50</td>\n",
       "    </tr>\n",
       "    <tr>\n",
       "      <th>38</th>\n",
       "      <td>Presby SHTS, Aburi</td>\n",
       "      <td>47</td>\n",
       "    </tr>\n",
       "    <tr>\n",
       "      <th>9</th>\n",
       "      <td>Asanteman SHS</td>\n",
       "      <td>45</td>\n",
       "    </tr>\n",
       "    <tr>\n",
       "      <th>46</th>\n",
       "      <td>Swedru SHS</td>\n",
       "      <td>41</td>\n",
       "    </tr>\n",
       "    <tr>\n",
       "      <th>21</th>\n",
       "      <td>KNUST SHS</td>\n",
       "      <td>41</td>\n",
       "    </tr>\n",
       "    <tr>\n",
       "      <th>52</th>\n",
       "      <td>University Practice SHS</td>\n",
       "      <td>40</td>\n",
       "    </tr>\n",
       "    <tr>\n",
       "      <th>36</th>\n",
       "      <td>Osei Kyeretwie SHS</td>\n",
       "      <td>38</td>\n",
       "    </tr>\n",
       "    <tr>\n",
       "      <th>37</th>\n",
       "      <td>Presby SHS, Suhum</td>\n",
       "      <td>38</td>\n",
       "    </tr>\n",
       "    <tr>\n",
       "      <th>47</th>\n",
       "      <td>Tamale Islamic Science SHS</td>\n",
       "      <td>37</td>\n",
       "    </tr>\n",
       "    <tr>\n",
       "      <th>16</th>\n",
       "      <td>Fiaseman SHS</td>\n",
       "      <td>36</td>\n",
       "    </tr>\n",
       "    <tr>\n",
       "      <th>8</th>\n",
       "      <td>Apam SHS</td>\n",
       "      <td>35</td>\n",
       "    </tr>\n",
       "    <tr>\n",
       "      <th>26</th>\n",
       "      <td>Kumasi Academy</td>\n",
       "      <td>35</td>\n",
       "    </tr>\n",
       "    <tr>\n",
       "      <th>3</th>\n",
       "      <td>Adu Gyamfi SHS</td>\n",
       "      <td>35</td>\n",
       "    </tr>\n",
       "    <tr>\n",
       "      <th>48</th>\n",
       "      <td>Tamale SHS</td>\n",
       "      <td>34</td>\n",
       "    </tr>\n",
       "    <tr>\n",
       "      <th>2</th>\n",
       "      <td>Achimota School</td>\n",
       "      <td>34</td>\n",
       "    </tr>\n",
       "    <tr>\n",
       "      <th>51</th>\n",
       "      <td>Toase SHS</td>\n",
       "      <td>33</td>\n",
       "    </tr>\n",
       "    <tr>\n",
       "      <th>28</th>\n",
       "      <td>Mankranso SHS</td>\n",
       "      <td>31</td>\n",
       "    </tr>\n",
       "    <tr>\n",
       "      <th>11</th>\n",
       "      <td>Assisn State College</td>\n",
       "      <td>31</td>\n",
       "    </tr>\n",
       "    <tr>\n",
       "      <th>19</th>\n",
       "      <td>Ghana SHS, Koforidua</td>\n",
       "      <td>31</td>\n",
       "    </tr>\n",
       "    <tr>\n",
       "      <th>33</th>\n",
       "      <td>Oda SHS</td>\n",
       "      <td>31</td>\n",
       "    </tr>\n",
       "    <tr>\n",
       "      <th>5</th>\n",
       "      <td>Amaniampong SHS</td>\n",
       "      <td>30</td>\n",
       "    </tr>\n",
       "    <tr>\n",
       "      <th>49</th>\n",
       "      <td>Tarkwa SHS</td>\n",
       "      <td>30</td>\n",
       "    </tr>\n",
       "    <tr>\n",
       "      <th>24</th>\n",
       "      <td>Koforidua Sec.Tech</td>\n",
       "      <td>30</td>\n",
       "    </tr>\n",
       "    <tr>\n",
       "      <th>40</th>\n",
       "      <td>Sakafia Islamic SHS</td>\n",
       "      <td>29</td>\n",
       "    </tr>\n",
       "    <tr>\n",
       "      <th>44</th>\n",
       "      <td>Sonrise Christian High School</td>\n",
       "      <td>28</td>\n",
       "    </tr>\n",
       "    <tr>\n",
       "      <th>54</th>\n",
       "      <td>West African SHS</td>\n",
       "      <td>28</td>\n",
       "    </tr>\n",
       "    <tr>\n",
       "      <th>18</th>\n",
       "      <td>Ghana National College</td>\n",
       "      <td>28</td>\n",
       "    </tr>\n",
       "    <tr>\n",
       "      <th>20</th>\n",
       "      <td>Ghanata SHS</td>\n",
       "      <td>28</td>\n",
       "    </tr>\n",
       "    <tr>\n",
       "      <th>6</th>\n",
       "      <td>Anglican SHS, Kumasi</td>\n",
       "      <td>27</td>\n",
       "    </tr>\n",
       "    <tr>\n",
       "      <th>50</th>\n",
       "      <td>Techiman SHS</td>\n",
       "      <td>27</td>\n",
       "    </tr>\n",
       "    <tr>\n",
       "      <th>31</th>\n",
       "      <td>Nkwatia Presby SHS</td>\n",
       "      <td>25</td>\n",
       "    </tr>\n",
       "    <tr>\n",
       "      <th>10</th>\n",
       "      <td>Ashaiman SHS</td>\n",
       "      <td>25</td>\n",
       "    </tr>\n",
       "    <tr>\n",
       "      <th>30</th>\n",
       "      <td>Mpraeso SHS</td>\n",
       "      <td>25</td>\n",
       "    </tr>\n",
       "    <tr>\n",
       "      <th>35</th>\n",
       "      <td>Ofori Panin SHS</td>\n",
       "      <td>25</td>\n",
       "    </tr>\n",
       "    <tr>\n",
       "      <th>53</th>\n",
       "      <td>Wesley SHS, Bekwai</td>\n",
       "      <td>25</td>\n",
       "    </tr>\n",
       "    <tr>\n",
       "      <th>17</th>\n",
       "      <td>Fijai SHS</td>\n",
       "      <td>24</td>\n",
       "    </tr>\n",
       "    <tr>\n",
       "      <th>27</th>\n",
       "      <td>Kumasi Sec.Tech</td>\n",
       "      <td>22</td>\n",
       "    </tr>\n",
       "    <tr>\n",
       "      <th>34</th>\n",
       "      <td>Odorgono SHS</td>\n",
       "      <td>21</td>\n",
       "    </tr>\n",
       "    <tr>\n",
       "      <th>32</th>\n",
       "      <td>Nungua SHS</td>\n",
       "      <td>21</td>\n",
       "    </tr>\n",
       "    <tr>\n",
       "      <th>45</th>\n",
       "      <td>Sunyani SHS</td>\n",
       "      <td>19</td>\n",
       "    </tr>\n",
       "    <tr>\n",
       "      <th>14</th>\n",
       "      <td>Chemu SHS</td>\n",
       "      <td>19</td>\n",
       "    </tr>\n",
       "    <tr>\n",
       "      <th>12</th>\n",
       "      <td>Awudome SHS</td>\n",
       "      <td>18</td>\n",
       "    </tr>\n",
       "    <tr>\n",
       "      <th>25</th>\n",
       "      <td>Konongo Odumase SHS</td>\n",
       "      <td>17</td>\n",
       "    </tr>\n",
       "    <tr>\n",
       "      <th>7</th>\n",
       "      <td>Anlo SHS</td>\n",
       "      <td>15</td>\n",
       "    </tr>\n",
       "    <tr>\n",
       "      <th>42</th>\n",
       "      <td>Simms SHS</td>\n",
       "      <td>15</td>\n",
       "    </tr>\n",
       "    <tr>\n",
       "      <th>22</th>\n",
       "      <td>Kanton SHS</td>\n",
       "      <td>15</td>\n",
       "    </tr>\n",
       "    <tr>\n",
       "      <th>41</th>\n",
       "      <td>Shama SHS</td>\n",
       "      <td>14</td>\n",
       "    </tr>\n",
       "    <tr>\n",
       "      <th>43</th>\n",
       "      <td>Sogakope SHS</td>\n",
       "      <td>13</td>\n",
       "    </tr>\n",
       "    <tr>\n",
       "      <th>39</th>\n",
       "      <td>SDA SHS,Bekwai</td>\n",
       "      <td>10</td>\n",
       "    </tr>\n",
       "    <tr>\n",
       "      <th>15</th>\n",
       "      <td>Drobo SHS</td>\n",
       "      <td>8</td>\n",
       "    </tr>\n",
       "    <tr>\n",
       "      <th>13</th>\n",
       "      <td>Bolgatanga SHS</td>\n",
       "      <td>3</td>\n",
       "    </tr>\n",
       "    <tr>\n",
       "      <th>1</th>\n",
       "      <td>Acherensua SHS</td>\n",
       "      <td>1</td>\n",
       "    </tr>\n",
       "  </tbody>\n",
       "</table>\n",
       "</div>"
      ],
      "text/plain": [
       "                          Schools  1/8th_round_points\n",
       "29                     Mawuli SHS                  53\n",
       "23                      Keta SHTS                  52\n",
       "4          Adventist SHS, Bantama                  51\n",
       "0              Abetifi Presby SHS                  50\n",
       "38            Presby SHTS, Aburi                   47\n",
       "9                   Asanteman SHS                  45\n",
       "46                     Swedru SHS                  41\n",
       "21                      KNUST SHS                  41\n",
       "52        University Practice SHS                  40\n",
       "36             Osei Kyeretwie SHS                  38\n",
       "37              Presby SHS, Suhum                  38\n",
       "47     Tamale Islamic Science SHS                  37\n",
       "16                   Fiaseman SHS                  36\n",
       "8                        Apam SHS                  35\n",
       "26                Kumasi Academy                   35\n",
       "3                  Adu Gyamfi SHS                  35\n",
       "48                     Tamale SHS                  34\n",
       "2                 Achimota School                  34\n",
       "51                      Toase SHS                  33\n",
       "28                  Mankranso SHS                  31\n",
       "11           Assisn State College                  31\n",
       "19          Ghana SHS, Koforidua                   31\n",
       "33                        Oda SHS                  31\n",
       "5                 Amaniampong SHS                  30\n",
       "49                     Tarkwa SHS                  30\n",
       "24             Koforidua Sec.Tech                  30\n",
       "40            Sakafia Islamic SHS                  29\n",
       "44  Sonrise Christian High School                  28\n",
       "54               West African SHS                  28\n",
       "18        Ghana National College                   28\n",
       "20                    Ghanata SHS                  28\n",
       "6           Anglican SHS, Kumasi                   27\n",
       "50                   Techiman SHS                  27\n",
       "31             Nkwatia Presby SHS                  25\n",
       "10                   Ashaiman SHS                  25\n",
       "30                    Mpraeso SHS                  25\n",
       "35                Ofori Panin SHS                  25\n",
       "53             Wesley SHS, Bekwai                  25\n",
       "17                      Fijai SHS                  24\n",
       "27                Kumasi Sec.Tech                  22\n",
       "34                   Odorgono SHS                  21\n",
       "32                     Nungua SHS                  21\n",
       "45                    Sunyani SHS                  19\n",
       "14                      Chemu SHS                  19\n",
       "12                    Awudome SHS                  18\n",
       "25            Konongo Odumase SHS                  17\n",
       "7                        Anlo SHS                  15\n",
       "42                      Simms SHS                  15\n",
       "22                     Kanton SHS                  15\n",
       "41                      Shama SHS                  14\n",
       "43                   Sogakope SHS                  13\n",
       "39                 SDA SHS,Bekwai                  10\n",
       "15                      Drobo SHS                   8\n",
       "13                 Bolgatanga SHS                   3\n",
       "1                  Acherensua SHS                   1"
      ]
     },
     "execution_count": 89,
     "metadata": {},
     "output_type": "execute_result"
    }
   ],
   "source": [
    "### Comparing Points Earned by Mixed Schools\n",
    "nsmq_2022[nsmq_2022['Gender'] == 'Mixed'].groupby('Schools')['1/8th_round_points'].max().reset_index().sort_values(by = '1/8th_round_points',ascending = False)"
   ]
  },
  {
   "cell_type": "code",
   "execution_count": null,
   "id": "30ddb886",
   "metadata": {},
   "outputs": [],
   "source": []
  },
  {
   "cell_type": "markdown",
   "id": "97768dc2",
   "metadata": {},
   "source": [
    "### How many "
   ]
  },
  {
   "cell_type": "markdown",
   "id": "4441ac8c",
   "metadata": {},
   "source": [
    "### Total Points Accumulated by Seeded and Non_Seeded Schools In the 1/8th Round"
   ]
  },
  {
   "cell_type": "code",
   "execution_count": null,
   "id": "93d8a8de",
   "metadata": {},
   "outputs": [],
   "source": []
  },
  {
   "cell_type": "code",
   "execution_count": 90,
   "id": "657a399b",
   "metadata": {},
   "outputs": [
    {
     "data": {
      "text/html": [
       "<div>\n",
       "<style scoped>\n",
       "    .dataframe tbody tr th:only-of-type {\n",
       "        vertical-align: middle;\n",
       "    }\n",
       "\n",
       "    .dataframe tbody tr th {\n",
       "        vertical-align: top;\n",
       "    }\n",
       "\n",
       "    .dataframe thead th {\n",
       "        text-align: right;\n",
       "    }\n",
       "</style>\n",
       "<table border=\"1\" class=\"dataframe\">\n",
       "  <thead>\n",
       "    <tr style=\"text-align: right;\">\n",
       "      <th></th>\n",
       "      <th>Seeded(Y/N)</th>\n",
       "      <th>1/8th_round_points</th>\n",
       "    </tr>\n",
       "  </thead>\n",
       "  <tbody>\n",
       "    <tr>\n",
       "      <th>0</th>\n",
       "      <td>N</td>\n",
       "      <td>1606</td>\n",
       "    </tr>\n",
       "    <tr>\n",
       "      <th>1</th>\n",
       "      <td>Y</td>\n",
       "      <td>910</td>\n",
       "    </tr>\n",
       "  </tbody>\n",
       "</table>\n",
       "</div>"
      ],
      "text/plain": [
       "  Seeded(Y/N)  1/8th_round_points\n",
       "0           N                1606\n",
       "1           Y                 910"
      ]
     },
     "execution_count": 90,
     "metadata": {},
     "output_type": "execute_result"
    }
   ],
   "source": [
    "nsmq_2022.groupby('Seeded(Y/N)')['1/8th_round_points'].sum().reset_index().sort_values(by = '1/8th_round_points',ascending = False)"
   ]
  },
  {
   "cell_type": "code",
   "execution_count": 91,
   "id": "cd01e505",
   "metadata": {},
   "outputs": [
    {
     "data": {
      "image/png": "[encoded data removed]",
      "text/plain": [
       "<Figure size 576x576 with 1 Axes>"
      ]
     },
     "metadata": {},
     "output_type": "display_data"
    }
   ],
   "source": [
    "#### Illustrating using a pie Chart\n",
    "nsmq_2022.groupby('Seeded(Y/N)')['1/8th_round_points'].sum().plot(kind = 'pie', autopct = '%1.2f%%', figsize = (8,8), fontsize = 12)\n",
    "plt.title('A pie chart illustratring the total points accumulated in the 1/8th Round by Seeded(Y/N)')\n",
    "plt.show()"
   ]
  },
  {
   "cell_type": "markdown",
   "id": "928b8940",
   "metadata": {},
   "source": [
    "out of 81 participating Schools in the 1/8th Round, 27 were seeded and had a combined total of 910 points with the Non_seeded Schools having a combined points total of 1606 accumulated by 54 schools which is twice as many schools as the seeded schools "
   ]
  },
  {
   "cell_type": "markdown",
   "id": "354e4522",
   "metadata": {},
   "source": [
    "### Which Seeded and Non_seeded School Scored the Most and Least points in the 1/8th Round"
   ]
  },
  {
   "cell_type": "code",
   "execution_count": 110,
   "id": "42f52990",
   "metadata": {},
   "outputs": [
    {
     "data": {
      "text/html": [
       "<div>\n",
       "<style scoped>\n",
       "    .dataframe tbody tr th:only-of-type {\n",
       "        vertical-align: middle;\n",
       "    }\n",
       "\n",
       "    .dataframe tbody tr th {\n",
       "        vertical-align: top;\n",
       "    }\n",
       "\n",
       "    .dataframe thead th {\n",
       "        text-align: right;\n",
       "    }\n",
       "</style>\n",
       "<table border=\"1\" class=\"dataframe\">\n",
       "  <thead>\n",
       "    <tr style=\"text-align: right;\">\n",
       "      <th></th>\n",
       "      <th>Schools</th>\n",
       "      <th>1/8th_round_points</th>\n",
       "    </tr>\n",
       "  </thead>\n",
       "  <tbody>\n",
       "    <tr>\n",
       "      <th>14</th>\n",
       "      <td>Opoku Ware School</td>\n",
       "      <td>64</td>\n",
       "    </tr>\n",
       "    <tr>\n",
       "      <th>0</th>\n",
       "      <td>Accra Academy</td>\n",
       "      <td>60</td>\n",
       "    </tr>\n",
       "    <tr>\n",
       "      <th>17</th>\n",
       "      <td>Presec, Legon</td>\n",
       "      <td>54</td>\n",
       "    </tr>\n",
       "    <tr>\n",
       "      <th>1</th>\n",
       "      <td>Adisadel College</td>\n",
       "      <td>52</td>\n",
       "    </tr>\n",
       "    <tr>\n",
       "      <th>9</th>\n",
       "      <td>Keta SHTS</td>\n",
       "      <td>52</td>\n",
       "    </tr>\n",
       "    <tr>\n",
       "      <th>20</th>\n",
       "      <td>St.Augustine's College</td>\n",
       "      <td>48</td>\n",
       "    </tr>\n",
       "    <tr>\n",
       "      <th>16</th>\n",
       "      <td>Prempeh College</td>\n",
       "      <td>46</td>\n",
       "    </tr>\n",
       "    <tr>\n",
       "      <th>22</th>\n",
       "      <td>St.Peter's SHS</td>\n",
       "      <td>45</td>\n",
       "    </tr>\n",
       "    <tr>\n",
       "      <th>23</th>\n",
       "      <td>Swedru SHS</td>\n",
       "      <td>41</td>\n",
       "    </tr>\n",
       "    <tr>\n",
       "      <th>7</th>\n",
       "      <td>KNUST SHS</td>\n",
       "      <td>41</td>\n",
       "    </tr>\n",
       "    <tr>\n",
       "      <th>11</th>\n",
       "      <td>Kumasi Academy</td>\n",
       "      <td>35</td>\n",
       "    </tr>\n",
       "    <tr>\n",
       "      <th>24</th>\n",
       "      <td>Tamale SHS</td>\n",
       "      <td>34</td>\n",
       "    </tr>\n",
       "    <tr>\n",
       "      <th>15</th>\n",
       "      <td>Pope John Min.Sem.SHS</td>\n",
       "      <td>31</td>\n",
       "    </tr>\n",
       "    <tr>\n",
       "      <th>13</th>\n",
       "      <td>Oda SHS</td>\n",
       "      <td>31</td>\n",
       "    </tr>\n",
       "    <tr>\n",
       "      <th>6</th>\n",
       "      <td>Ghana SHS, Koforidua</td>\n",
       "      <td>31</td>\n",
       "    </tr>\n",
       "    <tr>\n",
       "      <th>26</th>\n",
       "      <td>Wesley Girls' High School</td>\n",
       "      <td>29</td>\n",
       "    </tr>\n",
       "    <tr>\n",
       "      <th>19</th>\n",
       "      <td>Sonrise Christian High School</td>\n",
       "      <td>28</td>\n",
       "    </tr>\n",
       "    <tr>\n",
       "      <th>5</th>\n",
       "      <td>Ghana National College</td>\n",
       "      <td>28</td>\n",
       "    </tr>\n",
       "    <tr>\n",
       "      <th>2</th>\n",
       "      <td>Anglican SHS, Kumasi</td>\n",
       "      <td>27</td>\n",
       "    </tr>\n",
       "    <tr>\n",
       "      <th>25</th>\n",
       "      <td>Techiman SHS</td>\n",
       "      <td>27</td>\n",
       "    </tr>\n",
       "    <tr>\n",
       "      <th>21</th>\n",
       "      <td>St.Loius SHS</td>\n",
       "      <td>21</td>\n",
       "    </tr>\n",
       "    <tr>\n",
       "      <th>4</th>\n",
       "      <td>Chemu SHS</td>\n",
       "      <td>19</td>\n",
       "    </tr>\n",
       "    <tr>\n",
       "      <th>12</th>\n",
       "      <td>OLA SHS, Ho</td>\n",
       "      <td>18</td>\n",
       "    </tr>\n",
       "    <tr>\n",
       "      <th>10</th>\n",
       "      <td>Konongo Odumase SHS</td>\n",
       "      <td>17</td>\n",
       "    </tr>\n",
       "    <tr>\n",
       "      <th>8</th>\n",
       "      <td>Kanton SHS</td>\n",
       "      <td>15</td>\n",
       "    </tr>\n",
       "    <tr>\n",
       "      <th>18</th>\n",
       "      <td>Sogakope SHS</td>\n",
       "      <td>13</td>\n",
       "    </tr>\n",
       "    <tr>\n",
       "      <th>3</th>\n",
       "      <td>Bolgatanga SHS</td>\n",
       "      <td>3</td>\n",
       "    </tr>\n",
       "  </tbody>\n",
       "</table>\n",
       "</div>"
      ],
      "text/plain": [
       "                          Schools  1/8th_round_points\n",
       "14              Opoku Ware School                  64\n",
       "0                  Accra Academy                   60\n",
       "17                  Presec, Legon                  54\n",
       "1               Adisadel College                   52\n",
       "9                       Keta SHTS                  52\n",
       "20        St.Augustine's College                   48\n",
       "16                Prempeh College                  46\n",
       "22                 St.Peter's SHS                  45\n",
       "23                     Swedru SHS                  41\n",
       "7                       KNUST SHS                  41\n",
       "11                Kumasi Academy                   35\n",
       "24                     Tamale SHS                  34\n",
       "15          Pope John Min.Sem.SHS                  31\n",
       "13                        Oda SHS                  31\n",
       "6           Ghana SHS, Koforidua                   31\n",
       "26      Wesley Girls' High School                  29\n",
       "19  Sonrise Christian High School                  28\n",
       "5         Ghana National College                   28\n",
       "2           Anglican SHS, Kumasi                   27\n",
       "25                   Techiman SHS                  27\n",
       "21                   St.Loius SHS                  21\n",
       "4                       Chemu SHS                  19\n",
       "12                    OLA SHS, Ho                  18\n",
       "10            Konongo Odumase SHS                  17\n",
       "8                      Kanton SHS                  15\n",
       "18                   Sogakope SHS                  13\n",
       "3                  Bolgatanga SHS                   3"
      ]
     },
     "execution_count": 110,
     "metadata": {},
     "output_type": "execute_result"
    }
   ],
   "source": [
    "### Seeded\n",
    "nsmq_2022[nsmq_2022['Seeded(Y/N)'] == 'Y'].groupby('Schools')['1/8th_round_points'].max().reset_index().sort_values(by = '1/8th_round_points',ascending = False)"
   ]
  },
  {
   "cell_type": "code",
   "execution_count": 111,
   "id": "7ed9a5f8",
   "metadata": {},
   "outputs": [
    {
     "data": {
      "text/html": [
       "<div>\n",
       "<style scoped>\n",
       "    .dataframe tbody tr th:only-of-type {\n",
       "        vertical-align: middle;\n",
       "    }\n",
       "\n",
       "    .dataframe tbody tr th {\n",
       "        vertical-align: top;\n",
       "    }\n",
       "\n",
       "    .dataframe thead th {\n",
       "        text-align: right;\n",
       "    }\n",
       "</style>\n",
       "<table border=\"1\" class=\"dataframe\">\n",
       "  <thead>\n",
       "    <tr style=\"text-align: right;\">\n",
       "      <th></th>\n",
       "      <th>Schools</th>\n",
       "      <th>1/8th_round_points</th>\n",
       "    </tr>\n",
       "  </thead>\n",
       "  <tbody>\n",
       "    <tr>\n",
       "      <th>33</th>\n",
       "      <td>Osei Tutu SHS</td>\n",
       "      <td>55</td>\n",
       "    </tr>\n",
       "    <tr>\n",
       "      <th>23</th>\n",
       "      <td>Mawuli SHS</td>\n",
       "      <td>53</td>\n",
       "    </tr>\n",
       "    <tr>\n",
       "      <th>4</th>\n",
       "      <td>Adventist SHS, Bantama</td>\n",
       "      <td>51</td>\n",
       "    </tr>\n",
       "    <tr>\n",
       "      <th>0</th>\n",
       "      <td>Abetifi Presby SHS</td>\n",
       "      <td>50</td>\n",
       "    </tr>\n",
       "    <tr>\n",
       "      <th>43</th>\n",
       "      <td>St.James Sem.SHS</td>\n",
       "      <td>49</td>\n",
       "    </tr>\n",
       "    <tr>\n",
       "      <th>19</th>\n",
       "      <td>Kumasi High School</td>\n",
       "      <td>48</td>\n",
       "    </tr>\n",
       "    <tr>\n",
       "      <th>36</th>\n",
       "      <td>Presby SHTS, Aburi</td>\n",
       "      <td>47</td>\n",
       "    </tr>\n",
       "    <tr>\n",
       "      <th>8</th>\n",
       "      <td>Asanteman SHS</td>\n",
       "      <td>45</td>\n",
       "    </tr>\n",
       "    <tr>\n",
       "      <th>12</th>\n",
       "      <td>Bishop Herman College</td>\n",
       "      <td>43</td>\n",
       "    </tr>\n",
       "    <tr>\n",
       "      <th>45</th>\n",
       "      <td>St.Thomas Aquinas SHS</td>\n",
       "      <td>40</td>\n",
       "    </tr>\n",
       "    <tr>\n",
       "      <th>50</th>\n",
       "      <td>University Practice SHS</td>\n",
       "      <td>40</td>\n",
       "    </tr>\n",
       "    <tr>\n",
       "      <th>24</th>\n",
       "      <td>Mfantsipim SHS</td>\n",
       "      <td>39</td>\n",
       "    </tr>\n",
       "    <tr>\n",
       "      <th>35</th>\n",
       "      <td>Presby SHS, Suhum</td>\n",
       "      <td>38</td>\n",
       "    </tr>\n",
       "    <tr>\n",
       "      <th>41</th>\n",
       "      <td>St. Francis Xavier Jnr.Sem</td>\n",
       "      <td>38</td>\n",
       "    </tr>\n",
       "    <tr>\n",
       "      <th>32</th>\n",
       "      <td>Osei Kyeretwie SHS</td>\n",
       "      <td>38</td>\n",
       "    </tr>\n",
       "    <tr>\n",
       "      <th>47</th>\n",
       "      <td>Tamale Islamic Science SHS</td>\n",
       "      <td>37</td>\n",
       "    </tr>\n",
       "    <tr>\n",
       "      <th>14</th>\n",
       "      <td>Fiaseman SHS</td>\n",
       "      <td>36</td>\n",
       "    </tr>\n",
       "    <tr>\n",
       "      <th>3</th>\n",
       "      <td>Adu Gyamfi SHS</td>\n",
       "      <td>35</td>\n",
       "    </tr>\n",
       "    <tr>\n",
       "      <th>7</th>\n",
       "      <td>Apam SHS</td>\n",
       "      <td>35</td>\n",
       "    </tr>\n",
       "    <tr>\n",
       "      <th>2</th>\n",
       "      <td>Achimota School</td>\n",
       "      <td>34</td>\n",
       "    </tr>\n",
       "    <tr>\n",
       "      <th>49</th>\n",
       "      <td>Toase SHS</td>\n",
       "      <td>33</td>\n",
       "    </tr>\n",
       "    <tr>\n",
       "      <th>10</th>\n",
       "      <td>Assisn State College</td>\n",
       "      <td>31</td>\n",
       "    </tr>\n",
       "    <tr>\n",
       "      <th>22</th>\n",
       "      <td>Mankranso SHS</td>\n",
       "      <td>31</td>\n",
       "    </tr>\n",
       "    <tr>\n",
       "      <th>48</th>\n",
       "      <td>Tarkwa SHS</td>\n",
       "      <td>30</td>\n",
       "    </tr>\n",
       "    <tr>\n",
       "      <th>17</th>\n",
       "      <td>Koforidua Sec.Tech</td>\n",
       "      <td>30</td>\n",
       "    </tr>\n",
       "    <tr>\n",
       "      <th>42</th>\n",
       "      <td>St.Hubert Sem.SHS</td>\n",
       "      <td>30</td>\n",
       "    </tr>\n",
       "    <tr>\n",
       "      <th>5</th>\n",
       "      <td>Amaniampong SHS</td>\n",
       "      <td>30</td>\n",
       "    </tr>\n",
       "    <tr>\n",
       "      <th>34</th>\n",
       "      <td>Our Lady of Mt.Carmel Girls' SHS</td>\n",
       "      <td>29</td>\n",
       "    </tr>\n",
       "    <tr>\n",
       "      <th>38</th>\n",
       "      <td>Sakafia Islamic SHS</td>\n",
       "      <td>29</td>\n",
       "    </tr>\n",
       "    <tr>\n",
       "      <th>52</th>\n",
       "      <td>West African SHS</td>\n",
       "      <td>28</td>\n",
       "    </tr>\n",
       "    <tr>\n",
       "      <th>16</th>\n",
       "      <td>Ghanata SHS</td>\n",
       "      <td>28</td>\n",
       "    </tr>\n",
       "    <tr>\n",
       "      <th>28</th>\n",
       "      <td>Notre Dame Sem.SHS</td>\n",
       "      <td>26</td>\n",
       "    </tr>\n",
       "    <tr>\n",
       "      <th>51</th>\n",
       "      <td>Wesley SHS, Bekwai</td>\n",
       "      <td>25</td>\n",
       "    </tr>\n",
       "    <tr>\n",
       "      <th>27</th>\n",
       "      <td>Nkwatia Presby SHS</td>\n",
       "      <td>25</td>\n",
       "    </tr>\n",
       "    <tr>\n",
       "      <th>31</th>\n",
       "      <td>Ofori Panin SHS</td>\n",
       "      <td>25</td>\n",
       "    </tr>\n",
       "    <tr>\n",
       "      <th>25</th>\n",
       "      <td>Mpraeso SHS</td>\n",
       "      <td>25</td>\n",
       "    </tr>\n",
       "    <tr>\n",
       "      <th>9</th>\n",
       "      <td>Ashaiman SHS</td>\n",
       "      <td>25</td>\n",
       "    </tr>\n",
       "    <tr>\n",
       "      <th>15</th>\n",
       "      <td>Fijai SHS</td>\n",
       "      <td>24</td>\n",
       "    </tr>\n",
       "    <tr>\n",
       "      <th>18</th>\n",
       "      <td>Krobo Girls' SHS</td>\n",
       "      <td>24</td>\n",
       "    </tr>\n",
       "    <tr>\n",
       "      <th>53</th>\n",
       "      <td>Yaa Asantewaa Girls' SHS</td>\n",
       "      <td>24</td>\n",
       "    </tr>\n",
       "    <tr>\n",
       "      <th>20</th>\n",
       "      <td>Kumasi Sec.Tech</td>\n",
       "      <td>22</td>\n",
       "    </tr>\n",
       "    <tr>\n",
       "      <th>30</th>\n",
       "      <td>Odorgono SHS</td>\n",
       "      <td>21</td>\n",
       "    </tr>\n",
       "    <tr>\n",
       "      <th>29</th>\n",
       "      <td>Nungua SHS</td>\n",
       "      <td>21</td>\n",
       "    </tr>\n",
       "    <tr>\n",
       "      <th>26</th>\n",
       "      <td>Nandom SHS</td>\n",
       "      <td>20</td>\n",
       "    </tr>\n",
       "    <tr>\n",
       "      <th>46</th>\n",
       "      <td>Sunyani SHS</td>\n",
       "      <td>19</td>\n",
       "    </tr>\n",
       "    <tr>\n",
       "      <th>11</th>\n",
       "      <td>Awudome SHS</td>\n",
       "      <td>18</td>\n",
       "    </tr>\n",
       "    <tr>\n",
       "      <th>44</th>\n",
       "      <td>St.Mary's SHS, Accra</td>\n",
       "      <td>17</td>\n",
       "    </tr>\n",
       "    <tr>\n",
       "      <th>40</th>\n",
       "      <td>Simms SHS</td>\n",
       "      <td>15</td>\n",
       "    </tr>\n",
       "    <tr>\n",
       "      <th>6</th>\n",
       "      <td>Anlo SHS</td>\n",
       "      <td>15</td>\n",
       "    </tr>\n",
       "    <tr>\n",
       "      <th>39</th>\n",
       "      <td>Shama SHS</td>\n",
       "      <td>14</td>\n",
       "    </tr>\n",
       "    <tr>\n",
       "      <th>37</th>\n",
       "      <td>SDA SHS,Bekwai</td>\n",
       "      <td>10</td>\n",
       "    </tr>\n",
       "    <tr>\n",
       "      <th>13</th>\n",
       "      <td>Drobo SHS</td>\n",
       "      <td>8</td>\n",
       "    </tr>\n",
       "    <tr>\n",
       "      <th>21</th>\n",
       "      <td>Kumasi Wesley Girls'</td>\n",
       "      <td>2</td>\n",
       "    </tr>\n",
       "    <tr>\n",
       "      <th>1</th>\n",
       "      <td>Acherensua SHS</td>\n",
       "      <td>1</td>\n",
       "    </tr>\n",
       "  </tbody>\n",
       "</table>\n",
       "</div>"
      ],
      "text/plain": [
       "                             Schools  1/8th_round_points\n",
       "33                     Osei Tutu SHS                  55\n",
       "23                        Mawuli SHS                  53\n",
       "4             Adventist SHS, Bantama                  51\n",
       "0                 Abetifi Presby SHS                  50\n",
       "43                  St.James Sem.SHS                  49\n",
       "19                Kumasi High School                  48\n",
       "36               Presby SHTS, Aburi                   47\n",
       "8                      Asanteman SHS                  45\n",
       "12             Bishop Herman College                  43\n",
       "45             St.Thomas Aquinas SHS                  40\n",
       "50           University Practice SHS                  40\n",
       "24                    Mfantsipim SHS                  39\n",
       "35                 Presby SHS, Suhum                  38\n",
       "41        St. Francis Xavier Jnr.Sem                  38\n",
       "32                Osei Kyeretwie SHS                  38\n",
       "47        Tamale Islamic Science SHS                  37\n",
       "14                      Fiaseman SHS                  36\n",
       "3                     Adu Gyamfi SHS                  35\n",
       "7                           Apam SHS                  35\n",
       "2                    Achimota School                  34\n",
       "49                         Toase SHS                  33\n",
       "10              Assisn State College                  31\n",
       "22                     Mankranso SHS                  31\n",
       "48                        Tarkwa SHS                  30\n",
       "17                Koforidua Sec.Tech                  30\n",
       "42                 St.Hubert Sem.SHS                  30\n",
       "5                    Amaniampong SHS                  30\n",
       "34  Our Lady of Mt.Carmel Girls' SHS                  29\n",
       "38               Sakafia Islamic SHS                  29\n",
       "52                  West African SHS                  28\n",
       "16                       Ghanata SHS                  28\n",
       "28                Notre Dame Sem.SHS                  26\n",
       "51                Wesley SHS, Bekwai                  25\n",
       "27                Nkwatia Presby SHS                  25\n",
       "31                   Ofori Panin SHS                  25\n",
       "25                       Mpraeso SHS                  25\n",
       "9                       Ashaiman SHS                  25\n",
       "15                         Fijai SHS                  24\n",
       "18                  Krobo Girls' SHS                  24\n",
       "53          Yaa Asantewaa Girls' SHS                  24\n",
       "20                   Kumasi Sec.Tech                  22\n",
       "30                      Odorgono SHS                  21\n",
       "29                        Nungua SHS                  21\n",
       "26                        Nandom SHS                  20\n",
       "46                       Sunyani SHS                  19\n",
       "11                       Awudome SHS                  18\n",
       "44              St.Mary's SHS, Accra                  17\n",
       "40                         Simms SHS                  15\n",
       "6                           Anlo SHS                  15\n",
       "39                         Shama SHS                  14\n",
       "37                    SDA SHS,Bekwai                  10\n",
       "13                         Drobo SHS                   8\n",
       "21              Kumasi Wesley Girls'                   2\n",
       "1                     Acherensua SHS                   1"
      ]
     },
     "execution_count": 111,
     "metadata": {},
     "output_type": "execute_result"
    }
   ],
   "source": [
    "### Non_Seeded\n",
    "nsmq_2022[nsmq_2022['Seeded(Y/N)'] == 'N'].groupby('Schools')['1/8th_round_points'].max().reset_index().sort_values(by = '1/8th_round_points',ascending = False)"
   ]
  },
  {
   "cell_type": "markdown",
   "id": "fd398e6a",
   "metadata": {},
   "source": [
    "### How Many Seeded or Non_Seeded Schools were Boys' only, Girls' Only And Mixed"
   ]
  },
  {
   "cell_type": "code",
   "execution_count": 44,
   "id": "38ea630f",
   "metadata": {},
   "outputs": [
    {
     "data": {
      "text/plain": [
       "Seeded(Y/N)  Gender\n",
       "Y            Mixed     16\n",
       "             Boys       8\n",
       "             Girls      3\n",
       "Name: Gender, dtype: int64"
      ]
     },
     "execution_count": 44,
     "metadata": {},
     "output_type": "execute_result"
    }
   ],
   "source": [
    "### Seeded\n",
    "nsmq_2022[nsmq_2022['Seeded(Y/N)'] == 'Y'].groupby('Seeded(Y/N)')['Gender'].value_counts()"
   ]
  },
  {
   "cell_type": "code",
   "execution_count": 45,
   "id": "68033b36",
   "metadata": {},
   "outputs": [
    {
     "data": {
      "text/plain": [
       "Seeded(Y/N)  Gender\n",
       "N            Mixed     39\n",
       "             Boys      10\n",
       "             Girls      5\n",
       "Name: Gender, dtype: int64"
      ]
     },
     "execution_count": 45,
     "metadata": {},
     "output_type": "execute_result"
    }
   ],
   "source": [
    "### Non_Seeded\n",
    "nsmq_2022[nsmq_2022['Seeded(Y/N)'] == 'N'].groupby('Seeded(Y/N)')['Gender'].value_counts()"
   ]
  },
  {
   "cell_type": "markdown",
   "id": "318b27f2",
   "metadata": {},
   "source": [
    "### How Many Schools Per Region Were Eliminated / Won in the 1/8th Round\n"
   ]
  },
  {
   "cell_type": "code",
   "execution_count": 112,
   "id": "139f1e47",
   "metadata": {},
   "outputs": [
    {
     "data": {
      "text/plain": [
       "Region   1/8th_Round(W/E)\n",
       "Ashanti  E                   16\n",
       "         W                    8\n",
       "Name: 1/8th_Round(W/E), dtype: int64"
      ]
     },
     "execution_count": 112,
     "metadata": {},
     "output_type": "execute_result"
    }
   ],
   "source": [
    "### Ashanti\n",
    "nsmq_2022[nsmq_2022['Region'] == 'Ashanti'].groupby('Region')['1/8th_Round(W/E)'].value_counts()"
   ]
  },
  {
   "cell_type": "code",
   "execution_count": 113,
   "id": "d2b6d0c8",
   "metadata": {},
   "outputs": [
    {
     "data": {
      "text/plain": [
       "Region   1/8th_Round(W/E)\n",
       "Eastern  E                   8\n",
       "         W                   4\n",
       "Name: 1/8th_Round(W/E), dtype: int64"
      ]
     },
     "execution_count": 113,
     "metadata": {},
     "output_type": "execute_result"
    }
   ],
   "source": [
    "### Eastern\n",
    "nsmq_2022[nsmq_2022['Region'] == 'Eastern'].groupby('Region')['1/8th_Round(W/E)'].value_counts()"
   ]
  },
  {
   "cell_type": "code",
   "execution_count": 114,
   "id": "bd205fb8",
   "metadata": {},
   "outputs": [
    {
     "data": {
      "text/plain": [
       "Region         1/8th_Round(W/E)\n",
       "Greater Accra  E                   8\n",
       "               W                   3\n",
       "Name: 1/8th_Round(W/E), dtype: int64"
      ]
     },
     "execution_count": 114,
     "metadata": {},
     "output_type": "execute_result"
    }
   ],
   "source": [
    "### Greater Accra\n",
    "nsmq_2022[nsmq_2022['Region'] == 'Greater Accra'].groupby('Region')['1/8th_Round(W/E)'].value_counts()"
   ]
  },
  {
   "cell_type": "code",
   "execution_count": 115,
   "id": "c04dd63c",
   "metadata": {},
   "outputs": [
    {
     "data": {
      "text/plain": [
       "Region   1/8th_Round(W/E)\n",
       "Central  W                   6\n",
       "         E                   3\n",
       "Name: 1/8th_Round(W/E), dtype: int64"
      ]
     },
     "execution_count": 115,
     "metadata": {},
     "output_type": "execute_result"
    }
   ],
   "source": [
    "### Central\n",
    "nsmq_2022[nsmq_2022['Region'] == 'Central'].groupby('Region')['1/8th_Round(W/E)'].value_counts()"
   ]
  },
  {
   "cell_type": "code",
   "execution_count": 116,
   "id": "44b20ded",
   "metadata": {},
   "outputs": [
    {
     "data": {
      "text/plain": [
       "Region  1/8th_Round(W/E)\n",
       "Volta   E                   5\n",
       "        W                   3\n",
       "Name: 1/8th_Round(W/E), dtype: int64"
      ]
     },
     "execution_count": 116,
     "metadata": {},
     "output_type": "execute_result"
    }
   ],
   "source": [
    "### Volta\n",
    "nsmq_2022[nsmq_2022['Region'] == 'Volta'].groupby('Region')['1/8th_Round(W/E)'].value_counts()"
   ]
  },
  {
   "cell_type": "code",
   "execution_count": 117,
   "id": "3af1c8e8",
   "metadata": {},
   "outputs": [
    {
     "data": {
      "text/plain": [
       "Region   1/8th_Round(W/E)\n",
       "Western  E                   4\n",
       "Name: 1/8th_Round(W/E), dtype: int64"
      ]
     },
     "execution_count": 117,
     "metadata": {},
     "output_type": "execute_result"
    }
   ],
   "source": [
    "### Western\n",
    "nsmq_2022[nsmq_2022['Region'] == 'Western'].groupby('Region')['1/8th_Round(W/E)'].value_counts()"
   ]
  },
  {
   "cell_type": "code",
   "execution_count": 118,
   "id": "1c28895e",
   "metadata": {},
   "outputs": [
    {
     "data": {
      "text/plain": [
       "Region  1/8th_Round(W/E)\n",
       "Bono    E                   2\n",
       "        W                   1\n",
       "Name: 1/8th_Round(W/E), dtype: int64"
      ]
     },
     "execution_count": 118,
     "metadata": {},
     "output_type": "execute_result"
    }
   ],
   "source": [
    "### Bono\n",
    "nsmq_2022[nsmq_2022['Region'] == 'Bono'].groupby('Region')['1/8th_Round(W/E)'].value_counts()"
   ]
  },
  {
   "cell_type": "code",
   "execution_count": 119,
   "id": "d8cb2fdf",
   "metadata": {},
   "outputs": [
    {
     "data": {
      "text/plain": [
       "Region      1/8th_Round(W/E)\n",
       "Upper West  E                   2\n",
       "            W                   1\n",
       "Name: 1/8th_Round(W/E), dtype: int64"
      ]
     },
     "execution_count": 119,
     "metadata": {},
     "output_type": "execute_result"
    }
   ],
   "source": [
    "### Upper West\n",
    "nsmq_2022[nsmq_2022['Region'] == 'Upper West'].groupby('Region')['1/8th_Round(W/E)'].value_counts()"
   ]
  },
  {
   "cell_type": "code",
   "execution_count": 120,
   "id": "13e2fe49",
   "metadata": {},
   "outputs": [
    {
     "data": {
      "text/plain": [
       "Region      1/8th_Round(W/E)\n",
       "Upper East  E                   2\n",
       "Name: 1/8th_Round(W/E), dtype: int64"
      ]
     },
     "execution_count": 120,
     "metadata": {},
     "output_type": "execute_result"
    }
   ],
   "source": [
    "### Upper East\n",
    "nsmq_2022[nsmq_2022['Region'] == 'Upper East'].groupby('Region')['1/8th_Round(W/E)'].value_counts()"
   ]
  },
  {
   "cell_type": "code",
   "execution_count": 121,
   "id": "82e0a719",
   "metadata": {},
   "outputs": [
    {
     "data": {
      "text/plain": [
       "Region    1/8th_Round(W/E)\n",
       "Northern  E                   1\n",
       "          W                   1\n",
       "Name: 1/8th_Round(W/E), dtype: int64"
      ]
     },
     "execution_count": 121,
     "metadata": {},
     "output_type": "execute_result"
    }
   ],
   "source": [
    "### Northern\n",
    "nsmq_2022[nsmq_2022['Region'] == 'Northern'].groupby('Region')['1/8th_Round(W/E)'].value_counts()"
   ]
  },
  {
   "cell_type": "code",
   "execution_count": 122,
   "id": "d532e51d",
   "metadata": {},
   "outputs": [
    {
     "data": {
      "text/plain": [
       "Region     1/8th_Round(W/E)\n",
       "Bono East  E                   2\n",
       "Name: 1/8th_Round(W/E), dtype: int64"
      ]
     },
     "execution_count": 122,
     "metadata": {},
     "output_type": "execute_result"
    }
   ],
   "source": [
    "### Bono East\n",
    "nsmq_2022[nsmq_2022['Region'] == 'Bono East'].groupby('Region')['1/8th_Round(W/E)'].value_counts()"
   ]
  },
  {
   "cell_type": "code",
   "execution_count": 123,
   "id": "c561d8a6",
   "metadata": {},
   "outputs": [
    {
     "data": {
      "text/plain": [
       "Region  1/8th_Round(W/E)\n",
       "Ahafo   E                   1\n",
       "Name: 1/8th_Round(W/E), dtype: int64"
      ]
     },
     "execution_count": 123,
     "metadata": {},
     "output_type": "execute_result"
    }
   ],
   "source": [
    "### Ahafo\n",
    "nsmq_2022[nsmq_2022['Region'] == 'Ahafo'].groupby('Region')['1/8th_Round(W/E)'].value_counts()"
   ]
  },
  {
   "cell_type": "code",
   "execution_count": null,
   "id": "05cd208a",
   "metadata": {},
   "outputs": [],
   "source": []
  },
  {
   "cell_type": "markdown",
   "id": "35d111a3",
   "metadata": {},
   "source": [
    "### How Many Schools Per Region Were Eliminated / Won in the 1/8th Round According To Category"
   ]
  },
  {
   "cell_type": "code",
   "execution_count": 142,
   "id": "79ee20a4",
   "metadata": {},
   "outputs": [
    {
     "data": {
      "text/plain": [
       "1/8th_Round(W/E)  Category\n",
       "E                 B           27\n",
       "                  A           17\n",
       "                  C           10\n",
       "W                 A           15\n",
       "                  B            9\n",
       "                  C            3\n",
       "Name: Category, dtype: int64"
      ]
     },
     "execution_count": 142,
     "metadata": {},
     "output_type": "execute_result"
    }
   ],
   "source": [
    "###### Total Number of Schools Eliminated or Qualified According To School's Categorization From All Regions\n",
    "nsmq_2022.groupby('1/8th_Round(W/E)')['Category'].value_counts()"
   ]
  },
  {
   "cell_type": "code",
   "execution_count": 125,
   "id": "411672d4",
   "metadata": {
    "scrolled": true
   },
   "outputs": [
    {
     "data": {
      "text/plain": [
       "Category  1/8th_Round(W/E)\n",
       "A         W                   3\n",
       "          E                   2\n",
       "B         E                   9\n",
       "          W                   4\n",
       "C         E                   5\n",
       "          W                   1\n",
       "Name: 1/8th_Round(W/E), dtype: int64"
      ]
     },
     "execution_count": 125,
     "metadata": {},
     "output_type": "execute_result"
    }
   ],
   "source": [
    "nsmq_2022[nsmq_2022['Region'] == 'Ashanti'].groupby('Category')['1/8th_Round(W/E)'].value_counts()"
   ]
  },
  {
   "cell_type": "code",
   "execution_count": 143,
   "id": "3148bf4b",
   "metadata": {},
   "outputs": [
    {
     "data": {
      "text/plain": [
       "Category  1/8th_Round(W/E)\n",
       "A         W                   3\n",
       "          E                   2\n",
       "B         E                   9\n",
       "          W                   4\n",
       "C         E                   5\n",
       "          W                   1\n",
       "Name: 1/8th_Round(W/E), dtype: int64"
      ]
     },
     "execution_count": 143,
     "metadata": {},
     "output_type": "execute_result"
    }
   ],
   "source": [
    "nsmq_2022[nsmq_2022['Region'] == 'Ashanti'].groupby('Category')['1/8th_Round(W/E)'].value_counts()"
   ]
  },
  {
   "cell_type": "code",
   "execution_count": 144,
   "id": "b410152c",
   "metadata": {},
   "outputs": [
    {
     "data": {
      "text/plain": [
       "Category  1/8th_Round(W/E)\n",
       "A         E                   4\n",
       "          W                   2\n",
       "B         E                   3\n",
       "          W                   1\n",
       "C         E                   1\n",
       "          W                   1\n",
       "Name: 1/8th_Round(W/E), dtype: int64"
      ]
     },
     "execution_count": 144,
     "metadata": {},
     "output_type": "execute_result"
    }
   ],
   "source": [
    "nsmq_2022[nsmq_2022['Region'] == 'Eastern'].groupby('Category')['1/8th_Round(W/E)'].value_counts()"
   ]
  },
  {
   "cell_type": "code",
   "execution_count": 145,
   "id": "04556f85",
   "metadata": {},
   "outputs": [
    {
     "data": {
      "text/plain": [
       "Category  1/8th_Round(W/E)\n",
       "A         E                   3\n",
       "          W                   2\n",
       "B         E                   4\n",
       "          W                   1\n",
       "C         E                   1\n",
       "Name: 1/8th_Round(W/E), dtype: int64"
      ]
     },
     "execution_count": 145,
     "metadata": {},
     "output_type": "execute_result"
    }
   ],
   "source": [
    "nsmq_2022[nsmq_2022['Region'] == 'Greater Accra'].groupby('Category')['1/8th_Round(W/E)'].value_counts()"
   ]
  },
  {
   "cell_type": "code",
   "execution_count": 146,
   "id": "4b4609f6",
   "metadata": {},
   "outputs": [
    {
     "data": {
      "text/plain": [
       "Category  1/8th_Round(W/E)\n",
       "A         W                   3\n",
       "          E                   1\n",
       "B         E                   2\n",
       "          W                   2\n",
       "C         W                   1\n",
       "Name: 1/8th_Round(W/E), dtype: int64"
      ]
     },
     "execution_count": 146,
     "metadata": {},
     "output_type": "execute_result"
    }
   ],
   "source": [
    "nsmq_2022[nsmq_2022['Region'] == 'Central'].groupby('Category')['1/8th_Round(W/E)'].value_counts()"
   ]
  },
  {
   "cell_type": "code",
   "execution_count": 147,
   "id": "9387df7c",
   "metadata": {},
   "outputs": [
    {
     "data": {
      "text/plain": [
       "Category  1/8th_Round(W/E)\n",
       "A         W                   2\n",
       "          E                   1\n",
       "B         E                   3\n",
       "          W                   1\n",
       "C         E                   1\n",
       "Name: 1/8th_Round(W/E), dtype: int64"
      ]
     },
     "execution_count": 147,
     "metadata": {},
     "output_type": "execute_result"
    }
   ],
   "source": [
    "nsmq_2022[nsmq_2022['Region'] == 'Volta'].groupby('Category')['1/8th_Round(W/E)'].value_counts()"
   ]
  },
  {
   "cell_type": "code",
   "execution_count": 148,
   "id": "7af1609c",
   "metadata": {},
   "outputs": [
    {
     "data": {
      "text/plain": [
       "Category  1/8th_Round(W/E)\n",
       "A         E                   1\n",
       "B         E                   2\n",
       "C         E                   1\n",
       "Name: 1/8th_Round(W/E), dtype: int64"
      ]
     },
     "execution_count": 148,
     "metadata": {},
     "output_type": "execute_result"
    }
   ],
   "source": [
    "nsmq_2022[nsmq_2022['Region'] == 'Western'].groupby('Category')['1/8th_Round(W/E)'].value_counts()"
   ]
  },
  {
   "cell_type": "code",
   "execution_count": 149,
   "id": "eb8c12c5",
   "metadata": {},
   "outputs": [
    {
     "data": {
      "text/plain": [
       "Category  1/8th_Round(W/E)\n",
       "A         E                   1\n",
       "          W                   1\n",
       "B         E                   1\n",
       "Name: 1/8th_Round(W/E), dtype: int64"
      ]
     },
     "execution_count": 149,
     "metadata": {},
     "output_type": "execute_result"
    }
   ],
   "source": [
    "nsmq_2022[nsmq_2022['Region'] == 'Bono'].groupby('Category')['1/8th_Round(W/E)'].value_counts()"
   ]
  },
  {
   "cell_type": "code",
   "execution_count": 150,
   "id": "031f98dc",
   "metadata": {},
   "outputs": [
    {
     "data": {
      "text/plain": [
       "Category  1/8th_Round(W/E)\n",
       "A         E                   2\n",
       "Name: 1/8th_Round(W/E), dtype: int64"
      ]
     },
     "execution_count": 150,
     "metadata": {},
     "output_type": "execute_result"
    }
   ],
   "source": [
    "nsmq_2022[nsmq_2022['Region'] == 'Upper East'].groupby('Category')['1/8th_Round(W/E)'].value_counts()"
   ]
  },
  {
   "cell_type": "code",
   "execution_count": 151,
   "id": "25ee4897",
   "metadata": {},
   "outputs": [
    {
     "data": {
      "text/plain": [
       "Category  1/8th_Round(W/E)\n",
       "A         E                   1\n",
       "          W                   1\n",
       "B         E                   1\n",
       "Name: 1/8th_Round(W/E), dtype: int64"
      ]
     },
     "execution_count": 151,
     "metadata": {},
     "output_type": "execute_result"
    }
   ],
   "source": [
    "nsmq_2022[nsmq_2022['Region'] == 'Upper West'].groupby('Category')['1/8th_Round(W/E)'].value_counts()"
   ]
  },
  {
   "cell_type": "code",
   "execution_count": 152,
   "id": "6e2eaefa",
   "metadata": {},
   "outputs": [
    {
     "data": {
      "text/plain": [
       "Category  1/8th_Round(W/E)\n",
       "B         E                   2\n",
       "Name: 1/8th_Round(W/E), dtype: int64"
      ]
     },
     "execution_count": 152,
     "metadata": {},
     "output_type": "execute_result"
    }
   ],
   "source": [
    "nsmq_2022[nsmq_2022['Region'] == 'Bono East'].groupby('Category')['1/8th_Round(W/E)'].value_counts()"
   ]
  },
  {
   "cell_type": "code",
   "execution_count": 153,
   "id": "fef3e34c",
   "metadata": {},
   "outputs": [
    {
     "data": {
      "text/plain": [
       "Category  1/8th_Round(W/E)\n",
       "A         E                   1\n",
       "Name: 1/8th_Round(W/E), dtype: int64"
      ]
     },
     "execution_count": 153,
     "metadata": {},
     "output_type": "execute_result"
    }
   ],
   "source": [
    "nsmq_2022[nsmq_2022['Region'] == 'Ahafo'].groupby('Category')['1/8th_Round(W/E)'].value_counts()"
   ]
  },
  {
   "cell_type": "markdown",
   "id": "bc7446e8",
   "metadata": {},
   "source": [
    "### How Many Schools Per Region Were Eliminated / Won in the 1/8th Round According To Gender"
   ]
  },
  {
   "cell_type": "code",
   "execution_count": 154,
   "id": "db54f173",
   "metadata": {},
   "outputs": [
    {
     "data": {
      "text/plain": [
       "1/8th_Round(W/E)  Gender\n",
       "E                 Mixed     42\n",
       "                  Girls      8\n",
       "                  Boys       4\n",
       "W                 Boys      14\n",
       "                  Mixed     13\n",
       "Name: Gender, dtype: int64"
      ]
     },
     "execution_count": 154,
     "metadata": {},
     "output_type": "execute_result"
    }
   ],
   "source": [
    "### Total Number of Schools Eliminated or Qualified According To Gender From All Regions\n",
    "nsmq_2022.groupby('1/8th_Round(W/E)')['Gender'].value_counts()"
   ]
  },
  {
   "cell_type": "code",
   "execution_count": 127,
   "id": "ac492cbe",
   "metadata": {
    "scrolled": true
   },
   "outputs": [
    {
     "data": {
      "text/plain": [
       "Gender  1/8th_Round(W/E)\n",
       "Boys    W                    5\n",
       "Girls   E                    3\n",
       "Mixed   E                   13\n",
       "        W                    3\n",
       "Name: 1/8th_Round(W/E), dtype: int64"
      ]
     },
     "execution_count": 127,
     "metadata": {},
     "output_type": "execute_result"
    }
   ],
   "source": [
    "nsmq_2022[nsmq_2022['Region'] == 'Ashanti'].groupby('Gender')['1/8th_Round(W/E)'].value_counts()"
   ]
  },
  {
   "cell_type": "code",
   "execution_count": 128,
   "id": "b3d1e8ce",
   "metadata": {},
   "outputs": [
    {
     "data": {
      "text/plain": [
       "Gender  1/8th_Round(W/E)\n",
       "Boys    E                   1\n",
       "        W                   1\n",
       "Girls   E                   1\n",
       "Mixed   E                   6\n",
       "        W                   3\n",
       "Name: 1/8th_Round(W/E), dtype: int64"
      ]
     },
     "execution_count": 128,
     "metadata": {},
     "output_type": "execute_result"
    }
   ],
   "source": [
    "nsmq_2022[nsmq_2022['Region'] == 'Eastern'].groupby('Gender')['1/8th_Round(W/E)'].value_counts()"
   ]
  },
  {
   "cell_type": "code",
   "execution_count": 129,
   "id": "404b0e66",
   "metadata": {},
   "outputs": [
    {
     "data": {
      "text/plain": [
       "Gender  1/8th_Round(W/E)\n",
       "Boys    W                   2\n",
       "        E                   1\n",
       "Girls   E                   1\n",
       "Mixed   E                   6\n",
       "        W                   1\n",
       "Name: 1/8th_Round(W/E), dtype: int64"
      ]
     },
     "execution_count": 129,
     "metadata": {},
     "output_type": "execute_result"
    }
   ],
   "source": [
    "nsmq_2022[nsmq_2022['Region'] == 'Greater Accra'].groupby('Gender')['1/8th_Round(W/E)'].value_counts()"
   ]
  },
  {
   "cell_type": "code",
   "execution_count": 130,
   "id": "97ad3fa9",
   "metadata": {},
   "outputs": [
    {
     "data": {
      "text/plain": [
       "Gender  1/8th_Round(W/E)\n",
       "Boys    W                   3\n",
       "Girls   E                   1\n",
       "Mixed   W                   3\n",
       "        E                   2\n",
       "Name: 1/8th_Round(W/E), dtype: int64"
      ]
     },
     "execution_count": 130,
     "metadata": {},
     "output_type": "execute_result"
    }
   ],
   "source": [
    "nsmq_2022[nsmq_2022['Region'] == 'Central'].groupby('Gender')['1/8th_Round(W/E)'].value_counts()"
   ]
  },
  {
   "cell_type": "code",
   "execution_count": 131,
   "id": "ffd12165",
   "metadata": {},
   "outputs": [
    {
     "data": {
      "text/plain": [
       "Gender  1/8th_Round(W/E)\n",
       "Boys    W                   1\n",
       "Girls   E                   1\n",
       "Mixed   E                   4\n",
       "        W                   2\n",
       "Name: 1/8th_Round(W/E), dtype: int64"
      ]
     },
     "execution_count": 131,
     "metadata": {},
     "output_type": "execute_result"
    }
   ],
   "source": [
    "nsmq_2022[nsmq_2022['Region'] == 'Volta'].groupby('Gender')['1/8th_Round(W/E)'].value_counts()"
   ]
  },
  {
   "cell_type": "code",
   "execution_count": 132,
   "id": "e440cd0f",
   "metadata": {},
   "outputs": [
    {
     "data": {
      "text/plain": [
       "Gender  1/8th_Round(W/E)\n",
       "Mixed   E                   4\n",
       "Name: 1/8th_Round(W/E), dtype: int64"
      ]
     },
     "execution_count": 132,
     "metadata": {},
     "output_type": "execute_result"
    }
   ],
   "source": [
    "nsmq_2022[nsmq_2022['Region'] == 'Western'].groupby('Gender')['1/8th_Round(W/E)'].value_counts()"
   ]
  },
  {
   "cell_type": "code",
   "execution_count": 133,
   "id": "6a76012b",
   "metadata": {},
   "outputs": [
    {
     "data": {
      "text/plain": [
       "Gender  1/8th_Round(W/E)\n",
       "Boys    W                   1\n",
       "Mixed   E                   2\n",
       "Name: 1/8th_Round(W/E), dtype: int64"
      ]
     },
     "execution_count": 133,
     "metadata": {},
     "output_type": "execute_result"
    }
   ],
   "source": [
    "nsmq_2022[nsmq_2022['Region'] == 'Bono'].groupby('Gender')['1/8th_Round(W/E)'].value_counts()"
   ]
  },
  {
   "cell_type": "code",
   "execution_count": 134,
   "id": "0aec3244",
   "metadata": {},
   "outputs": [
    {
     "data": {
      "text/plain": [
       "Gender  1/8th_Round(W/E)\n",
       "Boys    E                   1\n",
       "Mixed   E                   1\n",
       "Name: 1/8th_Round(W/E), dtype: int64"
      ]
     },
     "execution_count": 134,
     "metadata": {},
     "output_type": "execute_result"
    }
   ],
   "source": [
    "nsmq_2022[nsmq_2022['Region'] == 'Upper East'].groupby('Gender')['1/8th_Round(W/E)'].value_counts()"
   ]
  },
  {
   "cell_type": "code",
   "execution_count": 135,
   "id": "8e0c1961",
   "metadata": {},
   "outputs": [
    {
     "data": {
      "text/plain": [
       "Gender  1/8th_Round(W/E)\n",
       "Boys    E                   1\n",
       "        W                   1\n",
       "Mixed   E                   1\n",
       "Name: 1/8th_Round(W/E), dtype: int64"
      ]
     },
     "execution_count": 135,
     "metadata": {},
     "output_type": "execute_result"
    }
   ],
   "source": [
    "nsmq_2022[nsmq_2022['Region'] == 'Upper West'].groupby('Gender')['1/8th_Round(W/E)'].value_counts()"
   ]
  },
  {
   "cell_type": "code",
   "execution_count": 136,
   "id": "be7440d8",
   "metadata": {},
   "outputs": [
    {
     "data": {
      "text/plain": [
       "Gender  1/8th_Round(W/E)\n",
       "Girls   E                   1\n",
       "Mixed   E                   1\n",
       "Name: 1/8th_Round(W/E), dtype: int64"
      ]
     },
     "execution_count": 136,
     "metadata": {},
     "output_type": "execute_result"
    }
   ],
   "source": [
    "nsmq_2022[nsmq_2022['Region'] == 'Bono East'].groupby('Gender')['1/8th_Round(W/E)'].value_counts()"
   ]
  },
  {
   "cell_type": "code",
   "execution_count": 41,
   "id": "3ebdc6d0",
   "metadata": {},
   "outputs": [
    {
     "data": {
      "text/plain": [
       "Gender  1/8th_Round(W/E)\n",
       "Mixed   E                   1\n",
       "        W                   1\n",
       "Name: 1/8th_Round(W/E), dtype: int64"
      ]
     },
     "execution_count": 41,
     "metadata": {},
     "output_type": "execute_result"
    }
   ],
   "source": [
    "nsmq_2022[nsmq_2022['Region'] == 'Northern'].groupby('Gender')['1/8th_Round(W/E)'].value_counts()"
   ]
  },
  {
   "cell_type": "code",
   "execution_count": 138,
   "id": "ed8fd4ff",
   "metadata": {},
   "outputs": [
    {
     "data": {
      "text/plain": [
       "Gender  1/8th_Round(W/E)\n",
       "Mixed   E                   1\n",
       "Name: 1/8th_Round(W/E), dtype: int64"
      ]
     },
     "execution_count": 138,
     "metadata": {},
     "output_type": "execute_result"
    }
   ],
   "source": [
    "nsmq_2022[nsmq_2022['Region'] == 'Ahafo'].groupby('Gender')['1/8th_Round(W/E)'].value_counts()"
   ]
  },
  {
   "cell_type": "markdown",
   "id": "ca14b7cf",
   "metadata": {},
   "source": [
    "### How Many Seeded / Non_Seeded School Were Eliminated In The 1/8th Round Per Region"
   ]
  },
  {
   "cell_type": "code",
   "execution_count": 139,
   "id": "fe21f56a",
   "metadata": {},
   "outputs": [
    {
     "data": {
      "text/plain": [
       "1/8th_Round(W/E)  Seeded(Y/N)\n",
       "E                 N              39\n",
       "                  Y              15\n",
       "W                 N              15\n",
       "                  Y              12\n",
       "Name: Seeded(Y/N), dtype: int64"
      ]
     },
     "execution_count": 139,
     "metadata": {},
     "output_type": "execute_result"
    }
   ],
   "source": [
    "#### Total Number of Seeded and Non_Seeded Schools Eliminated or Qualified From All Regions\n",
    "nsmq_2022.groupby('1/8th_Round(W/E)')['Seeded(Y/N)'].value_counts()"
   ]
  },
  {
   "cell_type": "code",
   "execution_count": 155,
   "id": "c0098387",
   "metadata": {
    "scrolled": true
   },
   "outputs": [
    {
     "data": {
      "text/plain": [
       "Seeded(Y/N)  1/8th_Round(W/E)\n",
       "N            E                   11\n",
       "             W                    6\n",
       "Y            E                    5\n",
       "             W                    2\n",
       "Name: 1/8th_Round(W/E), dtype: int64"
      ]
     },
     "execution_count": 155,
     "metadata": {},
     "output_type": "execute_result"
    }
   ],
   "source": [
    "nsmq_2022[nsmq_2022['Region'] == 'Ashanti'].groupby('Seeded(Y/N)')['1/8th_Round(W/E)'].value_counts()"
   ]
  },
  {
   "cell_type": "code",
   "execution_count": 156,
   "id": "7236d3fa",
   "metadata": {},
   "outputs": [
    {
     "data": {
      "text/plain": [
       "Seeded(Y/N)  1/8th_Round(W/E)\n",
       "N            E                   6\n",
       "             W                   2\n",
       "Y            E                   2\n",
       "             W                   2\n",
       "Name: 1/8th_Round(W/E), dtype: int64"
      ]
     },
     "execution_count": 156,
     "metadata": {},
     "output_type": "execute_result"
    }
   ],
   "source": [
    "nsmq_2022[nsmq_2022['Region'] == 'Eastern'].groupby('Seeded(Y/N)')['1/8th_Round(W/E)'].value_counts()"
   ]
  },
  {
   "cell_type": "code",
   "execution_count": 157,
   "id": "fcdf4364",
   "metadata": {},
   "outputs": [
    {
     "data": {
      "text/plain": [
       "Seeded(Y/N)  1/8th_Round(W/E)\n",
       "N            E                   7\n",
       "             W                   1\n",
       "Y            W                   2\n",
       "             E                   1\n",
       "Name: 1/8th_Round(W/E), dtype: int64"
      ]
     },
     "execution_count": 157,
     "metadata": {},
     "output_type": "execute_result"
    }
   ],
   "source": [
    "nsmq_2022[nsmq_2022['Region'] == 'Greater Accra'].groupby('Seeded(Y/N)')['1/8th_Round(W/E)'].value_counts()"
   ]
  },
  {
   "cell_type": "code",
   "execution_count": 158,
   "id": "d14b6bc2",
   "metadata": {},
   "outputs": [
    {
     "data": {
      "text/plain": [
       "Seeded(Y/N)  1/8th_Round(W/E)\n",
       "N            E                   2\n",
       "             W                   2\n",
       "Y            W                   4\n",
       "             E                   1\n",
       "Name: 1/8th_Round(W/E), dtype: int64"
      ]
     },
     "execution_count": 158,
     "metadata": {},
     "output_type": "execute_result"
    }
   ],
   "source": [
    "nsmq_2022[nsmq_2022['Region'] == 'Central'].groupby('Seeded(Y/N)')['1/8th_Round(W/E)'].value_counts()"
   ]
  },
  {
   "cell_type": "code",
   "execution_count": 159,
   "id": "fcf8b710",
   "metadata": {},
   "outputs": [
    {
     "data": {
      "text/plain": [
       "Seeded(Y/N)  1/8th_Round(W/E)\n",
       "N            E                   2\n",
       "             W                   2\n",
       "Y            E                   3\n",
       "             W                   1\n",
       "Name: 1/8th_Round(W/E), dtype: int64"
      ]
     },
     "execution_count": 159,
     "metadata": {},
     "output_type": "execute_result"
    }
   ],
   "source": [
    "nsmq_2022[nsmq_2022['Region'] == 'Volta'].groupby('Seeded(Y/N)')['1/8th_Round(W/E)'].value_counts()"
   ]
  },
  {
   "cell_type": "code",
   "execution_count": 160,
   "id": "c5300c63",
   "metadata": {},
   "outputs": [
    {
     "data": {
      "text/plain": [
       "Seeded(Y/N)  1/8th_Round(W/E)\n",
       "N            E                   4\n",
       "Name: 1/8th_Round(W/E), dtype: int64"
      ]
     },
     "execution_count": 160,
     "metadata": {},
     "output_type": "execute_result"
    }
   ],
   "source": [
    "nsmq_2022[nsmq_2022['Region'] == 'Western'].groupby('Seeded(Y/N)')['1/8th_Round(W/E)'].value_counts()"
   ]
  },
  {
   "cell_type": "code",
   "execution_count": 161,
   "id": "11c7de24",
   "metadata": {},
   "outputs": [
    {
     "data": {
      "text/plain": [
       "Seeded(Y/N)  1/8th_Round(W/E)\n",
       "N            E                   2\n",
       "             W                   1\n",
       "Name: 1/8th_Round(W/E), dtype: int64"
      ]
     },
     "execution_count": 161,
     "metadata": {},
     "output_type": "execute_result"
    }
   ],
   "source": [
    "nsmq_2022[nsmq_2022['Region'] == 'Bono'].groupby('Seeded(Y/N)')['1/8th_Round(W/E)'].value_counts()"
   ]
  },
  {
   "cell_type": "code",
   "execution_count": 162,
   "id": "29069a71",
   "metadata": {},
   "outputs": [
    {
     "data": {
      "text/plain": [
       "Seeded(Y/N)  1/8th_Round(W/E)\n",
       "N            E                   1\n",
       "Y            E                   1\n",
       "Name: 1/8th_Round(W/E), dtype: int64"
      ]
     },
     "execution_count": 162,
     "metadata": {},
     "output_type": "execute_result"
    }
   ],
   "source": [
    "nsmq_2022[nsmq_2022['Region'] == 'Upper East'].groupby('Seeded(Y/N)')['1/8th_Round(W/E)'].value_counts()"
   ]
  },
  {
   "cell_type": "code",
   "execution_count": 163,
   "id": "dee43280",
   "metadata": {},
   "outputs": [
    {
     "data": {
      "text/plain": [
       "Seeded(Y/N)  1/8th_Round(W/E)\n",
       "N            E                   1\n",
       "             W                   1\n",
       "Y            E                   1\n",
       "Name: 1/8th_Round(W/E), dtype: int64"
      ]
     },
     "execution_count": 163,
     "metadata": {},
     "output_type": "execute_result"
    }
   ],
   "source": [
    "nsmq_2022[nsmq_2022['Region'] == 'Upper West'].groupby('Seeded(Y/N)')['1/8th_Round(W/E)'].value_counts()"
   ]
  },
  {
   "cell_type": "code",
   "execution_count": 164,
   "id": "bd9e5841",
   "metadata": {},
   "outputs": [
    {
     "data": {
      "text/plain": [
       "Seeded(Y/N)  1/8th_Round(W/E)\n",
       "N            E                   1\n",
       "Y            W                   1\n",
       "Name: 1/8th_Round(W/E), dtype: int64"
      ]
     },
     "execution_count": 164,
     "metadata": {},
     "output_type": "execute_result"
    }
   ],
   "source": [
    "nsmq_2022[nsmq_2022['Region'] == 'Northern'].groupby('Seeded(Y/N)')['1/8th_Round(W/E)'].value_counts()"
   ]
  },
  {
   "cell_type": "code",
   "execution_count": 165,
   "id": "3416442f",
   "metadata": {},
   "outputs": [
    {
     "data": {
      "text/plain": [
       "Seeded(Y/N)  1/8th_Round(W/E)\n",
       "N            E                   1\n",
       "Y            E                   1\n",
       "Name: 1/8th_Round(W/E), dtype: int64"
      ]
     },
     "execution_count": 165,
     "metadata": {},
     "output_type": "execute_result"
    }
   ],
   "source": [
    "nsmq_2022[nsmq_2022['Region'] == 'Bono East'].groupby('Seeded(Y/N)')['1/8th_Round(W/E)'].value_counts()"
   ]
  },
  {
   "cell_type": "code",
   "execution_count": 166,
   "id": "3e386eaf",
   "metadata": {},
   "outputs": [
    {
     "data": {
      "text/plain": [
       "Seeded(Y/N)  1/8th_Round(W/E)\n",
       "N            E                   1\n",
       "Name: 1/8th_Round(W/E), dtype: int64"
      ]
     },
     "execution_count": 166,
     "metadata": {},
     "output_type": "execute_result"
    }
   ],
   "source": [
    "nsmq_2022[nsmq_2022['Region'] == 'Ahafo'].groupby('Seeded(Y/N)')['1/8th_Round(W/E)'].value_counts()"
   ]
  },
  {
   "cell_type": "markdown",
   "id": "ff2d48ed",
   "metadata": {},
   "source": [
    "### Quarter_final_points"
   ]
  },
  {
   "cell_type": "markdown",
   "id": "b7c426dd",
   "metadata": {},
   "source": [
    "### Which School Scored the Highest and least Points in The Quarter Finals"
   ]
  },
  {
   "cell_type": "code",
   "execution_count": 125,
   "id": "c879aad2",
   "metadata": {
    "scrolled": true
   },
   "outputs": [
    {
     "data": {
      "text/html": [
       "<div>\n",
       "<style scoped>\n",
       "    .dataframe tbody tr th:only-of-type {\n",
       "        vertical-align: middle;\n",
       "    }\n",
       "\n",
       "    .dataframe tbody tr th {\n",
       "        vertical-align: top;\n",
       "    }\n",
       "\n",
       "    .dataframe thead th {\n",
       "        text-align: right;\n",
       "    }\n",
       "</style>\n",
       "<table border=\"1\" class=\"dataframe\">\n",
       "  <thead>\n",
       "    <tr style=\"text-align: right;\">\n",
       "      <th></th>\n",
       "      <th>Schools</th>\n",
       "      <th>Quarter_final_points</th>\n",
       "    </tr>\n",
       "  </thead>\n",
       "  <tbody>\n",
       "    <tr>\n",
       "      <th>62</th>\n",
       "      <td>St.Augustine's College</td>\n",
       "      <td>67.0</td>\n",
       "    </tr>\n",
       "    <tr>\n",
       "      <th>54</th>\n",
       "      <td>Presec, Legon</td>\n",
       "      <td>67.0</td>\n",
       "    </tr>\n",
       "    <tr>\n",
       "      <th>31</th>\n",
       "      <td>Kumasi High School</td>\n",
       "      <td>59.0</td>\n",
       "    </tr>\n",
       "    <tr>\n",
       "      <th>46</th>\n",
       "      <td>Opoku Ware School</td>\n",
       "      <td>59.0</td>\n",
       "    </tr>\n",
       "    <tr>\n",
       "      <th>0</th>\n",
       "      <td>Abetifi Presby SHS</td>\n",
       "      <td>51.0</td>\n",
       "    </tr>\n",
       "    <tr>\n",
       "      <th>...</th>\n",
       "      <td>...</td>\n",
       "      <td>...</td>\n",
       "    </tr>\n",
       "    <tr>\n",
       "      <th>76</th>\n",
       "      <td>University Practice SHS</td>\n",
       "      <td>NaN</td>\n",
       "    </tr>\n",
       "    <tr>\n",
       "      <th>77</th>\n",
       "      <td>Wesley Girls' High School</td>\n",
       "      <td>NaN</td>\n",
       "    </tr>\n",
       "    <tr>\n",
       "      <th>78</th>\n",
       "      <td>Wesley SHS, Bekwai</td>\n",
       "      <td>NaN</td>\n",
       "    </tr>\n",
       "    <tr>\n",
       "      <th>79</th>\n",
       "      <td>West African SHS</td>\n",
       "      <td>NaN</td>\n",
       "    </tr>\n",
       "    <tr>\n",
       "      <th>80</th>\n",
       "      <td>Yaa Asantewaa Girls' SHS</td>\n",
       "      <td>NaN</td>\n",
       "    </tr>\n",
       "  </tbody>\n",
       "</table>\n",
       "<p>81 rows × 2 columns</p>\n",
       "</div>"
      ],
      "text/plain": [
       "                      Schools  Quarter_final_points\n",
       "62    St.Augustine's College                   67.0\n",
       "54              Presec, Legon                  67.0\n",
       "31         Kumasi High School                  59.0\n",
       "46          Opoku Ware School                  59.0\n",
       "0          Abetifi Presby SHS                  51.0\n",
       "..                        ...                   ...\n",
       "76    University Practice SHS                   NaN\n",
       "77  Wesley Girls' High School                   NaN\n",
       "78         Wesley SHS, Bekwai                   NaN\n",
       "79           West African SHS                   NaN\n",
       "80   Yaa Asantewaa Girls' SHS                   NaN\n",
       "\n",
       "[81 rows x 2 columns]"
      ]
     },
     "execution_count": 125,
     "metadata": {},
     "output_type": "execute_result"
    }
   ],
   "source": [
    "nsmq_2022.groupby('Schools')['Quarter_final_points'].max().reset_index().sort_values(by = 'Quarter_final_points', ascending = False)"
   ]
  },
  {
   "cell_type": "markdown",
   "id": "ef1686a8",
   "metadata": {},
   "source": [
    "only 27 schools took part in the quarter finals and to focus mainly on them, the schools that didnt take part will be dropped using the dropna format"
   ]
  },
  {
   "cell_type": "code",
   "execution_count": 7,
   "id": "a57c1a41",
   "metadata": {},
   "outputs": [
    {
     "data": {
      "text/html": [
       "<div>\n",
       "<style scoped>\n",
       "    .dataframe tbody tr th:only-of-type {\n",
       "        vertical-align: middle;\n",
       "    }\n",
       "\n",
       "    .dataframe tbody tr th {\n",
       "        vertical-align: top;\n",
       "    }\n",
       "\n",
       "    .dataframe thead th {\n",
       "        text-align: right;\n",
       "    }\n",
       "</style>\n",
       "<table border=\"1\" class=\"dataframe\">\n",
       "  <thead>\n",
       "    <tr style=\"text-align: right;\">\n",
       "      <th></th>\n",
       "      <th>Schools</th>\n",
       "      <th>Quarter_final_points</th>\n",
       "    </tr>\n",
       "  </thead>\n",
       "  <tbody>\n",
       "    <tr>\n",
       "      <th>62</th>\n",
       "      <td>St.Augustine's College</td>\n",
       "      <td>67.0</td>\n",
       "    </tr>\n",
       "    <tr>\n",
       "      <th>54</th>\n",
       "      <td>Presec, Legon</td>\n",
       "      <td>67.0</td>\n",
       "    </tr>\n",
       "    <tr>\n",
       "      <th>31</th>\n",
       "      <td>Kumasi High School</td>\n",
       "      <td>59.0</td>\n",
       "    </tr>\n",
       "    <tr>\n",
       "      <th>46</th>\n",
       "      <td>Opoku Ware School</td>\n",
       "      <td>59.0</td>\n",
       "    </tr>\n",
       "    <tr>\n",
       "      <th>0</th>\n",
       "      <td>Abetifi Presby SHS</td>\n",
       "      <td>51.0</td>\n",
       "    </tr>\n",
       "    <tr>\n",
       "      <th>...</th>\n",
       "      <td>...</td>\n",
       "      <td>...</td>\n",
       "    </tr>\n",
       "    <tr>\n",
       "      <th>76</th>\n",
       "      <td>University Practice SHS</td>\n",
       "      <td>NaN</td>\n",
       "    </tr>\n",
       "    <tr>\n",
       "      <th>77</th>\n",
       "      <td>Wesley Girls' High School</td>\n",
       "      <td>NaN</td>\n",
       "    </tr>\n",
       "    <tr>\n",
       "      <th>78</th>\n",
       "      <td>Wesley SHS, Bekwai</td>\n",
       "      <td>NaN</td>\n",
       "    </tr>\n",
       "    <tr>\n",
       "      <th>79</th>\n",
       "      <td>West African SHS</td>\n",
       "      <td>NaN</td>\n",
       "    </tr>\n",
       "    <tr>\n",
       "      <th>80</th>\n",
       "      <td>Yaa Asantewaa Girls' SHS</td>\n",
       "      <td>NaN</td>\n",
       "    </tr>\n",
       "  </tbody>\n",
       "</table>\n",
       "<p>81 rows × 2 columns</p>\n",
       "</div>"
      ],
      "text/plain": [
       "                      Schools  Quarter_final_points\n",
       "62    St.Augustine's College                   67.0\n",
       "54              Presec, Legon                  67.0\n",
       "31         Kumasi High School                  59.0\n",
       "46          Opoku Ware School                  59.0\n",
       "0          Abetifi Presby SHS                  51.0\n",
       "..                        ...                   ...\n",
       "76    University Practice SHS                   NaN\n",
       "77  Wesley Girls' High School                   NaN\n",
       "78         Wesley SHS, Bekwai                   NaN\n",
       "79           West African SHS                   NaN\n",
       "80   Yaa Asantewaa Girls' SHS                   NaN\n",
       "\n",
       "[81 rows x 2 columns]"
      ]
     },
     "execution_count": 7,
     "metadata": {},
     "output_type": "execute_result"
    }
   ],
   "source": [
    "### To be able to drop NaN, a new table is created for the Schools adn quarter final points \n",
    "#### Assigning to quater_na\n",
    "quater_na = nsmq_2022.groupby('Schools')['Quarter_final_points'].max().reset_index().sort_values(by = 'Quarter_final_points', ascending = False)\n",
    "quater_na"
   ]
  },
  {
   "cell_type": "code",
   "execution_count": 132,
   "id": "fd43bcfc",
   "metadata": {},
   "outputs": [
    {
     "data": {
      "text/html": [
       "<div>\n",
       "<style scoped>\n",
       "    .dataframe tbody tr th:only-of-type {\n",
       "        vertical-align: middle;\n",
       "    }\n",
       "\n",
       "    .dataframe tbody tr th {\n",
       "        vertical-align: top;\n",
       "    }\n",
       "\n",
       "    .dataframe thead th {\n",
       "        text-align: right;\n",
       "    }\n",
       "</style>\n",
       "<table border=\"1\" class=\"dataframe\">\n",
       "  <thead>\n",
       "    <tr style=\"text-align: right;\">\n",
       "      <th></th>\n",
       "      <th>Schools</th>\n",
       "      <th>Quarter_final_points</th>\n",
       "    </tr>\n",
       "  </thead>\n",
       "  <tbody>\n",
       "    <tr>\n",
       "      <th>62</th>\n",
       "      <td>St.Augustine's College</td>\n",
       "      <td>67.0</td>\n",
       "    </tr>\n",
       "    <tr>\n",
       "      <th>54</th>\n",
       "      <td>Presec, Legon</td>\n",
       "      <td>67.0</td>\n",
       "    </tr>\n",
       "    <tr>\n",
       "      <th>31</th>\n",
       "      <td>Kumasi High School</td>\n",
       "      <td>59.0</td>\n",
       "    </tr>\n",
       "    <tr>\n",
       "      <th>46</th>\n",
       "      <td>Opoku Ware School</td>\n",
       "      <td>59.0</td>\n",
       "    </tr>\n",
       "    <tr>\n",
       "      <th>0</th>\n",
       "      <td>Abetifi Presby SHS</td>\n",
       "      <td>51.0</td>\n",
       "    </tr>\n",
       "    <tr>\n",
       "      <th>36</th>\n",
       "      <td>Mfantsipim SHS</td>\n",
       "      <td>51.0</td>\n",
       "    </tr>\n",
       "    <tr>\n",
       "      <th>47</th>\n",
       "      <td>Osei Kyeretwie SHS</td>\n",
       "      <td>50.0</td>\n",
       "    </tr>\n",
       "    <tr>\n",
       "      <th>51</th>\n",
       "      <td>Prempeh College</td>\n",
       "      <td>47.0</td>\n",
       "    </tr>\n",
       "    <tr>\n",
       "      <th>63</th>\n",
       "      <td>St.Hubert Sem.SHS</td>\n",
       "      <td>45.0</td>\n",
       "    </tr>\n",
       "    <tr>\n",
       "      <th>64</th>\n",
       "      <td>St.James Sem.SHS</td>\n",
       "      <td>44.0</td>\n",
       "    </tr>\n",
       "    <tr>\n",
       "      <th>26</th>\n",
       "      <td>Keta SHTS</td>\n",
       "      <td>43.0</td>\n",
       "    </tr>\n",
       "    <tr>\n",
       "      <th>53</th>\n",
       "      <td>Presby SHTS, Aburi</td>\n",
       "      <td>41.0</td>\n",
       "    </tr>\n",
       "    <tr>\n",
       "      <th>21</th>\n",
       "      <td>Ghana National College</td>\n",
       "      <td>40.0</td>\n",
       "    </tr>\n",
       "    <tr>\n",
       "      <th>48</th>\n",
       "      <td>Osei Tutu SHS</td>\n",
       "      <td>40.0</td>\n",
       "    </tr>\n",
       "    <tr>\n",
       "      <th>72</th>\n",
       "      <td>Tamale SHS</td>\n",
       "      <td>38.0</td>\n",
       "    </tr>\n",
       "    <tr>\n",
       "      <th>23</th>\n",
       "      <td>Ghanata SHS</td>\n",
       "      <td>36.0</td>\n",
       "    </tr>\n",
       "    <tr>\n",
       "      <th>1</th>\n",
       "      <td>Accra Academy</td>\n",
       "      <td>33.0</td>\n",
       "    </tr>\n",
       "    <tr>\n",
       "      <th>35</th>\n",
       "      <td>Mawuli SHS</td>\n",
       "      <td>32.0</td>\n",
       "    </tr>\n",
       "    <tr>\n",
       "      <th>6</th>\n",
       "      <td>Adventist SHS, Bantama</td>\n",
       "      <td>31.0</td>\n",
       "    </tr>\n",
       "    <tr>\n",
       "      <th>61</th>\n",
       "      <td>St. Francis Xavier Jnr.Sem</td>\n",
       "      <td>31.0</td>\n",
       "    </tr>\n",
       "    <tr>\n",
       "      <th>4</th>\n",
       "      <td>Adisadel College</td>\n",
       "      <td>31.0</td>\n",
       "    </tr>\n",
       "    <tr>\n",
       "      <th>13</th>\n",
       "      <td>Assisn State College</td>\n",
       "      <td>29.0</td>\n",
       "    </tr>\n",
       "    <tr>\n",
       "      <th>50</th>\n",
       "      <td>Pope John Min.Sem.SHS</td>\n",
       "      <td>26.0</td>\n",
       "    </tr>\n",
       "    <tr>\n",
       "      <th>15</th>\n",
       "      <td>Bishop Herman College</td>\n",
       "      <td>25.0</td>\n",
       "    </tr>\n",
       "    <tr>\n",
       "      <th>70</th>\n",
       "      <td>Swedru SHS</td>\n",
       "      <td>24.0</td>\n",
       "    </tr>\n",
       "    <tr>\n",
       "      <th>22</th>\n",
       "      <td>Ghana SHS, Koforidua</td>\n",
       "      <td>23.0</td>\n",
       "    </tr>\n",
       "    <tr>\n",
       "      <th>32</th>\n",
       "      <td>Kumasi Sec.Tech</td>\n",
       "      <td>23.0</td>\n",
       "    </tr>\n",
       "  </tbody>\n",
       "</table>\n",
       "</div>"
      ],
      "text/plain": [
       "                       Schools  Quarter_final_points\n",
       "62     St.Augustine's College                   67.0\n",
       "54               Presec, Legon                  67.0\n",
       "31          Kumasi High School                  59.0\n",
       "46           Opoku Ware School                  59.0\n",
       "0           Abetifi Presby SHS                  51.0\n",
       "36              Mfantsipim SHS                  51.0\n",
       "47          Osei Kyeretwie SHS                  50.0\n",
       "51             Prempeh College                  47.0\n",
       "63           St.Hubert Sem.SHS                  45.0\n",
       "64            St.James Sem.SHS                  44.0\n",
       "26                   Keta SHTS                  43.0\n",
       "53         Presby SHTS, Aburi                   41.0\n",
       "21     Ghana National College                   40.0\n",
       "48               Osei Tutu SHS                  40.0\n",
       "72                  Tamale SHS                  38.0\n",
       "23                 Ghanata SHS                  36.0\n",
       "1               Accra Academy                   33.0\n",
       "35                  Mawuli SHS                  32.0\n",
       "6       Adventist SHS, Bantama                  31.0\n",
       "61  St. Francis Xavier Jnr.Sem                  31.0\n",
       "4            Adisadel College                   31.0\n",
       "13        Assisn State College                  29.0\n",
       "50       Pope John Min.Sem.SHS                  26.0\n",
       "15       Bishop Herman College                  25.0\n",
       "70                  Swedru SHS                  24.0\n",
       "22       Ghana SHS, Koforidua                   23.0\n",
       "32             Kumasi Sec.Tech                  23.0"
      ]
     },
     "execution_count": 132,
     "metadata": {},
     "output_type": "execute_result"
    }
   ],
   "source": [
    "### dropna in data frame to reveal the 27 remaining schools\n",
    "quater_na.dropna(axis = 0)"
   ]
  },
  {
   "cell_type": "markdown",
   "id": "70b4790c",
   "metadata": {},
   "source": [
    "In the quarter final, there were a lot of schools tied for the top top points with St.Augustine and Presec,Legon scoring the highest points for the rounds tied with 67 points followed by Kumasi Academy and Opoku Ware School tieing for 2nd place with 59 points each and the 3rd place tied for 51 points by Abetifi Presby and Mfantsipim School with the least points earned being 23 also tied fro by Ghana SHS, Koforidua and Kumasi Secondary Technical School"
   ]
  },
  {
   "cell_type": "markdown",
   "id": "842eb079",
   "metadata": {},
   "source": [
    "### Which Region recorded the highest and least points in the quarter finals"
   ]
  },
  {
   "cell_type": "code",
   "execution_count": 12,
   "id": "39036f2d",
   "metadata": {},
   "outputs": [
    {
     "data": {
      "text/html": [
       "<div>\n",
       "<style scoped>\n",
       "    .dataframe tbody tr th:only-of-type {\n",
       "        vertical-align: middle;\n",
       "    }\n",
       "\n",
       "    .dataframe tbody tr th {\n",
       "        vertical-align: top;\n",
       "    }\n",
       "\n",
       "    .dataframe thead th {\n",
       "        text-align: right;\n",
       "    }\n",
       "</style>\n",
       "<table border=\"1\" class=\"dataframe\">\n",
       "  <thead>\n",
       "    <tr style=\"text-align: right;\">\n",
       "      <th></th>\n",
       "      <th>Region</th>\n",
       "      <th>Quarter_final_points</th>\n",
       "    </tr>\n",
       "  </thead>\n",
       "  <tbody>\n",
       "    <tr>\n",
       "      <th>1</th>\n",
       "      <td>Ashanti</td>\n",
       "      <td>354.0</td>\n",
       "    </tr>\n",
       "    <tr>\n",
       "      <th>4</th>\n",
       "      <td>Central</td>\n",
       "      <td>242.0</td>\n",
       "    </tr>\n",
       "    <tr>\n",
       "      <th>5</th>\n",
       "      <td>Eastern</td>\n",
       "      <td>141.0</td>\n",
       "    </tr>\n",
       "    <tr>\n",
       "      <th>6</th>\n",
       "      <td>Greater Accra</td>\n",
       "      <td>136.0</td>\n",
       "    </tr>\n",
       "    <tr>\n",
       "      <th>10</th>\n",
       "      <td>Volta</td>\n",
       "      <td>100.0</td>\n",
       "    </tr>\n",
       "    <tr>\n",
       "      <th>2</th>\n",
       "      <td>Bono</td>\n",
       "      <td>44.0</td>\n",
       "    </tr>\n",
       "    <tr>\n",
       "      <th>7</th>\n",
       "      <td>Northern</td>\n",
       "      <td>38.0</td>\n",
       "    </tr>\n",
       "    <tr>\n",
       "      <th>9</th>\n",
       "      <td>Upper West</td>\n",
       "      <td>31.0</td>\n",
       "    </tr>\n",
       "    <tr>\n",
       "      <th>0</th>\n",
       "      <td>Ahafo</td>\n",
       "      <td>NaN</td>\n",
       "    </tr>\n",
       "    <tr>\n",
       "      <th>3</th>\n",
       "      <td>Bono East</td>\n",
       "      <td>NaN</td>\n",
       "    </tr>\n",
       "    <tr>\n",
       "      <th>8</th>\n",
       "      <td>Upper East</td>\n",
       "      <td>NaN</td>\n",
       "    </tr>\n",
       "    <tr>\n",
       "      <th>11</th>\n",
       "      <td>Western</td>\n",
       "      <td>NaN</td>\n",
       "    </tr>\n",
       "  </tbody>\n",
       "</table>\n",
       "</div>"
      ],
      "text/plain": [
       "           Region  Quarter_final_points\n",
       "1         Ashanti                 354.0\n",
       "4         Central                 242.0\n",
       "5         Eastern                 141.0\n",
       "6   Greater Accra                 136.0\n",
       "10          Volta                 100.0\n",
       "2            Bono                  44.0\n",
       "7        Northern                  38.0\n",
       "9      Upper West                  31.0\n",
       "0           Ahafo                   NaN\n",
       "3       Bono East                   NaN\n",
       "8      Upper East                   NaN\n",
       "11        Western                   NaN"
      ]
     },
     "execution_count": 12,
     "metadata": {},
     "output_type": "execute_result"
    }
   ],
   "source": [
    "nsmq_2022.groupby('Region')['Quarter_final_points'].sum(min_count= 1).reset_index().sort_values(by = 'Quarter_final_points', ascending = False)"
   ]
  },
  {
   "cell_type": "markdown",
   "id": "adb67c0c",
   "metadata": {},
   "source": [
    "Representaives from the Ahafo, Bono East, Upper East, Upper West and Western Regions were eliminated in the 1/8th round thus would not be important in further analysis, thus, we will drop them "
   ]
  },
  {
   "cell_type": "code",
   "execution_count": 13,
   "id": "694ab7f7",
   "metadata": {},
   "outputs": [
    {
     "data": {
      "text/html": [
       "<div>\n",
       "<style scoped>\n",
       "    .dataframe tbody tr th:only-of-type {\n",
       "        vertical-align: middle;\n",
       "    }\n",
       "\n",
       "    .dataframe tbody tr th {\n",
       "        vertical-align: top;\n",
       "    }\n",
       "\n",
       "    .dataframe thead th {\n",
       "        text-align: right;\n",
       "    }\n",
       "</style>\n",
       "<table border=\"1\" class=\"dataframe\">\n",
       "  <thead>\n",
       "    <tr style=\"text-align: right;\">\n",
       "      <th></th>\n",
       "      <th>Region</th>\n",
       "      <th>Quarter_final_points</th>\n",
       "    </tr>\n",
       "  </thead>\n",
       "  <tbody>\n",
       "    <tr>\n",
       "      <th>1</th>\n",
       "      <td>Ashanti</td>\n",
       "      <td>354.0</td>\n",
       "    </tr>\n",
       "    <tr>\n",
       "      <th>4</th>\n",
       "      <td>Central</td>\n",
       "      <td>242.0</td>\n",
       "    </tr>\n",
       "    <tr>\n",
       "      <th>5</th>\n",
       "      <td>Eastern</td>\n",
       "      <td>141.0</td>\n",
       "    </tr>\n",
       "    <tr>\n",
       "      <th>6</th>\n",
       "      <td>Greater Accra</td>\n",
       "      <td>136.0</td>\n",
       "    </tr>\n",
       "    <tr>\n",
       "      <th>10</th>\n",
       "      <td>Volta</td>\n",
       "      <td>100.0</td>\n",
       "    </tr>\n",
       "    <tr>\n",
       "      <th>2</th>\n",
       "      <td>Bono</td>\n",
       "      <td>44.0</td>\n",
       "    </tr>\n",
       "    <tr>\n",
       "      <th>7</th>\n",
       "      <td>Northern</td>\n",
       "      <td>38.0</td>\n",
       "    </tr>\n",
       "    <tr>\n",
       "      <th>9</th>\n",
       "      <td>Upper West</td>\n",
       "      <td>31.0</td>\n",
       "    </tr>\n",
       "    <tr>\n",
       "      <th>0</th>\n",
       "      <td>Ahafo</td>\n",
       "      <td>NaN</td>\n",
       "    </tr>\n",
       "    <tr>\n",
       "      <th>3</th>\n",
       "      <td>Bono East</td>\n",
       "      <td>NaN</td>\n",
       "    </tr>\n",
       "    <tr>\n",
       "      <th>8</th>\n",
       "      <td>Upper East</td>\n",
       "      <td>NaN</td>\n",
       "    </tr>\n",
       "    <tr>\n",
       "      <th>11</th>\n",
       "      <td>Western</td>\n",
       "      <td>NaN</td>\n",
       "    </tr>\n",
       "  </tbody>\n",
       "</table>\n",
       "</div>"
      ],
      "text/plain": [
       "           Region  Quarter_final_points\n",
       "1         Ashanti                 354.0\n",
       "4         Central                 242.0\n",
       "5         Eastern                 141.0\n",
       "6   Greater Accra                 136.0\n",
       "10          Volta                 100.0\n",
       "2            Bono                  44.0\n",
       "7        Northern                  38.0\n",
       "9      Upper West                  31.0\n",
       "0           Ahafo                   NaN\n",
       "3       Bono East                   NaN\n",
       "8      Upper East                   NaN\n",
       "11        Western                   NaN"
      ]
     },
     "execution_count": 13,
     "metadata": {},
     "output_type": "execute_result"
    }
   ],
   "source": [
    "### asigning to \n",
    "quarter_region= nsmq_2022.groupby('Region')['Quarter_final_points'].sum(min_count= 1).reset_index().sort_values(by = 'Quarter_final_points', ascending = False)\n",
    "quarter_region"
   ]
  },
  {
   "cell_type": "code",
   "execution_count": 14,
   "id": "382295e5",
   "metadata": {},
   "outputs": [
    {
     "data": {
      "text/html": [
       "<div>\n",
       "<style scoped>\n",
       "    .dataframe tbody tr th:only-of-type {\n",
       "        vertical-align: middle;\n",
       "    }\n",
       "\n",
       "    .dataframe tbody tr th {\n",
       "        vertical-align: top;\n",
       "    }\n",
       "\n",
       "    .dataframe thead th {\n",
       "        text-align: right;\n",
       "    }\n",
       "</style>\n",
       "<table border=\"1\" class=\"dataframe\">\n",
       "  <thead>\n",
       "    <tr style=\"text-align: right;\">\n",
       "      <th></th>\n",
       "      <th>Region</th>\n",
       "      <th>Quarter_final_points</th>\n",
       "    </tr>\n",
       "  </thead>\n",
       "  <tbody>\n",
       "    <tr>\n",
       "      <th>1</th>\n",
       "      <td>Ashanti</td>\n",
       "      <td>354.0</td>\n",
       "    </tr>\n",
       "    <tr>\n",
       "      <th>4</th>\n",
       "      <td>Central</td>\n",
       "      <td>242.0</td>\n",
       "    </tr>\n",
       "    <tr>\n",
       "      <th>5</th>\n",
       "      <td>Eastern</td>\n",
       "      <td>141.0</td>\n",
       "    </tr>\n",
       "    <tr>\n",
       "      <th>6</th>\n",
       "      <td>Greater Accra</td>\n",
       "      <td>136.0</td>\n",
       "    </tr>\n",
       "    <tr>\n",
       "      <th>10</th>\n",
       "      <td>Volta</td>\n",
       "      <td>100.0</td>\n",
       "    </tr>\n",
       "    <tr>\n",
       "      <th>2</th>\n",
       "      <td>Bono</td>\n",
       "      <td>44.0</td>\n",
       "    </tr>\n",
       "    <tr>\n",
       "      <th>7</th>\n",
       "      <td>Northern</td>\n",
       "      <td>38.0</td>\n",
       "    </tr>\n",
       "    <tr>\n",
       "      <th>9</th>\n",
       "      <td>Upper West</td>\n",
       "      <td>31.0</td>\n",
       "    </tr>\n",
       "  </tbody>\n",
       "</table>\n",
       "</div>"
      ],
      "text/plain": [
       "           Region  Quarter_final_points\n",
       "1         Ashanti                 354.0\n",
       "4         Central                 242.0\n",
       "5         Eastern                 141.0\n",
       "6   Greater Accra                 136.0\n",
       "10          Volta                 100.0\n",
       "2            Bono                  44.0\n",
       "7        Northern                  38.0\n",
       "9      Upper West                  31.0"
      ]
     },
     "execution_count": 14,
     "metadata": {},
     "output_type": "execute_result"
    }
   ],
   "source": [
    "quarter_region.dropna(axis=0)"
   ]
  },
  {
   "cell_type": "markdown",
   "id": "52869bd2",
   "metadata": {},
   "source": [
    "Out of the remaining 27 schools that participated in the quarter finals, Schools from the Ashanti Region scored the most accumulated points with 354 contributed by 8 schools followed by the Central Region with 242 points contributed by 6 school and the 3rd placed region being Eastern with 141 points contributed by 4 schools. The least accumulated points was by the Upper West with 31 points contributed by the  School left from the region"
   ]
  },
  {
   "cell_type": "markdown",
   "id": "de2c3079",
   "metadata": {},
   "source": [
    "### Which Schools from the each Region recorded the Most and Least Points In the Quarter Final"
   ]
  },
  {
   "cell_type": "code",
   "execution_count": 30,
   "id": "adccff3a",
   "metadata": {},
   "outputs": [
    {
     "data": {
      "text/html": [
       "<div>\n",
       "<style scoped>\n",
       "    .dataframe tbody tr th:only-of-type {\n",
       "        vertical-align: middle;\n",
       "    }\n",
       "\n",
       "    .dataframe tbody tr th {\n",
       "        vertical-align: top;\n",
       "    }\n",
       "\n",
       "    .dataframe thead th {\n",
       "        text-align: right;\n",
       "    }\n",
       "</style>\n",
       "<table border=\"1\" class=\"dataframe\">\n",
       "  <thead>\n",
       "    <tr style=\"text-align: right;\">\n",
       "      <th></th>\n",
       "      <th>Schools</th>\n",
       "      <th>Quarter_final_points</th>\n",
       "    </tr>\n",
       "  </thead>\n",
       "  <tbody>\n",
       "    <tr>\n",
       "      <th>1</th>\n",
       "      <td>Kumasi High School</td>\n",
       "      <td>59.0</td>\n",
       "    </tr>\n",
       "    <tr>\n",
       "      <th>3</th>\n",
       "      <td>Opoku Ware School</td>\n",
       "      <td>59.0</td>\n",
       "    </tr>\n",
       "    <tr>\n",
       "      <th>4</th>\n",
       "      <td>Osei Kyeretwie SHS</td>\n",
       "      <td>50.0</td>\n",
       "    </tr>\n",
       "    <tr>\n",
       "      <th>6</th>\n",
       "      <td>Prempeh College</td>\n",
       "      <td>47.0</td>\n",
       "    </tr>\n",
       "    <tr>\n",
       "      <th>7</th>\n",
       "      <td>St.Hubert Sem.SHS</td>\n",
       "      <td>45.0</td>\n",
       "    </tr>\n",
       "    <tr>\n",
       "      <th>5</th>\n",
       "      <td>Osei Tutu SHS</td>\n",
       "      <td>40.0</td>\n",
       "    </tr>\n",
       "    <tr>\n",
       "      <th>0</th>\n",
       "      <td>Adventist SHS, Bantama</td>\n",
       "      <td>31.0</td>\n",
       "    </tr>\n",
       "    <tr>\n",
       "      <th>2</th>\n",
       "      <td>Kumasi Sec.Tech</td>\n",
       "      <td>23.0</td>\n",
       "    </tr>\n",
       "  </tbody>\n",
       "</table>\n",
       "</div>"
      ],
      "text/plain": [
       "                  Schools  Quarter_final_points\n",
       "1      Kumasi High School                  59.0\n",
       "3       Opoku Ware School                  59.0\n",
       "4      Osei Kyeretwie SHS                  50.0\n",
       "6         Prempeh College                  47.0\n",
       "7       St.Hubert Sem.SHS                  45.0\n",
       "5           Osei Tutu SHS                  40.0\n",
       "0  Adventist SHS, Bantama                  31.0\n",
       "2         Kumasi Sec.Tech                  23.0"
      ]
     },
     "execution_count": 30,
     "metadata": {},
     "output_type": "execute_result"
    }
   ],
   "source": [
    "nsmq_2022[nsmq_2022['Region']== 'Ashanti'].groupby('Schools')['Quarter_final_points'].max().dropna(axis = 0).reset_index().sort_values(by = 'Quarter_final_points', ascending = False)"
   ]
  },
  {
   "cell_type": "markdown",
   "id": "e584fcd1",
   "metadata": {},
   "source": [
    "Kumasi high School and Opoku Ware School tied for Most points from Schools in the Ashanti Region with 59 points with the least points from the Region for this round coming from Kumasi Secondary Technical School"
   ]
  },
  {
   "cell_type": "code",
   "execution_count": 31,
   "id": "b01ad04f",
   "metadata": {},
   "outputs": [
    {
     "data": {
      "text/html": [
       "<div>\n",
       "<style scoped>\n",
       "    .dataframe tbody tr th:only-of-type {\n",
       "        vertical-align: middle;\n",
       "    }\n",
       "\n",
       "    .dataframe tbody tr th {\n",
       "        vertical-align: top;\n",
       "    }\n",
       "\n",
       "    .dataframe thead th {\n",
       "        text-align: right;\n",
       "    }\n",
       "</style>\n",
       "<table border=\"1\" class=\"dataframe\">\n",
       "  <thead>\n",
       "    <tr style=\"text-align: right;\">\n",
       "      <th></th>\n",
       "      <th>Schools</th>\n",
       "      <th>Quarter_final_points</th>\n",
       "    </tr>\n",
       "  </thead>\n",
       "  <tbody>\n",
       "    <tr>\n",
       "      <th>4</th>\n",
       "      <td>St.Augustine's College</td>\n",
       "      <td>67.0</td>\n",
       "    </tr>\n",
       "    <tr>\n",
       "      <th>3</th>\n",
       "      <td>Mfantsipim SHS</td>\n",
       "      <td>51.0</td>\n",
       "    </tr>\n",
       "    <tr>\n",
       "      <th>2</th>\n",
       "      <td>Ghana National College</td>\n",
       "      <td>40.0</td>\n",
       "    </tr>\n",
       "    <tr>\n",
       "      <th>0</th>\n",
       "      <td>Adisadel College</td>\n",
       "      <td>31.0</td>\n",
       "    </tr>\n",
       "    <tr>\n",
       "      <th>1</th>\n",
       "      <td>Assisn State College</td>\n",
       "      <td>29.0</td>\n",
       "    </tr>\n",
       "    <tr>\n",
       "      <th>5</th>\n",
       "      <td>Swedru SHS</td>\n",
       "      <td>24.0</td>\n",
       "    </tr>\n",
       "  </tbody>\n",
       "</table>\n",
       "</div>"
      ],
      "text/plain": [
       "                   Schools  Quarter_final_points\n",
       "4  St.Augustine's College                   67.0\n",
       "3           Mfantsipim SHS                  51.0\n",
       "2  Ghana National College                   40.0\n",
       "0        Adisadel College                   31.0\n",
       "1     Assisn State College                  29.0\n",
       "5               Swedru SHS                  24.0"
      ]
     },
     "execution_count": 31,
     "metadata": {},
     "output_type": "execute_result"
    }
   ],
   "source": [
    "nsmq_2022[nsmq_2022['Region']== 'Central'].groupby('Schools')['Quarter_final_points'].max().dropna(axis = 0).reset_index().sort_values(by = 'Quarter_final_points', ascending = False)"
   ]
  },
  {
   "cell_type": "markdown",
   "id": "1f88e9fe",
   "metadata": {},
   "source": [
    "Regarding Schools from the Central Region, St. Augustines Scored the highest points with 67 points with the least points from the region being recorded by Swedru Senior High School"
   ]
  },
  {
   "cell_type": "code",
   "execution_count": 32,
   "id": "a60ed02f",
   "metadata": {},
   "outputs": [
    {
     "data": {
      "text/html": [
       "<div>\n",
       "<style scoped>\n",
       "    .dataframe tbody tr th:only-of-type {\n",
       "        vertical-align: middle;\n",
       "    }\n",
       "\n",
       "    .dataframe tbody tr th {\n",
       "        vertical-align: top;\n",
       "    }\n",
       "\n",
       "    .dataframe thead th {\n",
       "        text-align: right;\n",
       "    }\n",
       "</style>\n",
       "<table border=\"1\" class=\"dataframe\">\n",
       "  <thead>\n",
       "    <tr style=\"text-align: right;\">\n",
       "      <th></th>\n",
       "      <th>Schools</th>\n",
       "      <th>Quarter_final_points</th>\n",
       "    </tr>\n",
       "  </thead>\n",
       "  <tbody>\n",
       "    <tr>\n",
       "      <th>0</th>\n",
       "      <td>Abetifi Presby SHS</td>\n",
       "      <td>51.0</td>\n",
       "    </tr>\n",
       "    <tr>\n",
       "      <th>3</th>\n",
       "      <td>Presby SHTS, Aburi</td>\n",
       "      <td>41.0</td>\n",
       "    </tr>\n",
       "    <tr>\n",
       "      <th>2</th>\n",
       "      <td>Pope John Min.Sem.SHS</td>\n",
       "      <td>26.0</td>\n",
       "    </tr>\n",
       "    <tr>\n",
       "      <th>1</th>\n",
       "      <td>Ghana SHS, Koforidua</td>\n",
       "      <td>23.0</td>\n",
       "    </tr>\n",
       "  </tbody>\n",
       "</table>\n",
       "</div>"
      ],
      "text/plain": [
       "                 Schools  Quarter_final_points\n",
       "0     Abetifi Presby SHS                  51.0\n",
       "3    Presby SHTS, Aburi                   41.0\n",
       "2  Pope John Min.Sem.SHS                  26.0\n",
       "1  Ghana SHS, Koforidua                   23.0"
      ]
     },
     "execution_count": 32,
     "metadata": {},
     "output_type": "execute_result"
    }
   ],
   "source": [
    "nsmq_2022[nsmq_2022['Region']== 'Eastern'].groupby('Schools')['Quarter_final_points'].max().dropna(axis = 0).reset_index().sort_values(by = 'Quarter_final_points', ascending = False)"
   ]
  },
  {
   "cell_type": "markdown",
   "id": "8057f7ff",
   "metadata": {},
   "source": [
    "Regarding Schools from the Eastern region, Abetifi Presby Shs scored the highest with 51 points with the least point scored by Ghana SHS, Koforidua"
   ]
  },
  {
   "cell_type": "code",
   "execution_count": 34,
   "id": "89b5c360",
   "metadata": {},
   "outputs": [
    {
     "data": {
      "text/html": [
       "<div>\n",
       "<style scoped>\n",
       "    .dataframe tbody tr th:only-of-type {\n",
       "        vertical-align: middle;\n",
       "    }\n",
       "\n",
       "    .dataframe tbody tr th {\n",
       "        vertical-align: top;\n",
       "    }\n",
       "\n",
       "    .dataframe thead th {\n",
       "        text-align: right;\n",
       "    }\n",
       "</style>\n",
       "<table border=\"1\" class=\"dataframe\">\n",
       "  <thead>\n",
       "    <tr style=\"text-align: right;\">\n",
       "      <th></th>\n",
       "      <th>Schools</th>\n",
       "      <th>Quarter_final_points</th>\n",
       "    </tr>\n",
       "  </thead>\n",
       "  <tbody>\n",
       "    <tr>\n",
       "      <th>2</th>\n",
       "      <td>Presec, Legon</td>\n",
       "      <td>67.0</td>\n",
       "    </tr>\n",
       "    <tr>\n",
       "      <th>1</th>\n",
       "      <td>Ghanata SHS</td>\n",
       "      <td>36.0</td>\n",
       "    </tr>\n",
       "    <tr>\n",
       "      <th>0</th>\n",
       "      <td>Accra Academy</td>\n",
       "      <td>33.0</td>\n",
       "    </tr>\n",
       "  </tbody>\n",
       "</table>\n",
       "</div>"
      ],
      "text/plain": [
       "          Schools  Quarter_final_points\n",
       "2   Presec, Legon                  67.0\n",
       "1     Ghanata SHS                  36.0\n",
       "0  Accra Academy                   33.0"
      ]
     },
     "execution_count": 34,
     "metadata": {},
     "output_type": "execute_result"
    }
   ],
   "source": [
    "nsmq_2022[nsmq_2022['Region']== 'Greater Accra'].groupby('Schools')['Quarter_final_points'].max().dropna(axis = 0).reset_index().sort_values(by = 'Quarter_final_points', ascending = False)"
   ]
  },
  {
   "cell_type": "markdown",
   "id": "39612405",
   "metadata": {},
   "source": [
    "Presec, legon recorded the Most points from the Greater Accra Region with the least points being recorded by Accra Academy with 33 points"
   ]
  },
  {
   "cell_type": "code",
   "execution_count": 36,
   "id": "967164fa",
   "metadata": {},
   "outputs": [
    {
     "data": {
      "text/html": [
       "<div>\n",
       "<style scoped>\n",
       "    .dataframe tbody tr th:only-of-type {\n",
       "        vertical-align: middle;\n",
       "    }\n",
       "\n",
       "    .dataframe tbody tr th {\n",
       "        vertical-align: top;\n",
       "    }\n",
       "\n",
       "    .dataframe thead th {\n",
       "        text-align: right;\n",
       "    }\n",
       "</style>\n",
       "<table border=\"1\" class=\"dataframe\">\n",
       "  <thead>\n",
       "    <tr style=\"text-align: right;\">\n",
       "      <th></th>\n",
       "      <th>Schools</th>\n",
       "      <th>Quarter_final_points</th>\n",
       "    </tr>\n",
       "  </thead>\n",
       "  <tbody>\n",
       "    <tr>\n",
       "      <th>1</th>\n",
       "      <td>Keta SHTS</td>\n",
       "      <td>43.0</td>\n",
       "    </tr>\n",
       "    <tr>\n",
       "      <th>2</th>\n",
       "      <td>Mawuli SHS</td>\n",
       "      <td>32.0</td>\n",
       "    </tr>\n",
       "    <tr>\n",
       "      <th>0</th>\n",
       "      <td>Bishop Herman College</td>\n",
       "      <td>25.0</td>\n",
       "    </tr>\n",
       "  </tbody>\n",
       "</table>\n",
       "</div>"
      ],
      "text/plain": [
       "                 Schools  Quarter_final_points\n",
       "1              Keta SHTS                  43.0\n",
       "2             Mawuli SHS                  32.0\n",
       "0  Bishop Herman College                  25.0"
      ]
     },
     "execution_count": 36,
     "metadata": {},
     "output_type": "execute_result"
    }
   ],
   "source": [
    "nsmq_2022[nsmq_2022['Region']== 'Volta'].groupby('Schools')['Quarter_final_points'].max().dropna(axis = 0).reset_index().sort_values(by = 'Quarter_final_points', ascending = False)"
   ]
  },
  {
   "cell_type": "markdown",
   "id": "3d5f2f54",
   "metadata": {},
   "source": [
    "With schools from the Volta region, Keta SHTS scored the most points with Bishop Herman College scoring the least points with 25"
   ]
  },
  {
   "cell_type": "code",
   "execution_count": 37,
   "id": "e081b3ac",
   "metadata": {},
   "outputs": [
    {
     "data": {
      "text/html": [
       "<div>\n",
       "<style scoped>\n",
       "    .dataframe tbody tr th:only-of-type {\n",
       "        vertical-align: middle;\n",
       "    }\n",
       "\n",
       "    .dataframe tbody tr th {\n",
       "        vertical-align: top;\n",
       "    }\n",
       "\n",
       "    .dataframe thead th {\n",
       "        text-align: right;\n",
       "    }\n",
       "</style>\n",
       "<table border=\"1\" class=\"dataframe\">\n",
       "  <thead>\n",
       "    <tr style=\"text-align: right;\">\n",
       "      <th></th>\n",
       "      <th>Schools</th>\n",
       "      <th>Quarter_final_points</th>\n",
       "    </tr>\n",
       "  </thead>\n",
       "  <tbody>\n",
       "    <tr>\n",
       "      <th>0</th>\n",
       "      <td>Tamale SHS</td>\n",
       "      <td>38.0</td>\n",
       "    </tr>\n",
       "  </tbody>\n",
       "</table>\n",
       "</div>"
      ],
      "text/plain": [
       "      Schools  Quarter_final_points\n",
       "0  Tamale SHS                  38.0"
      ]
     },
     "execution_count": 37,
     "metadata": {},
     "output_type": "execute_result"
    }
   ],
   "source": [
    "nsmq_2022[nsmq_2022['Region']== 'Northern' ].groupby('Schools')['Quarter_final_points'].max().dropna(axis = 0).reset_index().sort_values(by = 'Quarter_final_points', ascending = False)"
   ]
  },
  {
   "cell_type": "code",
   "execution_count": 39,
   "id": "767cd9df",
   "metadata": {},
   "outputs": [
    {
     "data": {
      "text/html": [
       "<div>\n",
       "<style scoped>\n",
       "    .dataframe tbody tr th:only-of-type {\n",
       "        vertical-align: middle;\n",
       "    }\n",
       "\n",
       "    .dataframe tbody tr th {\n",
       "        vertical-align: top;\n",
       "    }\n",
       "\n",
       "    .dataframe thead th {\n",
       "        text-align: right;\n",
       "    }\n",
       "</style>\n",
       "<table border=\"1\" class=\"dataframe\">\n",
       "  <thead>\n",
       "    <tr style=\"text-align: right;\">\n",
       "      <th></th>\n",
       "      <th>Schools</th>\n",
       "      <th>Quarter_final_points</th>\n",
       "    </tr>\n",
       "  </thead>\n",
       "  <tbody>\n",
       "    <tr>\n",
       "      <th>0</th>\n",
       "      <td>St. Francis Xavier Jnr.Sem</td>\n",
       "      <td>31.0</td>\n",
       "    </tr>\n",
       "  </tbody>\n",
       "</table>\n",
       "</div>"
      ],
      "text/plain": [
       "                      Schools  Quarter_final_points\n",
       "0  St. Francis Xavier Jnr.Sem                  31.0"
      ]
     },
     "execution_count": 39,
     "metadata": {},
     "output_type": "execute_result"
    }
   ],
   "source": [
    "nsmq_2022[nsmq_2022['Region']== 'Upper West'].groupby('Schools')['Quarter_final_points'].max().dropna(axis = 0).reset_index().sort_values(by = 'Quarter_final_points', ascending = False)"
   ]
  },
  {
   "cell_type": "markdown",
   "id": "f22333db",
   "metadata": {},
   "source": [
    "### How many Schools from each Category participated in the quarter final"
   ]
  },
  {
   "cell_type": "code",
   "execution_count": 47,
   "id": "0f068d4e",
   "metadata": {},
   "outputs": [
    {
     "data": {
      "text/plain": [
       "Category  Quarter_final(W/E)\n",
       "A         W                     8\n",
       "          E                     7\n",
       "B         E                     8\n",
       "          W                     1\n",
       "C         E                     3\n",
       "Name: Quarter_final(W/E), dtype: int64"
      ]
     },
     "execution_count": 47,
     "metadata": {},
     "output_type": "execute_result"
    }
   ],
   "source": [
    "nsmq_2022.groupby('Category')['Quarter_final(W/E)'].value_counts()"
   ]
  },
  {
   "cell_type": "markdown",
   "id": "7a53909c",
   "metadata": {},
   "source": [
    "Out of the 27 schools that made it to the Quarter_final, Category A schools had the most representation with 15 Schools(8 won their contests, 7 lost) followed by Category B Schools with 9 representatives(8 being eliminated and 1 winning) and finally 3 Category C schools all of whom were eliminated "
   ]
  },
  {
   "cell_type": "markdown",
   "id": "659720a7",
   "metadata": {},
   "source": [
    "### Which Category of Schools had the Most and Least Accumulated Points in The quarter Final"
   ]
  },
  {
   "cell_type": "code",
   "execution_count": 58,
   "id": "d77c7281",
   "metadata": {},
   "outputs": [
    {
     "data": {
      "text/html": [
       "<div>\n",
       "<style scoped>\n",
       "    .dataframe tbody tr th:only-of-type {\n",
       "        vertical-align: middle;\n",
       "    }\n",
       "\n",
       "    .dataframe tbody tr th {\n",
       "        vertical-align: top;\n",
       "    }\n",
       "\n",
       "    .dataframe thead th {\n",
       "        text-align: right;\n",
       "    }\n",
       "</style>\n",
       "<table border=\"1\" class=\"dataframe\">\n",
       "  <thead>\n",
       "    <tr style=\"text-align: right;\">\n",
       "      <th></th>\n",
       "      <th>Category</th>\n",
       "      <th>Quarter_final_points</th>\n",
       "    </tr>\n",
       "  </thead>\n",
       "  <tbody>\n",
       "    <tr>\n",
       "      <th>0</th>\n",
       "      <td>A</td>\n",
       "      <td>633.0</td>\n",
       "    </tr>\n",
       "    <tr>\n",
       "      <th>1</th>\n",
       "      <td>B</td>\n",
       "      <td>360.0</td>\n",
       "    </tr>\n",
       "    <tr>\n",
       "      <th>2</th>\n",
       "      <td>C</td>\n",
       "      <td>93.0</td>\n",
       "    </tr>\n",
       "  </tbody>\n",
       "</table>\n",
       "</div>"
      ],
      "text/plain": [
       "  Category  Quarter_final_points\n",
       "0        A                 633.0\n",
       "1        B                 360.0\n",
       "2        C                  93.0"
      ]
     },
     "execution_count": 58,
     "metadata": {},
     "output_type": "execute_result"
    }
   ],
   "source": [
    "nsmq_2022.groupby('Category')['Quarter_final_points'].sum().reset_index().sort_values(by = 'Quarter_final_points' , ascending = False)"
   ]
  },
  {
   "cell_type": "markdown",
   "id": "e299d8f2",
   "metadata": {},
   "source": [
    "### How many Schools participated in the quarter finals by Gender "
   ]
  },
  {
   "cell_type": "code",
   "execution_count": 49,
   "id": "df962d1d",
   "metadata": {},
   "outputs": [
    {
     "data": {
      "text/plain": [
       "Gender  Quarter_final(W/E)\n",
       "Boys    W                      8\n",
       "        E                      6\n",
       "Mixed   E                     12\n",
       "        W                      1\n",
       "Name: Quarter_final(W/E), dtype: int64"
      ]
     },
     "execution_count": 49,
     "metadata": {},
     "output_type": "execute_result"
    }
   ],
   "source": [
    "nsmq_2022.groupby('Gender')['Quarter_final(W/E)'].value_counts()"
   ]
  },
  {
   "cell_type": "markdown",
   "id": "d969676b",
   "metadata": {},
   "source": [
    "In the quarter Finals, Boys Schools had 14 representation with Mixed Schools having 13 reprsentation and No Girls School Reprsentations"
   ]
  },
  {
   "cell_type": "markdown",
   "id": "5cf9a050",
   "metadata": {},
   "source": [
    "Category A Schools with 15 representations had the most points with 633 followed by Category B schools represented by 9 schools racking up 360 points with the least points of 93 accumulated by Category C schools being the least"
   ]
  },
  {
   "cell_type": "code",
   "execution_count": 57,
   "id": "55d50f44",
   "metadata": {},
   "outputs": [
    {
     "data": {
      "text/html": [
       "<div>\n",
       "<style scoped>\n",
       "    .dataframe tbody tr th:only-of-type {\n",
       "        vertical-align: middle;\n",
       "    }\n",
       "\n",
       "    .dataframe tbody tr th {\n",
       "        vertical-align: top;\n",
       "    }\n",
       "\n",
       "    .dataframe thead th {\n",
       "        text-align: right;\n",
       "    }\n",
       "</style>\n",
       "<table border=\"1\" class=\"dataframe\">\n",
       "  <thead>\n",
       "    <tr style=\"text-align: right;\">\n",
       "      <th></th>\n",
       "      <th>Gender</th>\n",
       "      <th>Quarter_final_points</th>\n",
       "    </tr>\n",
       "  </thead>\n",
       "  <tbody>\n",
       "    <tr>\n",
       "      <th>0</th>\n",
       "      <td>Boys</td>\n",
       "      <td>625.0</td>\n",
       "    </tr>\n",
       "    <tr>\n",
       "      <th>2</th>\n",
       "      <td>Mixed</td>\n",
       "      <td>461.0</td>\n",
       "    </tr>\n",
       "    <tr>\n",
       "      <th>1</th>\n",
       "      <td>Girls</td>\n",
       "      <td>0.0</td>\n",
       "    </tr>\n",
       "  </tbody>\n",
       "</table>\n",
       "</div>"
      ],
      "text/plain": [
       "  Gender  Quarter_final_points\n",
       "0   Boys                 625.0\n",
       "2  Mixed                 461.0\n",
       "1  Girls                   0.0"
      ]
     },
     "execution_count": 57,
     "metadata": {},
     "output_type": "execute_result"
    }
   ],
   "source": [
    "nsmq_2022.groupby('Gender')['Quarter_final_points'].sum().reset_index().sort_values(by = 'Quarter_final_points' , ascending = False)"
   ]
  },
  {
   "cell_type": "markdown",
   "id": "cdaf2c3a",
   "metadata": {},
   "source": [
    "Out Of the 1086 points accumulated in the Quarter Final, boys schools had 625 points and Mixed Schools had 461 points "
   ]
  },
  {
   "cell_type": "code",
   "execution_count": null,
   "id": "329b1eb0",
   "metadata": {},
   "outputs": [],
   "source": []
  },
  {
   "cell_type": "code",
   "execution_count": null,
   "id": "6842d109",
   "metadata": {},
   "outputs": [],
   "source": []
  },
  {
   "cell_type": "code",
   "execution_count": null,
   "id": "3f608ccf",
   "metadata": {},
   "outputs": [],
   "source": []
  },
  {
   "cell_type": "code",
   "execution_count": null,
   "id": "e1571176",
   "metadata": {},
   "outputs": [],
   "source": []
  },
  {
   "cell_type": "code",
   "execution_count": null,
   "id": "aca49c27",
   "metadata": {},
   "outputs": [],
   "source": []
  },
  {
   "cell_type": "code",
   "execution_count": 135,
   "id": "eefb82ca",
   "metadata": {},
   "outputs": [
    {
     "data": {
      "text/html": [
       "<div>\n",
       "<style scoped>\n",
       "    .dataframe tbody tr th:only-of-type {\n",
       "        vertical-align: middle;\n",
       "    }\n",
       "\n",
       "    .dataframe tbody tr th {\n",
       "        vertical-align: top;\n",
       "    }\n",
       "\n",
       "    .dataframe thead th {\n",
       "        text-align: right;\n",
       "    }\n",
       "</style>\n",
       "<table border=\"1\" class=\"dataframe\">\n",
       "  <thead>\n",
       "    <tr style=\"text-align: right;\">\n",
       "      <th></th>\n",
       "      <th>Schools</th>\n",
       "      <th>Semi_final_points</th>\n",
       "    </tr>\n",
       "  </thead>\n",
       "  <tbody>\n",
       "    <tr>\n",
       "      <th>54</th>\n",
       "      <td>Presec, Legon</td>\n",
       "      <td>51.0</td>\n",
       "    </tr>\n",
       "    <tr>\n",
       "      <th>51</th>\n",
       "      <td>Prempeh College</td>\n",
       "      <td>49.0</td>\n",
       "    </tr>\n",
       "    <tr>\n",
       "      <th>4</th>\n",
       "      <td>Adisadel College</td>\n",
       "      <td>45.0</td>\n",
       "    </tr>\n",
       "    <tr>\n",
       "      <th>0</th>\n",
       "      <td>Abetifi Presby SHS</td>\n",
       "      <td>43.0</td>\n",
       "    </tr>\n",
       "    <tr>\n",
       "      <th>36</th>\n",
       "      <td>Mfantsipim SHS</td>\n",
       "      <td>41.0</td>\n",
       "    </tr>\n",
       "    <tr>\n",
       "      <th>...</th>\n",
       "      <td>...</td>\n",
       "      <td>...</td>\n",
       "    </tr>\n",
       "    <tr>\n",
       "      <th>76</th>\n",
       "      <td>University Practice SHS</td>\n",
       "      <td>NaN</td>\n",
       "    </tr>\n",
       "    <tr>\n",
       "      <th>77</th>\n",
       "      <td>Wesley Girls' High School</td>\n",
       "      <td>NaN</td>\n",
       "    </tr>\n",
       "    <tr>\n",
       "      <th>78</th>\n",
       "      <td>Wesley SHS, Bekwai</td>\n",
       "      <td>NaN</td>\n",
       "    </tr>\n",
       "    <tr>\n",
       "      <th>79</th>\n",
       "      <td>West African SHS</td>\n",
       "      <td>NaN</td>\n",
       "    </tr>\n",
       "    <tr>\n",
       "      <th>80</th>\n",
       "      <td>Yaa Asantewaa Girls' SHS</td>\n",
       "      <td>NaN</td>\n",
       "    </tr>\n",
       "  </tbody>\n",
       "</table>\n",
       "<p>81 rows × 2 columns</p>\n",
       "</div>"
      ],
      "text/plain": [
       "                      Schools  Semi_final_points\n",
       "54              Presec, Legon               51.0\n",
       "51            Prempeh College               49.0\n",
       "4           Adisadel College                45.0\n",
       "0          Abetifi Presby SHS               43.0\n",
       "36             Mfantsipim SHS               41.0\n",
       "..                        ...                ...\n",
       "76    University Practice SHS                NaN\n",
       "77  Wesley Girls' High School                NaN\n",
       "78         Wesley SHS, Bekwai                NaN\n",
       "79           West African SHS                NaN\n",
       "80   Yaa Asantewaa Girls' SHS                NaN\n",
       "\n",
       "[81 rows x 2 columns]"
      ]
     },
     "execution_count": 135,
     "metadata": {},
     "output_type": "execute_result"
    }
   ],
   "source": [
    "semi_na = nsmq_2022.groupby('Schools')['Semi_final_points'].max().reset_index().sort_values(by = 'Semi_final_points', ascending = False)\n",
    "semi_na"
   ]
  },
  {
   "cell_type": "code",
   "execution_count": 136,
   "id": "624f22e5",
   "metadata": {},
   "outputs": [
    {
     "data": {
      "text/html": [
       "<div>\n",
       "<style scoped>\n",
       "    .dataframe tbody tr th:only-of-type {\n",
       "        vertical-align: middle;\n",
       "    }\n",
       "\n",
       "    .dataframe tbody tr th {\n",
       "        vertical-align: top;\n",
       "    }\n",
       "\n",
       "    .dataframe thead th {\n",
       "        text-align: right;\n",
       "    }\n",
       "</style>\n",
       "<table border=\"1\" class=\"dataframe\">\n",
       "  <thead>\n",
       "    <tr style=\"text-align: right;\">\n",
       "      <th></th>\n",
       "      <th>Schools</th>\n",
       "      <th>Semi_final_points</th>\n",
       "    </tr>\n",
       "  </thead>\n",
       "  <tbody>\n",
       "    <tr>\n",
       "      <th>54</th>\n",
       "      <td>Presec, Legon</td>\n",
       "      <td>51.0</td>\n",
       "    </tr>\n",
       "    <tr>\n",
       "      <th>51</th>\n",
       "      <td>Prempeh College</td>\n",
       "      <td>49.0</td>\n",
       "    </tr>\n",
       "    <tr>\n",
       "      <th>4</th>\n",
       "      <td>Adisadel College</td>\n",
       "      <td>45.0</td>\n",
       "    </tr>\n",
       "    <tr>\n",
       "      <th>0</th>\n",
       "      <td>Abetifi Presby SHS</td>\n",
       "      <td>43.0</td>\n",
       "    </tr>\n",
       "    <tr>\n",
       "      <th>36</th>\n",
       "      <td>Mfantsipim SHS</td>\n",
       "      <td>41.0</td>\n",
       "    </tr>\n",
       "    <tr>\n",
       "      <th>64</th>\n",
       "      <td>St.James Sem.SHS</td>\n",
       "      <td>35.0</td>\n",
       "    </tr>\n",
       "    <tr>\n",
       "      <th>46</th>\n",
       "      <td>Opoku Ware School</td>\n",
       "      <td>33.0</td>\n",
       "    </tr>\n",
       "    <tr>\n",
       "      <th>62</th>\n",
       "      <td>St.Augustine's College</td>\n",
       "      <td>22.0</td>\n",
       "    </tr>\n",
       "    <tr>\n",
       "      <th>31</th>\n",
       "      <td>Kumasi High School</td>\n",
       "      <td>8.0</td>\n",
       "    </tr>\n",
       "  </tbody>\n",
       "</table>\n",
       "</div>"
      ],
      "text/plain": [
       "                    Schools  Semi_final_points\n",
       "54            Presec, Legon               51.0\n",
       "51          Prempeh College               49.0\n",
       "4         Adisadel College                45.0\n",
       "0        Abetifi Presby SHS               43.0\n",
       "36           Mfantsipim SHS               41.0\n",
       "64         St.James Sem.SHS               35.0\n",
       "46        Opoku Ware School               33.0\n",
       "62  St.Augustine's College                22.0\n",
       "31       Kumasi High School                8.0"
      ]
     },
     "execution_count": 136,
     "metadata": {},
     "output_type": "execute_result"
    }
   ],
   "source": [
    "semi_na.dropna(axis = 0)"
   ]
  },
  {
   "cell_type": "code",
   "execution_count": 137,
   "id": "1d071322",
   "metadata": {},
   "outputs": [
    {
     "data": {
      "text/html": [
       "<div>\n",
       "<style scoped>\n",
       "    .dataframe tbody tr th:only-of-type {\n",
       "        vertical-align: middle;\n",
       "    }\n",
       "\n",
       "    .dataframe tbody tr th {\n",
       "        vertical-align: top;\n",
       "    }\n",
       "\n",
       "    .dataframe thead th {\n",
       "        text-align: right;\n",
       "    }\n",
       "</style>\n",
       "<table border=\"1\" class=\"dataframe\">\n",
       "  <thead>\n",
       "    <tr style=\"text-align: right;\">\n",
       "      <th></th>\n",
       "      <th>Schools</th>\n",
       "      <th>Final_points</th>\n",
       "    </tr>\n",
       "  </thead>\n",
       "  <tbody>\n",
       "    <tr>\n",
       "      <th>54</th>\n",
       "      <td>Presec, Legon</td>\n",
       "      <td>50.0</td>\n",
       "    </tr>\n",
       "    <tr>\n",
       "      <th>51</th>\n",
       "      <td>Prempeh College</td>\n",
       "      <td>41.0</td>\n",
       "    </tr>\n",
       "    <tr>\n",
       "      <th>4</th>\n",
       "      <td>Adisadel College</td>\n",
       "      <td>32.0</td>\n",
       "    </tr>\n",
       "    <tr>\n",
       "      <th>0</th>\n",
       "      <td>Abetifi Presby SHS</td>\n",
       "      <td>NaN</td>\n",
       "    </tr>\n",
       "    <tr>\n",
       "      <th>1</th>\n",
       "      <td>Accra Academy</td>\n",
       "      <td>NaN</td>\n",
       "    </tr>\n",
       "    <tr>\n",
       "      <th>...</th>\n",
       "      <td>...</td>\n",
       "      <td>...</td>\n",
       "    </tr>\n",
       "    <tr>\n",
       "      <th>76</th>\n",
       "      <td>University Practice SHS</td>\n",
       "      <td>NaN</td>\n",
       "    </tr>\n",
       "    <tr>\n",
       "      <th>77</th>\n",
       "      <td>Wesley Girls' High School</td>\n",
       "      <td>NaN</td>\n",
       "    </tr>\n",
       "    <tr>\n",
       "      <th>78</th>\n",
       "      <td>Wesley SHS, Bekwai</td>\n",
       "      <td>NaN</td>\n",
       "    </tr>\n",
       "    <tr>\n",
       "      <th>79</th>\n",
       "      <td>West African SHS</td>\n",
       "      <td>NaN</td>\n",
       "    </tr>\n",
       "    <tr>\n",
       "      <th>80</th>\n",
       "      <td>Yaa Asantewaa Girls' SHS</td>\n",
       "      <td>NaN</td>\n",
       "    </tr>\n",
       "  </tbody>\n",
       "</table>\n",
       "<p>81 rows × 2 columns</p>\n",
       "</div>"
      ],
      "text/plain": [
       "                      Schools  Final_points\n",
       "54              Presec, Legon          50.0\n",
       "51            Prempeh College          41.0\n",
       "4           Adisadel College           32.0\n",
       "0          Abetifi Presby SHS           NaN\n",
       "1              Accra Academy            NaN\n",
       "..                        ...           ...\n",
       "76    University Practice SHS           NaN\n",
       "77  Wesley Girls' High School           NaN\n",
       "78         Wesley SHS, Bekwai           NaN\n",
       "79           West African SHS           NaN\n",
       "80   Yaa Asantewaa Girls' SHS           NaN\n",
       "\n",
       "[81 rows x 2 columns]"
      ]
     },
     "execution_count": 137,
     "metadata": {},
     "output_type": "execute_result"
    }
   ],
   "source": [
    "final_na = nsmq_2022.groupby('Schools')['Final_points'].max().reset_index().sort_values(by = 'Final_points', ascending = False)\n",
    "final_na"
   ]
  },
  {
   "cell_type": "code",
   "execution_count": 138,
   "id": "f30fda94",
   "metadata": {},
   "outputs": [
    {
     "data": {
      "text/html": [
       "<div>\n",
       "<style scoped>\n",
       "    .dataframe tbody tr th:only-of-type {\n",
       "        vertical-align: middle;\n",
       "    }\n",
       "\n",
       "    .dataframe tbody tr th {\n",
       "        vertical-align: top;\n",
       "    }\n",
       "\n",
       "    .dataframe thead th {\n",
       "        text-align: right;\n",
       "    }\n",
       "</style>\n",
       "<table border=\"1\" class=\"dataframe\">\n",
       "  <thead>\n",
       "    <tr style=\"text-align: right;\">\n",
       "      <th></th>\n",
       "      <th>Schools</th>\n",
       "      <th>Final_points</th>\n",
       "    </tr>\n",
       "  </thead>\n",
       "  <tbody>\n",
       "    <tr>\n",
       "      <th>54</th>\n",
       "      <td>Presec, Legon</td>\n",
       "      <td>50.0</td>\n",
       "    </tr>\n",
       "    <tr>\n",
       "      <th>51</th>\n",
       "      <td>Prempeh College</td>\n",
       "      <td>41.0</td>\n",
       "    </tr>\n",
       "    <tr>\n",
       "      <th>4</th>\n",
       "      <td>Adisadel College</td>\n",
       "      <td>32.0</td>\n",
       "    </tr>\n",
       "  </tbody>\n",
       "</table>\n",
       "</div>"
      ],
      "text/plain": [
       "              Schools  Final_points\n",
       "54      Presec, Legon          50.0\n",
       "51    Prempeh College          41.0\n",
       "4   Adisadel College           32.0"
      ]
     },
     "execution_count": 138,
     "metadata": {},
     "output_type": "execute_result"
    }
   ],
   "source": [
    "final_na.dropna(axis = 0)"
   ]
  },
  {
   "cell_type": "code",
   "execution_count": null,
   "id": "f1972458",
   "metadata": {},
   "outputs": [],
   "source": []
  }
 ],
 "metadata": {
  "kernelspec": {
   "display_name": "Python 3 (ipykernel)",
   "language": "python",
   "name": "python3"
  },
  "language_info": {
   "codemirror_mode": {
    "name": "ipython",
    "version": 3
   },
   "file_extension": ".py",
   "mimetype": "text/x-python",
   "name": "python",
   "nbconvert_exporter": "python",
   "pygments_lexer": "ipython3",
   "version": "3.9.12"
  }
 },
 "nbformat": 4,
 "nbformat_minor": 5
}
